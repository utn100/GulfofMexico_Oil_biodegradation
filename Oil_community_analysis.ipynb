{
 "cells": [
  {
   "cell_type": "markdown",
   "metadata": {},
   "source": [
    "# Microbial community analysis for High P oil degradation project\n",
    "The input data is abundance of microbes up to genus level for samples in different categories: \n",
    "    orig (original sediments)\n",
    "    day0 (day 0 preincubation)\n",
    "    sample (post-incubation)\n",
    "Other info includes: OTU id, T, P, WaterDepth, Site name, Site ID, %Alk depletion, %PAH depletion, TOC, % Carbonate \n",
    "\n",
    "[I. Process the mothur exported files (0.03 taxonomy and 0.03 shared)](#I) <br>\n",
    "\n",
    "[II. Community Analysis](#II) <br>\n",
    "- [II-1. Taxonomic plots](#II-1)<br>\n",
    "\n",
    "[III. Statistical Anlysis](#III)<br>\n",
    "\n",
    "[IV. KEGG PICRUST analysis](#IV)<br>\n",
    "\n",
    "[V.Regression model](#V) <br>\n",
    "- [V-1. Model with all OTUs](#V1) <br>\n",
    "- [V-2. Model with most abudant genera](#V2) <br>"
   ]
  },
  {
   "cell_type": "code",
   "execution_count": 1,
   "metadata": {
    "collapsed": true
   },
   "outputs": [],
   "source": [
    "import pandas as pd\n",
    "import numpy as np\n",
    "import csv\n",
    "import string\n",
    "from functools import reduce\n",
    "\n",
    "import matplotlib.pyplot as plt\n",
    "import seaborn as sns\n",
    "%matplotlib inline\n",
    "import seaborn as sns"
   ]
  },
  {
   "cell_type": "markdown",
   "metadata": {},
   "source": [
    "## Process the mothur exported files (0.03 taxonomy and 0.03 shared) <a class=\"anchor\" id=\"I\"></a>"
   ]
  },
  {
   "cell_type": "code",
   "execution_count": 1019,
   "metadata": {
    "collapsed": true
   },
   "outputs": [],
   "source": [
    "with open(\"Oil_DNA_0.03.shared\",'r') as f:\n",
    "    lines = [line.rstrip() for line in f]\n",
    "\n",
    "#Convert lines into data frame of OTU table count\n",
    "shared = pd.DataFrame(columns=lines[0].split('\\t')[1:])\n",
    "for i in range(1,len(lines)):\n",
    "    shared.loc[i-1] = lines[i].split('\\t')[1:]\n",
    "shared.drop('numOtus',1,inplace=True)\n",
    "shared.rename(columns={'Group':'Sample'},inplace=True)\n",
    "\n",
    "#Calculate abundances of taxa\n",
    "#for i in range(shared.shape[0]):\n",
    "    #shared.loc[i][1:] = shared.loc[i][1:].astype(int)/shared.loc[i][1:].astype(int).sum()\n",
    "    \n",
    "shared.to_csv(\"Oil_DNA_0.03_OTUtable_count.csv\")"
   ]
  },
  {
   "cell_type": "code",
   "execution_count": 189,
   "metadata": {
    "collapsed": true
   },
   "outputs": [],
   "source": [
    "#Pivot the shared table so that it can be merged in the following steps\n",
    "Abundance = []\n",
    "for i in range(shared.shape[0]):\n",
    "    Abundance += list(shared.loc[i][1:])\n",
    "\n",
    "OTUs = list(shared.columns[1:]) * shared.shape[0]\n",
    "\n",
    "Samples = []\n",
    "for sample in shared['Sample']:\n",
    "    Samples += [sample] * 14155 \n",
    "\n",
    "shared_pivoted = pd.DataFrame({'OTU':OTUs,'Sample':Samples,'Abundance':Abundance})"
   ]
  },
  {
   "cell_type": "code",
   "execution_count": 225,
   "metadata": {},
   "outputs": [
    {
     "data": {
      "text/html": [
       "<div>\n",
       "<style scoped>\n",
       "    .dataframe tbody tr th:only-of-type {\n",
       "        vertical-align: middle;\n",
       "    }\n",
       "\n",
       "    .dataframe tbody tr th {\n",
       "        vertical-align: top;\n",
       "    }\n",
       "\n",
       "    .dataframe thead th {\n",
       "        text-align: right;\n",
       "    }\n",
       "</style>\n",
       "<table border=\"1\" class=\"dataframe\">\n",
       "  <thead>\n",
       "    <tr style=\"text-align: right;\">\n",
       "      <th></th>\n",
       "      <th>Group</th>\n",
       "      <th>Site</th>\n",
       "      <th>P</th>\n",
       "      <th>T</th>\n",
       "      <th>WD</th>\n",
       "      <th>TOC</th>\n",
       "      <th>Carb</th>\n",
       "      <th>Type</th>\n",
       "      <th>ALK</th>\n",
       "      <th>PAH</th>\n",
       "      <th>Pressure_regime</th>\n",
       "      <th>Temperature_regime</th>\n",
       "    </tr>\n",
       "  </thead>\n",
       "  <tbody>\n",
       "    <tr>\n",
       "      <th>0</th>\n",
       "      <td>10a</td>\n",
       "      <td>PCB06</td>\n",
       "      <td>9.40</td>\n",
       "      <td>4.0</td>\n",
       "      <td>1008.0</td>\n",
       "      <td>1.706308</td>\n",
       "      <td>31.0</td>\n",
       "      <td>sample</td>\n",
       "      <td>56.650126</td>\n",
       "      <td>7.500000</td>\n",
       "      <td>High P</td>\n",
       "      <td>Low T</td>\n",
       "    </tr>\n",
       "    <tr>\n",
       "      <th>1</th>\n",
       "      <td>10b</td>\n",
       "      <td>PCB06</td>\n",
       "      <td>9.40</td>\n",
       "      <td>4.0</td>\n",
       "      <td>1008.0</td>\n",
       "      <td>1.706308</td>\n",
       "      <td>31.0</td>\n",
       "      <td>sample</td>\n",
       "      <td>53.768832</td>\n",
       "      <td>21.900000</td>\n",
       "      <td>High P</td>\n",
       "      <td>Low T</td>\n",
       "    </tr>\n",
       "    <tr>\n",
       "      <th>2</th>\n",
       "      <td>10c</td>\n",
       "      <td>PCB06</td>\n",
       "      <td>0.10</td>\n",
       "      <td>4.0</td>\n",
       "      <td>1008.0</td>\n",
       "      <td>1.706308</td>\n",
       "      <td>31.0</td>\n",
       "      <td>day0</td>\n",
       "      <td>0.000000</td>\n",
       "      <td>0.000000</td>\n",
       "      <td>High P</td>\n",
       "      <td>Low T</td>\n",
       "    </tr>\n",
       "    <tr>\n",
       "      <th>3</th>\n",
       "      <td>10orig</td>\n",
       "      <td>PCB06</td>\n",
       "      <td>9.40</td>\n",
       "      <td>4.0</td>\n",
       "      <td>1008.0</td>\n",
       "      <td>1.706308</td>\n",
       "      <td>31.0</td>\n",
       "      <td>orig</td>\n",
       "      <td>NaN</td>\n",
       "      <td>NaN</td>\n",
       "      <td>High P</td>\n",
       "      <td>Low T</td>\n",
       "    </tr>\n",
       "    <tr>\n",
       "      <th>4</th>\n",
       "      <td>13a</td>\n",
       "      <td>DSH10</td>\n",
       "      <td>15.28</td>\n",
       "      <td>4.0</td>\n",
       "      <td>1520.0</td>\n",
       "      <td>1.551581</td>\n",
       "      <td>20.3</td>\n",
       "      <td>sample</td>\n",
       "      <td>43.373744</td>\n",
       "      <td>35.716582</td>\n",
       "      <td>High P</td>\n",
       "      <td>Low T</td>\n",
       "    </tr>\n",
       "  </tbody>\n",
       "</table>\n",
       "</div>"
      ],
      "text/plain": [
       "    Group   Site      P    T      WD       TOC  Carb    Type        ALK  \\\n",
       "0     10a  PCB06   9.40  4.0  1008.0  1.706308  31.0  sample  56.650126   \n",
       "1     10b  PCB06   9.40  4.0  1008.0  1.706308  31.0  sample  53.768832   \n",
       "2     10c  PCB06   0.10  4.0  1008.0  1.706308  31.0    day0   0.000000   \n",
       "3  10orig  PCB06   9.40  4.0  1008.0  1.706308  31.0    orig        NaN   \n",
       "4     13a  DSH10  15.28  4.0  1520.0  1.551581  20.3  sample  43.373744   \n",
       "\n",
       "         PAH Pressure_regime Temperature_regime  \n",
       "0   7.500000          High P              Low T  \n",
       "1  21.900000          High P              Low T  \n",
       "2   0.000000          High P              Low T  \n",
       "3        NaN          High P              Low T  \n",
       "4  35.716582          High P              Low T  "
      ]
     },
     "execution_count": 225,
     "metadata": {},
     "output_type": "execute_result"
    }
   ],
   "source": [
    "#Import sample meta data\n",
    "sample_map = pd.read_csv('Oil_DNA_map.csv')\n",
    "sample_map.head()"
   ]
  },
  {
   "cell_type": "code",
   "execution_count": 122,
   "metadata": {},
   "outputs": [
    {
     "data": {
      "text/plain": [
       "['Otu00001\\t17109\\tBacteria(100)',\n",
       " 'Proteobacteria(100)',\n",
       " 'Gammaproteobacteria(100)',\n",
       " 'Oceanospirillales(100)',\n",
       " 'Halomonadaceae(100)',\n",
       " 'unclassified(71)',\n",
       " '']"
      ]
     },
     "execution_count": 122,
     "metadata": {},
     "output_type": "execute_result"
    }
   ],
   "source": [
    "with open(\"Oil_DNA_0_03.taxonomy\",'r') as f:\n",
    "    taxon = [line.rstrip() for line in f]\n",
    "taxon[1].split(';')"
   ]
  },
  {
   "cell_type": "code",
   "execution_count": 119,
   "metadata": {
    "collapsed": true
   },
   "outputs": [],
   "source": [
    "Otus = [row.split(\";\")[0].split('\\t')[0] for row in taxon[1:]]\n",
    "Domain = [row.split(\";\")[0].split('\\t')[-1].split('(')[0] for row in taxon[1:]]\n",
    "Phylum = [row.split(\";\")[1].split('(')[0] for row in taxon[1:]]\n",
    "Class = [row.split(\";\")[2].split('(')[0] for row in taxon[1:]]\n",
    "Order = [row.split(\";\")[3].split('(')[0] for row in taxon[1:]]\n",
    "Family = [row.split(\";\")[4].split('(')[0] for row in taxon[1:]]\n",
    "Genus = [row.split(\";\")[5].split('(')[0] for row in taxon[1:]]"
   ]
  },
  {
   "cell_type": "code",
   "execution_count": 125,
   "metadata": {
    "collapsed": true
   },
   "outputs": [],
   "source": [
    "taxontable = pd.DataFrame({'OTU':Otus,'Domain':Domain,'Phylum':Phylum,\n",
    "                           'Class':Class,'Order':Order,'Family':Family,'Genus':Genus})\n",
    "taxontable.to_csv(\"Oil_DNA_0.03_taxonomytable.csv\")"
   ]
  },
  {
   "cell_type": "code",
   "execution_count": 226,
   "metadata": {
    "collapsed": true
   },
   "outputs": [],
   "source": [
    "# Merge all dfs to one and export to csv\n",
    "merge_df = pd.merge(shared_pivoted,taxontable,on=['OTU'])\n",
    "merge_df = pd.merge(merge_df,sample_map,left_on=['Sample'],right_on=['Group'])\n",
    "merge_df.drop('Group',1,inplace=True)\n",
    "merge_df.to_csv(\"Oil_DNA_0.03_combined_abundance.csv\")"
   ]
  },
  {
   "cell_type": "code",
   "execution_count": 298,
   "metadata": {
    "collapsed": true
   },
   "outputs": [],
   "source": [
    "morethan1percent=merge_df[merge_df[\"Abundance\"]>=0.005]"
   ]
  },
  {
   "cell_type": "code",
   "execution_count": 299,
   "metadata": {},
   "outputs": [
    {
     "data": {
      "text/plain": [
       "array(['Otu00416'], dtype=object)"
      ]
     },
     "execution_count": 299,
     "metadata": {},
     "output_type": "execute_result"
    }
   ],
   "source": [
    "morethan1percent[morethan1percent['Phylum']=='unclassified']['OTU'].unique()"
   ]
  },
  {
   "cell_type": "markdown",
   "metadata": {},
   "source": [
    "## Community analysis <a class=\"anchor\" id=\"II\"></a>"
   ]
  },
  {
   "cell_type": "code",
   "execution_count": 6,
   "metadata": {},
   "outputs": [
    {
     "data": {
      "text/html": [
       "<div>\n",
       "<style>\n",
       "    .dataframe thead tr:only-child th {\n",
       "        text-align: right;\n",
       "    }\n",
       "\n",
       "    .dataframe thead th {\n",
       "        text-align: left;\n",
       "    }\n",
       "\n",
       "    .dataframe tbody tr th {\n",
       "        vertical-align: top;\n",
       "    }\n",
       "</style>\n",
       "<table border=\"1\" class=\"dataframe\">\n",
       "  <thead>\n",
       "    <tr style=\"text-align: right;\">\n",
       "      <th></th>\n",
       "      <th>OTU</th>\n",
       "      <th>Sample</th>\n",
       "      <th>Abundance</th>\n",
       "      <th>Group</th>\n",
       "      <th>Site</th>\n",
       "      <th>P</th>\n",
       "      <th>T</th>\n",
       "      <th>WD</th>\n",
       "      <th>TOC</th>\n",
       "      <th>Carb</th>\n",
       "      <th>...</th>\n",
       "      <th>ALK</th>\n",
       "      <th>PAH</th>\n",
       "      <th>Pressure_regime</th>\n",
       "      <th>Temperature_regime</th>\n",
       "      <th>Kingdom</th>\n",
       "      <th>Phylum</th>\n",
       "      <th>Class</th>\n",
       "      <th>Order</th>\n",
       "      <th>Family</th>\n",
       "      <th>Genus</th>\n",
       "    </tr>\n",
       "  </thead>\n",
       "  <tbody>\n",
       "    <tr>\n",
       "      <th>0</th>\n",
       "      <td>Otu02939</td>\n",
       "      <td>8orig</td>\n",
       "      <td>0.000564</td>\n",
       "      <td>8orig</td>\n",
       "      <td>SL9150</td>\n",
       "      <td>2.5</td>\n",
       "      <td>10.0</td>\n",
       "      <td>251.0</td>\n",
       "      <td>2.214079</td>\n",
       "      <td>32.1</td>\n",
       "      <td>...</td>\n",
       "      <td>NaN</td>\n",
       "      <td>NaN</td>\n",
       "      <td>Low P</td>\n",
       "      <td>High T</td>\n",
       "      <td>Bacteria</td>\n",
       "      <td>Planctomycetes</td>\n",
       "      <td>028H05-P-BN-P5</td>\n",
       "      <td>028H05-P-BN-P5_or</td>\n",
       "      <td>028H05-P-BN-P5_fa</td>\n",
       "      <td>028H05-P-BN-P5_ge</td>\n",
       "    </tr>\n",
       "    <tr>\n",
       "      <th>1</th>\n",
       "      <td>Otu02939</td>\n",
       "      <td>13c</td>\n",
       "      <td>0.000473</td>\n",
       "      <td>13c</td>\n",
       "      <td>DSH10</td>\n",
       "      <td>0.1</td>\n",
       "      <td>4.0</td>\n",
       "      <td>1520.0</td>\n",
       "      <td>1.551581</td>\n",
       "      <td>20.3</td>\n",
       "      <td>...</td>\n",
       "      <td>0.0</td>\n",
       "      <td>0.000000</td>\n",
       "      <td>High P</td>\n",
       "      <td>Low T</td>\n",
       "      <td>Bacteria</td>\n",
       "      <td>Planctomycetes</td>\n",
       "      <td>028H05-P-BN-P5</td>\n",
       "      <td>028H05-P-BN-P5_or</td>\n",
       "      <td>028H05-P-BN-P5_fa</td>\n",
       "      <td>028H05-P-BN-P5_ge</td>\n",
       "    </tr>\n",
       "    <tr>\n",
       "      <th>2</th>\n",
       "      <td>Otu02939</td>\n",
       "      <td>8c</td>\n",
       "      <td>0.000325</td>\n",
       "      <td>8c</td>\n",
       "      <td>SL9150</td>\n",
       "      <td>0.1</td>\n",
       "      <td>4.0</td>\n",
       "      <td>251.0</td>\n",
       "      <td>2.214079</td>\n",
       "      <td>32.1</td>\n",
       "      <td>...</td>\n",
       "      <td>0.0</td>\n",
       "      <td>0.000000</td>\n",
       "      <td>Low P</td>\n",
       "      <td>High T</td>\n",
       "      <td>Bacteria</td>\n",
       "      <td>Planctomycetes</td>\n",
       "      <td>028H05-P-BN-P5</td>\n",
       "      <td>028H05-P-BN-P5_or</td>\n",
       "      <td>028H05-P-BN-P5_fa</td>\n",
       "      <td>028H05-P-BN-P5_ge</td>\n",
       "    </tr>\n",
       "    <tr>\n",
       "      <th>3</th>\n",
       "      <td>Otu02939</td>\n",
       "      <td>4orig</td>\n",
       "      <td>0.000261</td>\n",
       "      <td>4orig</td>\n",
       "      <td>SL1460</td>\n",
       "      <td>2.5</td>\n",
       "      <td>20.0</td>\n",
       "      <td>212.0</td>\n",
       "      <td>1.433782</td>\n",
       "      <td>43.8</td>\n",
       "      <td>...</td>\n",
       "      <td>NaN</td>\n",
       "      <td>NaN</td>\n",
       "      <td>Low P</td>\n",
       "      <td>High T</td>\n",
       "      <td>Bacteria</td>\n",
       "      <td>Planctomycetes</td>\n",
       "      <td>028H05-P-BN-P5</td>\n",
       "      <td>028H05-P-BN-P5_or</td>\n",
       "      <td>028H05-P-BN-P5_fa</td>\n",
       "      <td>028H05-P-BN-P5_ge</td>\n",
       "    </tr>\n",
       "    <tr>\n",
       "      <th>4</th>\n",
       "      <td>Otu02939</td>\n",
       "      <td>1b</td>\n",
       "      <td>0.000187</td>\n",
       "      <td>1b</td>\n",
       "      <td>DSH08</td>\n",
       "      <td>11.1</td>\n",
       "      <td>4.0</td>\n",
       "      <td>1127.0</td>\n",
       "      <td>1.959001</td>\n",
       "      <td>26.1</td>\n",
       "      <td>...</td>\n",
       "      <td>60.0</td>\n",
       "      <td>19.525762</td>\n",
       "      <td>High P</td>\n",
       "      <td>Low T</td>\n",
       "      <td>Bacteria</td>\n",
       "      <td>Planctomycetes</td>\n",
       "      <td>028H05-P-BN-P5</td>\n",
       "      <td>028H05-P-BN-P5_or</td>\n",
       "      <td>028H05-P-BN-P5_fa</td>\n",
       "      <td>028H05-P-BN-P5_ge</td>\n",
       "    </tr>\n",
       "  </tbody>\n",
       "</table>\n",
       "<p>5 rows × 21 columns</p>\n",
       "</div>"
      ],
      "text/plain": [
       "        OTU Sample  Abundance  Group    Site     P     T      WD       TOC  \\\n",
       "0  Otu02939  8orig   0.000564  8orig  SL9150   2.5  10.0   251.0  2.214079   \n",
       "1  Otu02939    13c   0.000473    13c   DSH10   0.1   4.0  1520.0  1.551581   \n",
       "2  Otu02939     8c   0.000325     8c  SL9150   0.1   4.0   251.0  2.214079   \n",
       "3  Otu02939  4orig   0.000261  4orig  SL1460   2.5  20.0   212.0  1.433782   \n",
       "4  Otu02939     1b   0.000187     1b   DSH08  11.1   4.0  1127.0  1.959001   \n",
       "\n",
       "   Carb        ...           ALK        PAH  Pressure_regime  \\\n",
       "0  32.1        ...           NaN        NaN            Low P   \n",
       "1  20.3        ...           0.0   0.000000           High P   \n",
       "2  32.1        ...           0.0   0.000000            Low P   \n",
       "3  43.8        ...           NaN        NaN            Low P   \n",
       "4  26.1        ...          60.0  19.525762           High P   \n",
       "\n",
       "  Temperature_regime   Kingdom          Phylum           Class  \\\n",
       "0             High T  Bacteria  Planctomycetes  028H05-P-BN-P5   \n",
       "1              Low T  Bacteria  Planctomycetes  028H05-P-BN-P5   \n",
       "2             High T  Bacteria  Planctomycetes  028H05-P-BN-P5   \n",
       "3             High T  Bacteria  Planctomycetes  028H05-P-BN-P5   \n",
       "4              Low T  Bacteria  Planctomycetes  028H05-P-BN-P5   \n",
       "\n",
       "               Order             Family              Genus  \n",
       "0  028H05-P-BN-P5_or  028H05-P-BN-P5_fa  028H05-P-BN-P5_ge  \n",
       "1  028H05-P-BN-P5_or  028H05-P-BN-P5_fa  028H05-P-BN-P5_ge  \n",
       "2  028H05-P-BN-P5_or  028H05-P-BN-P5_fa  028H05-P-BN-P5_ge  \n",
       "3  028H05-P-BN-P5_or  028H05-P-BN-P5_fa  028H05-P-BN-P5_ge  \n",
       "4  028H05-P-BN-P5_or  028H05-P-BN-P5_fa  028H05-P-BN-P5_ge  \n",
       "\n",
       "[5 rows x 21 columns]"
      ]
     },
     "execution_count": 6,
     "metadata": {},
     "output_type": "execute_result"
    }
   ],
   "source": [
    "# Import abundance data (calculated from R)\n",
    "genus = pd.read_csv('oil_genus_all.csv',index_col=0)\n",
    "genus_nona = genus.fillna(0)\n",
    "genus.head()"
   ]
  },
  {
   "cell_type": "code",
   "execution_count": 7,
   "metadata": {
    "collapsed": true
   },
   "outputs": [],
   "source": [
    "genus.loc[genus[genus['OTU']=='Otu00007'].index,['Order','Family','Genus']]=['Pseudomonadales','Pseudomonadaceae','Pseudomonas']\n",
    "genus.loc[genus[genus['OTU']=='Otu00014'].index,['Genus']]='Sulfitobacter'\n",
    "genus.loc[genus[genus['OTU']=='Otu00011'].index,['Genus']]='Pseudomonas'\n",
    "genus.loc[genus[genus['OTU']=='Otu00022'].index,['Genus']]='Olleya'\n",
    "genus.loc[genus[genus['OTU']=='Otu00001'].index,['Genus']]='Halomonas'\n",
    "genus.loc[genus[genus['OTU']=='Otu00023'].index,['Genus']]='Erythrobacter'\n",
    "genus.loc[genus[genus['OTU']=='Otu02030'].index,'Phylum'] = 'Crenarchaeota'\n",
    "genus.loc[genus[genus['OTU']=='Otu00392'].index,'Phylum'] ='Chloroflexi'"
   ]
  },
  {
   "cell_type": "code",
   "execution_count": null,
   "metadata": {
    "collapsed": true
   },
   "outputs": [],
   "source": [
    "df[(df['WD'].isin([1127, 1520, 1008])) & (df['P']==0.1) &(df['Type']=='sample')&(df['Abundance']>=0.01)].groupby(['Sample','Phylum']).sum().groupby('Phylum').mean()\n",
    "df[(df['Type']=='sample') &(df['WD']<251)].groupby('Kingdom').sum()['Abundance']\n",
    "df[df['Type']=='sample'].groupby(['Sample','Kingdom']).sum().groupby('Kingdom').mean()\n",
    "df[df['P']<=2.5].groupby('Class').std()\n",
    "df[df['P']>2.5].groupby('Class').mean()\n",
    "df[(df['Class']=='Alphaproteobacteria')&(df['Family']=='unclassified') & (df['Abundance']>0.01)]"
   ]
  },
  {
   "cell_type": "code",
   "execution_count": 186,
   "metadata": {},
   "outputs": [
    {
     "data": {
      "text/plain": [
       "array(['Otu00002'], dtype=object)"
      ]
     },
     "execution_count": 186,
     "metadata": {},
     "output_type": "execute_result"
    }
   ],
   "source": [
    "genus[(genus['Sample']=='13a')&(genus['Genus']=='Colwellia')]['OTU'].unique()"
   ]
  },
  {
   "cell_type": "code",
   "execution_count": 187,
   "metadata": {},
   "outputs": [
    {
     "data": {
      "text/plain": [
       "array(['Otu00002'], dtype=object)"
      ]
     },
     "execution_count": 187,
     "metadata": {},
     "output_type": "execute_result"
    }
   ],
   "source": [
    "genus[(genus['Sample']=='15a')&(genus['Genus']=='Colwellia')]['OTU'].unique()"
   ]
  },
  {
   "cell_type": "markdown",
   "metadata": {},
   "source": [
    "### Taxonomic plots  <a class=\"anchor\" id=\"II-1\"></a>"
   ]
  },
  {
   "cell_type": "code",
   "execution_count": 2,
   "metadata": {
    "collapsed": true
   },
   "outputs": [],
   "source": [
    "genus_colors=['#848484','#3d567f','#70b578','#8923c4','#ad4747','#e6b2ff',\n",
    "              '#ff009d','#7f8400','#a3f2ff','#c1093a','#6b7cc6','#fc4cff','#0f8c01',\n",
    "              '#ff8a00','#aeffa5','#cc8a3b','#ff7a9d','#ffd77a','#f9ffb2','#ff0202',\n",
    "              '#00fff2','#3a51ff','#73f4d8','#fffa00','#ff6600','#00b2ff','#cb00ff',\n",
    "              '#59ed28','#c7fce9','#d2d6d1','#d1cd9c','#9b6a47','#ff7777','#499b5a',\n",
    "              '#c49c68','#349dad','#b200ff','#7c0048','#289bc9']\n"
   ]
  },
  {
   "cell_type": "code",
   "execution_count": 3,
   "metadata": {
    "collapsed": true
   },
   "outputs": [],
   "source": [
    "def append_unknown(dataframe):\n",
    "    target_row = pd.DataFrame(dataframe.loc['unknown',:]).T\n",
    "    dataframe.drop('unknown',inplace=True)\n",
    "    dataframe = target_row.append(dataframe)\n",
    "    return dataframe\n",
    "\n",
    "def append_other_taxas(df1,df2,indexname):\n",
    "    s_dict = {}\n",
    "    for col in df1.columns:\n",
    "        s_dict[col]=1-df1[col].sum() #df2[col].sum()\n",
    "    s = pd.DataFrame(s_dict,index=[indexname])\n",
    "    df1 = s.append(df1)\n",
    "    return df1"
   ]
  },
  {
   "cell_type": "code",
   "execution_count": 4,
   "metadata": {
    "collapsed": true
   },
   "outputs": [],
   "source": [
    "def plot_clustered_stacked(dfall,genus_colors,level, labels=None, title=\"multiple stacked bar plot\",  H=\"/\", **kwargs):\n",
    "    \"\"\"\n",
    "    Given a list of dataframes, with identical columns and index, create a clustered stacked bar plot. \n",
    "    labels is a list of the names of the dataframe, used for the legend title is a string for the title of the plot H is the hatch used for identification of the different dataframe\n",
    "    dfall: list of dfs\n",
    "    \"\"\"\n",
    "\n",
    "    n_df = len(dfall)\n",
    "    n_col = len(dfall[0].columns) \n",
    "    n_ind = len(dfall[0].index)\n",
    "    axe = plt.subplot(111)\n",
    "\n",
    "    for df in dfall : # for each data frame\n",
    "        axe = df.plot(kind=\"bar\",\n",
    "                      linewidth=0.8,\n",
    "                      stacked=True,\n",
    "                      ax=axe,\n",
    "                      legend=False,\n",
    "                      grid=False,\n",
    "                      edgecolor = 'black',\n",
    "                      color=genus_colors,\n",
    "                      figsize=(10,7),\n",
    "                      **kwargs)  # make bar plots\n",
    "\n",
    "    h,l = axe.get_legend_handles_labels() # get the handles we want to modify\n",
    "\n",
    "    for i in range(0, n_df * n_col, n_col): # len(h) = n_col * n_df\n",
    "        for j, pa in enumerate(h[i:i+n_col]):\n",
    "            for rect in pa.patches: # for each index\n",
    "                rect.set_x(rect.get_x() + 1 / float(n_df + 1.5) * i / float(n_col))\n",
    "                rect.set_hatch(H * int((i-50) / n_col)) #edited part     \n",
    "                rect.set_width(1 / float(n_df + 2.5))\n",
    "\n",
    "    axe.set_xticks((np.arange(0, 2 * n_ind, 2) + 1 / float(n_df + 1)) / 2)\n",
    "    axe.set_xticklabels(df.index, rotation = 0,fontsize=14)#,ha='right')\n",
    "    #axe.set_title(title)\n",
    "\n",
    "    # Add invisible data to add another legend\n",
    "    #n=[]        \n",
    "    #for i in range(n_df):\n",
    "        #n.append(axe.bar(0, 0, color=\"gray\", hatch=H * i))\n",
    "\n",
    "    l1=axe.legend(h[::-1][n_col:], l[::-1][n_col:], loc='best', bbox_to_anchor=(1, 1))\n",
    "    #l1=axe.legend(h[:n_col],l[:n_col], loc=[1.01, 0.5])\n",
    "    if labels is not None:\n",
    "        l2 = plt.legend(n, labels, bbox_to_anchor=(1, 0.1))\n",
    "    \n",
    "    axe.add_artist(l1)\n",
    "    plt.ylabel(\"%s abundance\"%level,fontsize=13)\n",
    "\n",
    "    return axe"
   ]
  },
  {
   "cell_type": "code",
   "execution_count": 152,
   "metadata": {
    "collapsed": true
   },
   "outputs": [],
   "source": [
    "df = genus#[genus['Class']=='Gammaproteobacteria']\n",
    "level = 'Genus'"
   ]
  },
  {
   "cell_type": "code",
   "execution_count": 88,
   "metadata": {
    "collapsed": true
   },
   "outputs": [],
   "source": [
    "origs = df[df['Type']=='orig'][['WD',level,'Abundance']].sort_values(by='WD')\n",
    "samples_a = df[(df['Type']=='sample')&(df['Sample'].str.contains('a'))][['WD',level,'Abundance']].sort_values(by='WD')\n",
    "samples_b = df[(df['Type']=='sample')&(df['Sample'].str.contains('b'))][['WD',level,'Abundance']].sort_values(by='WD')\n",
    "day0 = df[(df['Type']=='day0')&(df['Sample']!='14c')][['WD',level,'Abundance']].sort_values(by='WD')\n",
    "control = df[df['Type']=='control'][['WD',level,'Abundance']].sort_values(by='WD')\n",
    "\n",
    "origs_pivot=pd.pivot_table(origs,index=level,columns='WD',values='Abundance',aggfunc='sum')\n",
    "day0_pivot = pd.pivot_table(day0,index=level,columns='WD',values='Abundance',aggfunc='sum')\n",
    "samples_a_pivot = pd.pivot_table(samples_a,index=level,columns='WD',values='Abundance',aggfunc='sum')\n",
    "samples_b_pivot = pd.pivot_table(samples_b,index=level,columns='WD',values='Abundance',aggfunc='sum')\n",
    "control_pivot = pd.pivot_table(control,index=level,columns='WD',values='Abundance',aggfunc='sum')"
   ]
  },
  {
   "cell_type": "code",
   "execution_count": 58,
   "metadata": {},
   "outputs": [
    {
     "data": {
      "text/plain": [
       "WD\n",
       "62.0      0.805163\n",
       "96.0      0.928493\n",
       "150.0     0.867387\n",
       "212.0     0.919201\n",
       "251.0     0.735915\n",
       "981.0     0.956817\n",
       "1008.0    0.881552\n",
       "1127.0    0.975319\n",
       "1520.0    0.913094\n",
       "dtype: float64"
      ]
     },
     "execution_count": 58,
     "metadata": {},
     "output_type": "execute_result"
    }
   ],
   "source": [
    "samples_a_pivot.loc['Gammaproteobacteria']+samples_a_pivot.loc['Alphaproteobacteria']#+samples_b_pivot.loc['Deltaproteobacteria']"
   ]
  },
  {
   "cell_type": "code",
   "execution_count": 20,
   "metadata": {},
   "outputs": [
    {
     "data": {
      "text/plain": [
       "count    9.000000\n",
       "mean     0.899121\n",
       "std      0.069759\n",
       "min      0.739437\n",
       "25%      0.883835\n",
       "50%      0.919838\n",
       "75%      0.932527\n",
       "max      0.979921\n",
       "Name: Proteobacteria, dtype: float64"
      ]
     },
     "execution_count": 20,
     "metadata": {},
     "output_type": "execute_result"
    }
   ],
   "source": [
    "samples_a_pivot.loc['Proteobacteria'].describe()"
   ]
  },
  {
   "cell_type": "code",
   "execution_count": null,
   "metadata": {
    "collapsed": true
   },
   "outputs": [],
   "source": []
  },
  {
   "cell_type": "code",
   "execution_count": 159,
   "metadata": {
    "collapsed": true
   },
   "outputs": [],
   "source": [
    "samples_a = df[df['Sample'].isin(['1a','4a','7a','13a'])][['WD',level,'Abundance']].sort_values(by='WD')\n",
    "samples_b = df[df['Sample'].isin(['1b','4b','7b','13b'])][['WD',level,'Abundance']].sort_values(by='WD')\n",
    "control = df[df['Sample'].isin(['1d','4d','7d','13d'])][['WD',level,'Abundance']].sort_values(by='WD')\n",
    "#dummy_b = df[df['Sample'].isin(['14b','15b','16b'])][['WD',level,'Abundance']].sort_values(by='WD')\n",
    "day0 = df[df['Sample'].isin(['1c','4c','7c','13c'])][['WD',level,'Abundance']].sort_values(by='WD')\n",
    "#orig = df[df['Sample'].isin(['1orig','10orig','13orig'])][['WD',level,'Abundance']].sort_values(by='WD')\n",
    "\n",
    "samples_a_pivot =pd.pivot_table(samples_a,index=level,columns='WD',values='Abundance',aggfunc='sum')\n",
    "samples_b_pivot  = pd.pivot_table(samples_b,index=level,columns='WD',values='Abundance',aggfunc='sum')\n",
    "control_pivot  = pd.pivot_table(control,index=level,columns='WD',values='Abundance',aggfunc='sum')\n",
    "#dummy_b_pivot = pd.pivot_table(dummy_b,index=level,columns='WD',values='Abundance',aggfunc='sum')\n",
    "day0_pivot = pd.pivot_table(day0,index=level,columns='WD',values='Abundance',aggfunc='sum')\n",
    "#orig_pivot = pd.pivot_table(orig,index=level,columns='WD',values='Abundance',aggfunc='sum')\n"
   ]
  },
  {
   "cell_type": "code",
   "execution_count": 181,
   "metadata": {
    "collapsed": true
   },
   "outputs": [],
   "source": [
    "table1a = samples_a_pivot.sort_values(by=[150],ascending=False).head(10).sort_values(by=150)\n",
    "table1b = samples_a_pivot.sort_values(by=[1520],ascending=False).head(10).sort_values(by=150)\n",
    "table1 = table1a.append(table1b)\n",
    "table1.drop_duplicates(inplace=True)\n",
    "\n",
    "table2 = samples_b_pivot.sort_values(by=[212],ascending=False).head(10)\n",
    "table2 = table2.append( samples_b_pivot.loc[list(set(table1.index)-set(table2.index))])\n",
    "table1 = samples_a_pivot.loc[list(set(table2.index)-set(table1.index))].append(table1)\n",
    "\n",
    "table4 = day0_pivot.sort_values(by=[150],ascending=False).head(10)\n",
    "table4 = table4.append(day0_pivot.loc[list(set(table1.index)-set(table4.index))])\n",
    "table1 = samples_a_pivot.loc[list(set(table4.index)-set(table1.index))].append(table1).sort_values(by=150)\n",
    "\n",
    "table3 = control_pivot.sort_values(by=[212],ascending=False).head(10)\n",
    "table3 = table3.append(control_pivot.loc[list(set(table1.index)-set(table3.index))])\n",
    "table1 = samples_a_pivot.loc[list(set(table3.index)-set(table1.index))].append(table1).sort_values(by=150)\n",
    "\n",
    "table2 = table2.reindex(table1.index)\n",
    "table4 = table4.reindex(table1.index)\n",
    "table3 = table3.reindex(table1.index)\n",
    "#table4 = dummy_b_pivot.loc[table1.index]\n",
    "#table5 = day0_pivot.loc[table1.index]\n",
    "[table1,table2,table3,table4] = [append_unknown(i) for i in [table1,table2,table3,table4]]"
   ]
  },
  {
   "cell_type": "code",
   "execution_count": 155,
   "metadata": {},
   "outputs": [
    {
     "data": {
      "text/html": [
       "<div>\n",
       "<style scoped>\n",
       "    .dataframe tbody tr th:only-of-type {\n",
       "        vertical-align: middle;\n",
       "    }\n",
       "\n",
       "    .dataframe tbody tr th {\n",
       "        vertical-align: top;\n",
       "    }\n",
       "\n",
       "    .dataframe thead th {\n",
       "        text-align: right;\n",
       "    }\n",
       "</style>\n",
       "<table border=\"1\" class=\"dataframe\">\n",
       "  <thead>\n",
       "    <tr style=\"text-align: right;\">\n",
       "      <th>WD</th>\n",
       "      <th>150.0</th>\n",
       "      <th>212.0</th>\n",
       "      <th>1127.0</th>\n",
       "      <th>1520.0</th>\n",
       "    </tr>\n",
       "  </thead>\n",
       "  <tbody>\n",
       "    <tr>\n",
       "      <th>unknown</th>\n",
       "      <td>0.018173</td>\n",
       "      <td>0.025303</td>\n",
       "      <td>0.060448</td>\n",
       "      <td>0.063731</td>\n",
       "    </tr>\n",
       "    <tr>\n",
       "      <th>Oceanospirillum</th>\n",
       "      <td>0.000000</td>\n",
       "      <td>0.000000</td>\n",
       "      <td>0.000000</td>\n",
       "      <td>0.000000</td>\n",
       "    </tr>\n",
       "    <tr>\n",
       "      <th>Salegentibacter</th>\n",
       "      <td>0.000000</td>\n",
       "      <td>0.000000</td>\n",
       "      <td>0.000418</td>\n",
       "      <td>0.000000</td>\n",
       "    </tr>\n",
       "    <tr>\n",
       "      <th>Gelidibacter</th>\n",
       "      <td>0.000000</td>\n",
       "      <td>0.000000</td>\n",
       "      <td>0.000000</td>\n",
       "      <td>0.035921</td>\n",
       "    </tr>\n",
       "    <tr>\n",
       "      <th>Moritella</th>\n",
       "      <td>0.000000</td>\n",
       "      <td>0.000000</td>\n",
       "      <td>0.003765</td>\n",
       "      <td>0.039397</td>\n",
       "    </tr>\n",
       "  </tbody>\n",
       "</table>\n",
       "</div>"
      ],
      "text/plain": [
       "WD                 150.0     212.0     1127.0    1520.0\n",
       "unknown          0.018173  0.025303  0.060448  0.063731\n",
       "Oceanospirillum  0.000000  0.000000  0.000000  0.000000\n",
       "Salegentibacter  0.000000  0.000000  0.000418  0.000000\n",
       "Gelidibacter     0.000000  0.000000  0.000000  0.035921\n",
       "Moritella        0.000000  0.000000  0.003765  0.039397"
      ]
     },
     "execution_count": 155,
     "metadata": {},
     "output_type": "execute_result"
    }
   ],
   "source": [
    "table1.head()"
   ]
  },
  {
   "cell_type": "code",
   "execution_count": 182,
   "metadata": {
    "collapsed": true
   },
   "outputs": [],
   "source": [
    "table1 = append_other_taxas(table1,samples_a_pivot,'Others')\n",
    "table2 = append_other_taxas(table2,samples_b_pivot,'Others')\n",
    "table3 = append_other_taxas(table3,control_pivot,'Others')\n",
    "table4 = append_other_taxas(table4,day0_pivot,'Others')\n",
    "#table5 = append_other_taxas(table5,day0_pivot,'Others')\n",
    "#table6 = append_other_taxas(table6,orig_pivot,'Others')"
   ]
  },
  {
   "cell_type": "code",
   "execution_count": 183,
   "metadata": {
    "collapsed": true
   },
   "outputs": [],
   "source": [
    "table1.columns = table1.columns.astype(int)\n",
    "table2.columns = table2.columns.astype(int)\n",
    "table3.columns = table3.columns.astype(int)\n",
    "table4.columns = table4.columns.astype(int)\n",
    "#table5.columns = table1.columns.astype(int)\n",
    "#table6.columns = table1.columns.astype(int)"
   ]
  },
  {
   "cell_type": "code",
   "execution_count": 185,
   "metadata": {
    "scrolled": false
   },
   "outputs": [
    {
     "data": {
      "image/png": "[encoded data removed]",
      "text/plain": [
       "<Figure size 720x504 with 1 Axes>"
      ]
     },
     "metadata": {
      "needs_background": "light"
     },
     "output_type": "display_data"
    }
   ],
   "source": [
    "plot_clustered_stacked([table4.T,table1.T,table2.T,table3.T],genus_colors,level='Genus')\n",
    "plt.savefig(\"Genus_control_groups.png\",bbox_inches='tight',dpi=300)"
   ]
  },
  {
   "cell_type": "code",
   "execution_count": 39,
   "metadata": {},
   "outputs": [
    {
     "data": {
      "text/plain": [
       "array([ 251., 1520.,  212., 1127.,   96.,   62.,  981.,  150.,   nan,\n",
       "       1008.])"
      ]
     },
     "execution_count": 39,
     "metadata": {},
     "output_type": "execute_result"
    }
   ],
   "source": [
    "genus['WD'].unique()"
   ]
  },
  {
   "cell_type": "code",
   "execution_count": 210,
   "metadata": {},
   "outputs": [],
   "source": [
    "depth = 1127\n",
    "subset = genus[genus['WD']==depth][['Sample','Genus','Abundance']]\n",
    "subset_pivot=pd.pivot_table(subset,index='Genus',columns='Sample',values='Abundance',aggfunc='sum')\n",
    "#subset_pivot.columns=subset_pivot.columns.astype(int)"
   ]
  },
  {
   "cell_type": "code",
   "execution_count": 211,
   "metadata": {},
   "outputs": [
    {
     "data": {
      "text/plain": [
       "['1orig', '1d', '1c', '1b', '1a', '14c', '14b', '14a']"
      ]
     },
     "execution_count": 211,
     "metadata": {},
     "output_type": "execute_result"
    }
   ],
   "source": [
    "sorted(subset['Sample'].unique(),reverse=True)"
   ]
  },
  {
   "cell_type": "code",
   "execution_count": 212,
   "metadata": {
    "collapsed": true
   },
   "outputs": [],
   "source": [
    "#orders = [62,96,150,212,251,981,1008,1127,1520]\n",
    "#orders=['5a','5b','3a','3b','7a','7b','4a','4b','8a','8b',\n",
    "        #'6a','6b','10a','10b','1a','1b','13a','13b']\n",
    "#orders=['5orig','7orig','4orig','8orig','3orig','6orig','10orig','1orig','13orig']\n",
    "orders = ['1orig', '1c', '14c','1d','1a','1b', '14a','14b']"
   ]
  },
  {
   "cell_type": "code",
   "execution_count": 216,
   "metadata": {
    "collapsed": true
   },
   "outputs": [],
   "source": [
    "xticklabels = ['original','day0_1','day0_2', 'no_oil','1a','1b', '14a','14b']"
   ]
  },
  {
   "cell_type": "code",
   "execution_count": 217,
   "metadata": {
    "scrolled": false
   },
   "outputs": [
    {
     "data": {
      "image/png": "[encoded data removed]",
      "text/plain": [
       "<Figure size 648x504 with 1 Axes>"
      ]
     },
     "metadata": {},
     "output_type": "display_data"
    }
   ],
   "source": [
    "data_to_plot=pd.DataFrame()\n",
    "for sample in orders:\n",
    "     data_to_plot=data_to_plot.append(subset_pivot.sort_values(by=sample,ascending=False).head(11))\n",
    "\n",
    "data_to_plot.drop_duplicates(inplace=True)\n",
    "data_to_plot=data_to_plot.sort_values(by='1c')\n",
    "\n",
    "s_dict = {}\n",
    "for col in data_to_plot.columns:\n",
    "    s_dict[col]=1-data_to_plot[col].sum()\n",
    "s = pd.DataFrame(s_dict,index=['Others'])\n",
    "data_to_plot = s.append(data_to_plot)\n",
    "\n",
    "target_row = pd.DataFrame(data_to_plot.loc['unknown',:]).T\n",
    "data_to_plot.drop('unknown',inplace=True)\n",
    "data_to_plot = target_row.append(data_to_plot)\n",
    "\n",
    "ax=data_to_plot.T.loc[orders].plot(kind='bar',stacked=True,figsize=(9,7),width = 0.6,\n",
    "         edgecolor = 'black',legend=False,color=genus_colors)\n",
    "handles, labels = ax.get_legend_handles_labels()\n",
    "ax.legend(handles[::-1], labels[::-1], loc='best', bbox_to_anchor=(1, 1.05))\n",
    "ax.set_xlabel('')\n",
    "ax.set_title('Site ' + genus[genus['WD']==depth]['Site'].iloc[0],fontsize=14)\n",
    "fig=plt.xticks(np.arange(0,len(orders),1),xticklabels,rotation=0,fontsize=11)\n",
    "#axe.set_xticks((np.arange(0, 2 * n_ind, 2) + 1 / float(n_df + 1)) / 2)\n",
    "\n",
    "plt.ylabel('Genus relative abundance',fontsize=13)\n",
    "plt.savefig(\"Web_figs/1_Genus.jpg\",bbox_inches='tight',dpi=300)"
   ]
  },
  {
   "cell_type": "code",
   "execution_count": 80,
   "metadata": {},
   "outputs": [
    {
     "data": {
      "text/plain": [
       "'file:///Users/uyennguyen/Documents/GOM_microbialcommunities/temp-plot.html'"
      ]
     },
     "execution_count": 80,
     "metadata": {},
     "output_type": "execute_result"
    }
   ],
   "source": [
    "import plotly.graph_objs as go\n",
    "import plotly.offline as pyo\n",
    "\n",
    "df = pd.read_csv('https://raw.githubusercontent.com/plotly/datasets/master/2015_06_30_precipitation.csv')\n",
    "\n",
    "scl = [0,\"rgb(150,0,90)\"],[0.125,\"rgb(0, 0, 200)\"],[0.25,\"rgb(0, 25, 255)\"],\\\n",
    "[0.375,\"rgb(0, 152, 255)\"],[0.5,\"rgb(44, 255, 150)\"],[0.625,\"rgb(151, 255, 0)\"],\\\n",
    "[0.75,\"rgb(255, 234, 0)\"],[0.875,\"rgb(255, 111, 0)\"],[1,\"rgb(255, 0, 0)\"]\n",
    "\n",
    "data = [ dict(\n",
    "    lat = df['Lat'],\n",
    "    lon = df['Lon'],\n",
    "    text = df['Globvalue'].astype(str) + ' inches',\n",
    "    marker = dict(\n",
    "        color = df['Globvalue'],\n",
    "        colorscale = scl,\n",
    "        reversescale = True,\n",
    "        opacity = 0.7,\n",
    "        size = 2,\n",
    "        colorbar = dict(\n",
    "            thickness = 10,\n",
    "            titleside = \"right\",\n",
    "            outlinecolor = \"rgba(68, 68, 68, 0)\",\n",
    "            ticks = \"outside\",\n",
    "            ticklen = 3,\n",
    "            showticksuffix = \"last\",\n",
    "            ticksuffix = \" inches\",\n",
    "            dtick = 0.1\n",
    "        ),\n",
    "    ),\n",
    "    type = 'scattergeo'\n",
    ") ]\n",
    "\n",
    "layout = dict(\n",
    "    geo = dict(\n",
    "        scope = 'north america',\n",
    "        showland = True,\n",
    "        landcolor = \"rgb(212, 212, 212)\",\n",
    "        subunitcolor = \"rgb(255, 255, 255)\",\n",
    "        countrycolor = \"rgb(255, 255, 255)\",\n",
    "        showlakes = True,\n",
    "        lakecolor = \"rgb(255, 255, 255)\",\n",
    "        showsubunits = True,\n",
    "        showcountries = True,\n",
    "        resolution = 50,\n",
    "        projection = dict(\n",
    "            type = 'conic conformal',\n",
    "            rotation = dict(\n",
    "                lon = -100\n",
    "            )\n",
    "        ),\n",
    "        lonaxis = dict(\n",
    "            showgrid = True,\n",
    "            gridwidth = 0.5,\n",
    "            range= [ -140.0, -55.0 ],\n",
    "            dtick = 5\n",
    "        ),\n",
    "        lataxis = dict (\n",
    "            showgrid = True,\n",
    "            gridwidth = 0.5,\n",
    "            range= [ 20.0, 60.0 ],\n",
    "            dtick = 5\n",
    "        )\n",
    "    ),\n",
    "    title = 'US Precipitation 06-30-2015<br>Source: <a href=\"http://water.weather.gov/precip/\">NOAA</a>',\n",
    ")\n",
    "fig = { 'data':data, 'layout':layout }\n",
    "pyo.plot(fig)"
   ]
  },
  {
   "cell_type": "code",
   "execution_count": 79,
   "metadata": {},
   "outputs": [
    {
     "data": {
      "text/plain": [
       "count    10000.000000\n",
       "mean         0.381026\n",
       "std          0.158754\n",
       "min          0.087500\n",
       "25%          0.270800\n",
       "50%          0.350000\n",
       "75%          0.461700\n",
       "max          1.330800\n",
       "Name: Globvalue, dtype: float64"
      ]
     },
     "execution_count": 79,
     "metadata": {},
     "output_type": "execute_result"
    }
   ],
   "source": [
    "df['Globvalue'].describe()"
   ]
  },
  {
   "cell_type": "markdown",
   "metadata": {
    "collapsed": true
   },
   "source": [
    "### Summarize at phylum level for each of category (sample, day0, orig) "
   ]
  },
  {
   "cell_type": "code",
   "execution_count": 288,
   "metadata": {
    "collapsed": true
   },
   "outputs": [],
   "source": [
    "def get_mean(df,col,kind,level,n):\n",
    "    '''\n",
    "    This function create a DataFrame containing the mean of microbial composition\n",
    "    at the chosen phylogenic level\n",
    "        df: input dataframe\n",
    "        kind: sample, orig, or day0\n",
    "        level: taxonomic level\n",
    "        n: number of rows wanted to print\n",
    "    '''\n",
    "    subdf= df[df[col]==kind].groupby(['Sample',level]).sum().groupby(level)['Abundance'].mean().sort_values(ascending=False).head(n).reset_index()\n",
    "    return subdf\n",
    "\n",
    "def get_stdev(df,col,kind,level,n):\n",
    "    '''\n",
    "    This function create a DataFrame containing standard deviation of microbial composition\n",
    "    at the chosen phylogenic level\n",
    "    '''\n",
    "    subdf= df[df[col]==kind].groupby(['Sample',level]).sum().groupby(level)['Abundance'].std().sort_values(ascending=False).head(n).reset_index()\n",
    "    return subdf"
   ]
  },
  {
   "cell_type": "code",
   "execution_count": 289,
   "metadata": {
    "collapsed": true
   },
   "outputs": [],
   "source": [
    "def summarize(df,col,kinds,level,n,func):\n",
    "    '''\n",
    "    col:'Type'\n",
    "    kinds = ['orig','day0','sample']\n",
    "    level: taxonomic level\n",
    "    n: number of rows wanted to print\n",
    "    func: mean or stdev\n",
    "    '''\n",
    "    if func == 'mean':\n",
    "        dfs = [get_mean(df,col,kind,level,n) for kind in kinds]\n",
    "    elif func == 'stdev':\n",
    "        dfs = [get_stdev(df,col,kind,level,n) for kind in kinds]\n",
    "    sum_df = reduce(lambda left,right: pd.merge(left,right,how='outer',on=level), dfs)\n",
    "    sum_df.columns = [level]+kinds\n",
    "    return sum_df\n"
   ]
  },
  {
   "cell_type": "code",
   "execution_count": 290,
   "metadata": {},
   "outputs": [
    {
     "data": {
      "text/plain": [
       "Index(['OTU', 'Sample', 'Abundance', 'Group', 'Site', 'P', 'T', 'WD', 'TOC',\n",
       "       'Carb', 'Type', 'ALK', 'PAH', 'Pressure_regime', 'Temperature_regime',\n",
       "       'Kingdom', 'Phylum', 'Class', 'Order', 'Family', 'Genus'],\n",
       "      dtype='object')"
      ]
     },
     "execution_count": 290,
     "metadata": {},
     "output_type": "execute_result"
    }
   ],
   "source": [
    "genus.columns"
   ]
  },
  {
   "cell_type": "code",
   "execution_count": 339,
   "metadata": {
    "collapsed": true
   },
   "outputs": [],
   "source": [
    "level='Genus'\n",
    "kinds = ['orig','day0','sample','control']\n",
    "n=20\n",
    "col = 'Type'\n",
    "sum_df = summarize(df[df['Phylum']=='Proteobacteria'],col,kinds,level,n,'mean')"
   ]
  },
  {
   "cell_type": "code",
   "execution_count": 340,
   "metadata": {
    "collapsed": true
   },
   "outputs": [],
   "source": [
    "sum_df[kinds] = round(100*sum_df[kinds],1)"
   ]
  },
  {
   "cell_type": "code",
   "execution_count": 341,
   "metadata": {
    "scrolled": true
   },
   "outputs": [
    {
     "data": {
      "text/html": [
       "<div>\n",
       "<style scoped>\n",
       "    .dataframe tbody tr th:only-of-type {\n",
       "        vertical-align: middle;\n",
       "    }\n",
       "\n",
       "    .dataframe tbody tr th {\n",
       "        vertical-align: top;\n",
       "    }\n",
       "\n",
       "    .dataframe thead th {\n",
       "        text-align: right;\n",
       "    }\n",
       "</style>\n",
       "<table border=\"1\" class=\"dataframe\">\n",
       "  <thead>\n",
       "    <tr style=\"text-align: right;\">\n",
       "      <th></th>\n",
       "      <th>Genus</th>\n",
       "      <th>orig</th>\n",
       "      <th>day0</th>\n",
       "      <th>sample</th>\n",
       "      <th>control</th>\n",
       "    </tr>\n",
       "  </thead>\n",
       "  <tbody>\n",
       "    <tr>\n",
       "      <th>0</th>\n",
       "      <td>unknown</td>\n",
       "      <td>20.4</td>\n",
       "      <td>3.9</td>\n",
       "      <td>3.2</td>\n",
       "      <td>5.7</td>\n",
       "    </tr>\n",
       "    <tr>\n",
       "      <th>1</th>\n",
       "      <td>Pseudomonas</td>\n",
       "      <td>5.7</td>\n",
       "      <td>6.2</td>\n",
       "      <td>12.6</td>\n",
       "      <td>11.5</td>\n",
       "    </tr>\n",
       "    <tr>\n",
       "      <th>2</th>\n",
       "      <td>JTB255_marine_benthic_group_ge</td>\n",
       "      <td>4.3</td>\n",
       "      <td>0.6</td>\n",
       "      <td>NaN</td>\n",
       "      <td>NaN</td>\n",
       "    </tr>\n",
       "    <tr>\n",
       "      <th>3</th>\n",
       "      <td>Colwellia</td>\n",
       "      <td>3.9</td>\n",
       "      <td>0.4</td>\n",
       "      <td>7.9</td>\n",
       "      <td>24.4</td>\n",
       "    </tr>\n",
       "    <tr>\n",
       "      <th>4</th>\n",
       "      <td>NB1-j_ge</td>\n",
       "      <td>3.3</td>\n",
       "      <td>0.4</td>\n",
       "      <td>NaN</td>\n",
       "      <td>NaN</td>\n",
       "    </tr>\n",
       "    <tr>\n",
       "      <th>5</th>\n",
       "      <td>Sulfitobacter</td>\n",
       "      <td>2.9</td>\n",
       "      <td>6.9</td>\n",
       "      <td>4.3</td>\n",
       "      <td>3.3</td>\n",
       "    </tr>\n",
       "    <tr>\n",
       "      <th>6</th>\n",
       "      <td>KI89A_clade_ge</td>\n",
       "      <td>0.7</td>\n",
       "      <td>NaN</td>\n",
       "      <td>NaN</td>\n",
       "      <td>NaN</td>\n",
       "    </tr>\n",
       "    <tr>\n",
       "      <th>7</th>\n",
       "      <td>BD7-8_marine_group_ge</td>\n",
       "      <td>0.6</td>\n",
       "      <td>NaN</td>\n",
       "      <td>NaN</td>\n",
       "      <td>NaN</td>\n",
       "    </tr>\n",
       "    <tr>\n",
       "      <th>8</th>\n",
       "      <td>Desulfobulbus</td>\n",
       "      <td>0.6</td>\n",
       "      <td>NaN</td>\n",
       "      <td>NaN</td>\n",
       "      <td>NaN</td>\n",
       "    </tr>\n",
       "    <tr>\n",
       "      <th>9</th>\n",
       "      <td>Psychrobium</td>\n",
       "      <td>0.6</td>\n",
       "      <td>NaN</td>\n",
       "      <td>1.1</td>\n",
       "      <td>3.0</td>\n",
       "    </tr>\n",
       "    <tr>\n",
       "      <th>10</th>\n",
       "      <td>Amphritea</td>\n",
       "      <td>0.5</td>\n",
       "      <td>0.1</td>\n",
       "      <td>1.4</td>\n",
       "      <td>7.9</td>\n",
       "    </tr>\n",
       "    <tr>\n",
       "      <th>11</th>\n",
       "      <td>Sva0071_ge</td>\n",
       "      <td>0.5</td>\n",
       "      <td>NaN</td>\n",
       "      <td>NaN</td>\n",
       "      <td>NaN</td>\n",
       "    </tr>\n",
       "    <tr>\n",
       "      <th>12</th>\n",
       "      <td>Sva0081_sediment_group</td>\n",
       "      <td>0.5</td>\n",
       "      <td>0.1</td>\n",
       "      <td>NaN</td>\n",
       "      <td>NaN</td>\n",
       "    </tr>\n",
       "    <tr>\n",
       "      <th>13</th>\n",
       "      <td>Moritella</td>\n",
       "      <td>0.4</td>\n",
       "      <td>NaN</td>\n",
       "      <td>1.5</td>\n",
       "      <td>2.9</td>\n",
       "    </tr>\n",
       "    <tr>\n",
       "      <th>14</th>\n",
       "      <td>Desulfatiglans</td>\n",
       "      <td>0.3</td>\n",
       "      <td>NaN</td>\n",
       "      <td>NaN</td>\n",
       "      <td>NaN</td>\n",
       "    </tr>\n",
       "    <tr>\n",
       "      <th>15</th>\n",
       "      <td>E01-9C-26_marine_group_ge</td>\n",
       "      <td>0.3</td>\n",
       "      <td>NaN</td>\n",
       "      <td>NaN</td>\n",
       "      <td>NaN</td>\n",
       "    </tr>\n",
       "    <tr>\n",
       "      <th>16</th>\n",
       "      <td>OM182_clade_ge</td>\n",
       "      <td>0.3</td>\n",
       "      <td>NaN</td>\n",
       "      <td>NaN</td>\n",
       "      <td>NaN</td>\n",
       "    </tr>\n",
       "    <tr>\n",
       "      <th>17</th>\n",
       "      <td>Granulosicoccus</td>\n",
       "      <td>0.3</td>\n",
       "      <td>NaN</td>\n",
       "      <td>NaN</td>\n",
       "      <td>NaN</td>\n",
       "    </tr>\n",
       "    <tr>\n",
       "      <th>18</th>\n",
       "      <td>Kangiella</td>\n",
       "      <td>0.3</td>\n",
       "      <td>0.3</td>\n",
       "      <td>NaN</td>\n",
       "      <td>NaN</td>\n",
       "    </tr>\n",
       "    <tr>\n",
       "      <th>19</th>\n",
       "      <td>Marinomonas</td>\n",
       "      <td>0.3</td>\n",
       "      <td>NaN</td>\n",
       "      <td>NaN</td>\n",
       "      <td>NaN</td>\n",
       "    </tr>\n",
       "    <tr>\n",
       "      <th>20</th>\n",
       "      <td>Psychrobacter</td>\n",
       "      <td>NaN</td>\n",
       "      <td>20.6</td>\n",
       "      <td>1.6</td>\n",
       "      <td>0.7</td>\n",
       "    </tr>\n",
       "    <tr>\n",
       "      <th>21</th>\n",
       "      <td>Halomonas</td>\n",
       "      <td>NaN</td>\n",
       "      <td>15.2</td>\n",
       "      <td>10.6</td>\n",
       "      <td>3.3</td>\n",
       "    </tr>\n",
       "    <tr>\n",
       "      <th>22</th>\n",
       "      <td>Alcanivorax</td>\n",
       "      <td>NaN</td>\n",
       "      <td>11.4</td>\n",
       "      <td>9.3</td>\n",
       "      <td>0.9</td>\n",
       "    </tr>\n",
       "    <tr>\n",
       "      <th>23</th>\n",
       "      <td>Erythrobacter</td>\n",
       "      <td>NaN</td>\n",
       "      <td>4.0</td>\n",
       "      <td>0.6</td>\n",
       "      <td>0.4</td>\n",
       "    </tr>\n",
       "    <tr>\n",
       "      <th>24</th>\n",
       "      <td>Shewanella</td>\n",
       "      <td>NaN</td>\n",
       "      <td>3.4</td>\n",
       "      <td>8.5</td>\n",
       "      <td>7.8</td>\n",
       "    </tr>\n",
       "    <tr>\n",
       "      <th>25</th>\n",
       "      <td>Roseobacter</td>\n",
       "      <td>NaN</td>\n",
       "      <td>3.1</td>\n",
       "      <td>2.5</td>\n",
       "      <td>0.2</td>\n",
       "    </tr>\n",
       "    <tr>\n",
       "      <th>26</th>\n",
       "      <td>Nitrincola</td>\n",
       "      <td>NaN</td>\n",
       "      <td>0.5</td>\n",
       "      <td>1.1</td>\n",
       "      <td>NaN</td>\n",
       "    </tr>\n",
       "    <tr>\n",
       "      <th>27</th>\n",
       "      <td>Cobetia</td>\n",
       "      <td>NaN</td>\n",
       "      <td>0.4</td>\n",
       "      <td>NaN</td>\n",
       "      <td>NaN</td>\n",
       "    </tr>\n",
       "    <tr>\n",
       "      <th>28</th>\n",
       "      <td>Methylophaga</td>\n",
       "      <td>NaN</td>\n",
       "      <td>0.2</td>\n",
       "      <td>NaN</td>\n",
       "      <td>NaN</td>\n",
       "    </tr>\n",
       "    <tr>\n",
       "      <th>29</th>\n",
       "      <td>Halomonadaceae_ge</td>\n",
       "      <td>NaN</td>\n",
       "      <td>0.2</td>\n",
       "      <td>NaN</td>\n",
       "      <td>NaN</td>\n",
       "    </tr>\n",
       "    <tr>\n",
       "      <th>30</th>\n",
       "      <td>Seohaeicola</td>\n",
       "      <td>NaN</td>\n",
       "      <td>0.1</td>\n",
       "      <td>0.5</td>\n",
       "      <td>NaN</td>\n",
       "    </tr>\n",
       "    <tr>\n",
       "      <th>31</th>\n",
       "      <td>Marinobacter</td>\n",
       "      <td>NaN</td>\n",
       "      <td>NaN</td>\n",
       "      <td>8.5</td>\n",
       "      <td>5.8</td>\n",
       "    </tr>\n",
       "    <tr>\n",
       "      <th>32</th>\n",
       "      <td>Pseudoalteromonas</td>\n",
       "      <td>NaN</td>\n",
       "      <td>NaN</td>\n",
       "      <td>5.3</td>\n",
       "      <td>1.0</td>\n",
       "    </tr>\n",
       "    <tr>\n",
       "      <th>33</th>\n",
       "      <td>Oleispira</td>\n",
       "      <td>NaN</td>\n",
       "      <td>NaN</td>\n",
       "      <td>3.3</td>\n",
       "      <td>2.4</td>\n",
       "    </tr>\n",
       "    <tr>\n",
       "      <th>34</th>\n",
       "      <td>Desulfovibrio</td>\n",
       "      <td>NaN</td>\n",
       "      <td>NaN</td>\n",
       "      <td>0.9</td>\n",
       "      <td>0.7</td>\n",
       "    </tr>\n",
       "    <tr>\n",
       "      <th>35</th>\n",
       "      <td>Marinobacterium</td>\n",
       "      <td>NaN</td>\n",
       "      <td>NaN</td>\n",
       "      <td>0.8</td>\n",
       "      <td>1.8</td>\n",
       "    </tr>\n",
       "    <tr>\n",
       "      <th>36</th>\n",
       "      <td>Oceanisphaera</td>\n",
       "      <td>NaN</td>\n",
       "      <td>NaN</td>\n",
       "      <td>NaN</td>\n",
       "      <td>4.7</td>\n",
       "    </tr>\n",
       "    <tr>\n",
       "      <th>37</th>\n",
       "      <td>Oceanospirillum</td>\n",
       "      <td>NaN</td>\n",
       "      <td>NaN</td>\n",
       "      <td>NaN</td>\n",
       "      <td>1.2</td>\n",
       "    </tr>\n",
       "  </tbody>\n",
       "</table>\n",
       "</div>"
      ],
      "text/plain": [
       "                             Genus  orig  day0  sample  control\n",
       "0                          unknown  20.4   3.9     3.2      5.7\n",
       "1                      Pseudomonas   5.7   6.2    12.6     11.5\n",
       "2   JTB255_marine_benthic_group_ge   4.3   0.6     NaN      NaN\n",
       "3                        Colwellia   3.9   0.4     7.9     24.4\n",
       "4                         NB1-j_ge   3.3   0.4     NaN      NaN\n",
       "5                    Sulfitobacter   2.9   6.9     4.3      3.3\n",
       "6                   KI89A_clade_ge   0.7   NaN     NaN      NaN\n",
       "7            BD7-8_marine_group_ge   0.6   NaN     NaN      NaN\n",
       "8                    Desulfobulbus   0.6   NaN     NaN      NaN\n",
       "9                      Psychrobium   0.6   NaN     1.1      3.0\n",
       "10                       Amphritea   0.5   0.1     1.4      7.9\n",
       "11                      Sva0071_ge   0.5   NaN     NaN      NaN\n",
       "12          Sva0081_sediment_group   0.5   0.1     NaN      NaN\n",
       "13                       Moritella   0.4   NaN     1.5      2.9\n",
       "14                  Desulfatiglans   0.3   NaN     NaN      NaN\n",
       "15       E01-9C-26_marine_group_ge   0.3   NaN     NaN      NaN\n",
       "16                  OM182_clade_ge   0.3   NaN     NaN      NaN\n",
       "17                 Granulosicoccus   0.3   NaN     NaN      NaN\n",
       "18                       Kangiella   0.3   0.3     NaN      NaN\n",
       "19                     Marinomonas   0.3   NaN     NaN      NaN\n",
       "20                   Psychrobacter   NaN  20.6     1.6      0.7\n",
       "21                       Halomonas   NaN  15.2    10.6      3.3\n",
       "22                     Alcanivorax   NaN  11.4     9.3      0.9\n",
       "23                   Erythrobacter   NaN   4.0     0.6      0.4\n",
       "24                      Shewanella   NaN   3.4     8.5      7.8\n",
       "25                     Roseobacter   NaN   3.1     2.5      0.2\n",
       "26                      Nitrincola   NaN   0.5     1.1      NaN\n",
       "27                         Cobetia   NaN   0.4     NaN      NaN\n",
       "28                    Methylophaga   NaN   0.2     NaN      NaN\n",
       "29               Halomonadaceae_ge   NaN   0.2     NaN      NaN\n",
       "30                     Seohaeicola   NaN   0.1     0.5      NaN\n",
       "31                    Marinobacter   NaN   NaN     8.5      5.8\n",
       "32               Pseudoalteromonas   NaN   NaN     5.3      1.0\n",
       "33                       Oleispira   NaN   NaN     3.3      2.4\n",
       "34                   Desulfovibrio   NaN   NaN     0.9      0.7\n",
       "35                 Marinobacterium   NaN   NaN     0.8      1.8\n",
       "36                   Oceanisphaera   NaN   NaN     NaN      4.7\n",
       "37                 Oceanospirillum   NaN   NaN     NaN      1.2"
      ]
     },
     "execution_count": 341,
     "metadata": {},
     "output_type": "execute_result"
    }
   ],
   "source": [
    "sum_df"
   ]
  },
  {
   "cell_type": "code",
   "execution_count": 39,
   "metadata": {},
   "outputs": [
    {
     "name": "stdout",
     "output_type": "stream",
     "text": [
      "    Kingdom      orig      day0   sample   control\n",
      "0  Bacteria  0.890628  0.988648  0.99729  0.995319\n",
      "1   Archaea  0.109373  0.011352  0.00271  0.004681\n",
      "    Kingdom      orig      day0    sample   control\n",
      "0  Bacteria  0.040892  0.012593  0.005368  0.005771\n",
      "1   Archaea  0.040892  0.012593  0.005368  0.005771\n"
     ]
    }
   ],
   "source": [
    "print(summarize(df,col,kinds,level,n,'mean'))\n",
    "print(summarize(df,col,kinds,level,n,'stdev'))"
   ]
  },
  {
   "cell_type": "code",
   "execution_count": null,
   "metadata": {
    "collapsed": true
   },
   "outputs": [],
   "source": [
    "sum_df.set_index(level,inplace=True)\n",
    "sum_df = sum_df.sort_values(by='Low T')\n",
    "\n",
    "s_dict = {}\n",
    "for col in sum_df.columns:\n",
    "    s_dict[col]=1-sum_df[col].sum()\n",
    "s = pd.DataFrame(s_dict,index=['Others'])\n",
    "sum_df = s.append(sum_df)\n",
    "\n",
    "target_row = pd.DataFrame(sum_df.loc['unknown',:]).T\n",
    "sum_df.drop('unknown',inplace=True)\n",
    "sum_df = target_row.append(sum_df)"
   ]
  },
  {
   "cell_type": "code",
   "execution_count": 32,
   "metadata": {},
   "outputs": [
    {
     "data": {
      "text/plain": [
       "Text(0,0.5,'Class composition (%)')"
      ]
     },
     "execution_count": 32,
     "metadata": {},
     "output_type": "execute_result"
    },
    {
     "data": {
      "image/png": "[encoded data removed]",
      "text/plain": [
       "<Figure size 504x504 with 1 Axes>"
      ]
     },
     "metadata": {
      "needs_background": "light"
     },
     "output_type": "display_data"
    }
   ],
   "source": [
    "ax=sum_df.T.loc[['High T', 'Low T']].plot(kind='bar',stacked=True,figsize=(7,7),width = 0.35,\n",
    "         edgecolor = 'black',legend=False,color=genus_colors)\n",
    "handles, labels = ax.get_legend_handles_labels()\n",
    "ax.legend(handles[::-1], labels[::-1], loc='best', bbox_to_anchor=(1, 1))\n",
    "#fig=plt.xticks(np.arange(9), rotation=90,fontsize=11)\n",
    "plt.ylabel('Class composition (%)',fontsize=13)\n",
    "#plt.savefig(\"Class_mean_compared.png\",bbox_inches='tight',dpi=300)"
   ]
  },
  {
   "cell_type": "code",
   "execution_count": 38,
   "metadata": {},
   "outputs": [
    {
     "data": {
      "text/plain": [
       "Genus\n",
       "Shewanella           0.209257\n",
       "Psychrobacter        0.062515\n",
       "Colwellia            0.052554\n",
       "Oleispira            0.035395\n",
       "Pseudoalteromonas    0.022875\n",
       "Psychrobium          0.022613\n",
       "Nitrincola           0.019418\n",
       "Moritella            0.012475\n",
       "unclassified         0.009551\n",
       "Halomonadaceae_ge    0.002601\n",
       "Name: Abundance, dtype: float64"
      ]
     },
     "execution_count": 38,
     "metadata": {},
     "output_type": "execute_result"
    }
   ],
   "source": [
    "df[(df['WD']==1008)&(df['P']>0.1)&(df['Type']=='sample')&(df['Class']=='Gammaproteobacteria')].groupby(['Genus'])['Abundance'].mean().sort_values(ascending=False).head(10)"
   ]
  },
  {
   "cell_type": "code",
   "execution_count": 105,
   "metadata": {},
   "outputs": [
    {
     "data": {
      "text/html": [
       "<div>\n",
       "<style>\n",
       "    .dataframe thead tr:only-child th {\n",
       "        text-align: right;\n",
       "    }\n",
       "\n",
       "    .dataframe thead th {\n",
       "        text-align: left;\n",
       "    }\n",
       "\n",
       "    .dataframe tbody tr th {\n",
       "        vertical-align: top;\n",
       "    }\n",
       "</style>\n",
       "<table border=\"1\" class=\"dataframe\">\n",
       "  <thead>\n",
       "    <tr style=\"text-align: right;\">\n",
       "      <th></th>\n",
       "      <th>Genus</th>\n",
       "      <th>Abundance_x</th>\n",
       "      <th>Abundance_y</th>\n",
       "      <th>Mean</th>\n",
       "    </tr>\n",
       "  </thead>\n",
       "  <tbody>\n",
       "    <tr>\n",
       "      <th>0</th>\n",
       "      <td>Alcanivorax</td>\n",
       "      <td>0.539218</td>\n",
       "      <td>0.257143</td>\n",
       "      <td>0.398180</td>\n",
       "    </tr>\n",
       "    <tr>\n",
       "      <th>1</th>\n",
       "      <td>Pseudoalteromonas</td>\n",
       "      <td>0.136373</td>\n",
       "      <td>0.072269</td>\n",
       "      <td>0.104321</td>\n",
       "    </tr>\n",
       "    <tr>\n",
       "      <th>2</th>\n",
       "      <td>unclassified</td>\n",
       "      <td>0.095587</td>\n",
       "      <td>0.096732</td>\n",
       "      <td>0.096159</td>\n",
       "    </tr>\n",
       "    <tr>\n",
       "      <th>3</th>\n",
       "      <td>Colwellia</td>\n",
       "      <td>0.051245</td>\n",
       "      <td>0.281979</td>\n",
       "      <td>0.166612</td>\n",
       "    </tr>\n",
       "    <tr>\n",
       "      <th>4</th>\n",
       "      <td>Amphritea</td>\n",
       "      <td>0.037649</td>\n",
       "      <td>0.023343</td>\n",
       "      <td>0.030496</td>\n",
       "    </tr>\n",
       "    <tr>\n",
       "      <th>5</th>\n",
       "      <td>Oleispira</td>\n",
       "      <td>0.036812</td>\n",
       "      <td>0.093557</td>\n",
       "      <td>0.065185</td>\n",
       "    </tr>\n",
       "    <tr>\n",
       "      <th>6</th>\n",
       "      <td>Psychrobacter</td>\n",
       "      <td>0.010667</td>\n",
       "      <td>0.031933</td>\n",
       "      <td>0.021300</td>\n",
       "    </tr>\n",
       "    <tr>\n",
       "      <th>7</th>\n",
       "      <td>Psychrobium</td>\n",
       "      <td>0.009621</td>\n",
       "      <td>0.027264</td>\n",
       "      <td>0.018443</td>\n",
       "    </tr>\n",
       "    <tr>\n",
       "      <th>8</th>\n",
       "      <td>Shewanella</td>\n",
       "      <td>0.005857</td>\n",
       "      <td>0.020915</td>\n",
       "      <td>0.013386</td>\n",
       "    </tr>\n",
       "  </tbody>\n",
       "</table>\n",
       "</div>"
      ],
      "text/plain": [
       "               Genus  Abundance_x  Abundance_y      Mean\n",
       "0        Alcanivorax     0.539218     0.257143  0.398180\n",
       "1  Pseudoalteromonas     0.136373     0.072269  0.104321\n",
       "2       unclassified     0.095587     0.096732  0.096159\n",
       "3          Colwellia     0.051245     0.281979  0.166612\n",
       "4          Amphritea     0.037649     0.023343  0.030496\n",
       "5          Oleispira     0.036812     0.093557  0.065185\n",
       "6      Psychrobacter     0.010667     0.031933  0.021300\n",
       "7        Psychrobium     0.009621     0.027264  0.018443\n",
       "8         Shewanella     0.005857     0.020915  0.013386"
      ]
     },
     "execution_count": 105,
     "metadata": {},
     "output_type": "execute_result"
    }
   ],
   "source": [
    "a10 = df[(df['Sample']=='1a')&(df['Class']=='Gammaproteobacteria')].groupby('Genus')['Abundance'].sum().sort_values(ascending=False).head(10).reset_index()\n",
    "b10 = df[(df['Sample']=='1b') &(df['Class']=='Gammaproteobacteria')].groupby('Genus')['Abundance'].sum().sort_values(ascending=False).head(10).reset_index()\n",
    "ab10 = pd.merge(a10,b10,on=['Genus'])\n",
    "ab10['Mean'] = (ab10['Abundance_x']+ab10['Abundance_y'])/2\n",
    "ab10"
   ]
  },
  {
   "cell_type": "code",
   "execution_count": 107,
   "metadata": {},
   "outputs": [
    {
     "data": {
      "text/html": [
       "<div>\n",
       "<style>\n",
       "    .dataframe thead tr:only-child th {\n",
       "        text-align: right;\n",
       "    }\n",
       "\n",
       "    .dataframe thead th {\n",
       "        text-align: left;\n",
       "    }\n",
       "\n",
       "    .dataframe tbody tr th {\n",
       "        vertical-align: top;\n",
       "    }\n",
       "</style>\n",
       "<table border=\"1\" class=\"dataframe\">\n",
       "  <thead>\n",
       "    <tr style=\"text-align: right;\">\n",
       "      <th></th>\n",
       "      <th>Genus</th>\n",
       "      <th>Abundance_x</th>\n",
       "      <th>Abundance_y</th>\n",
       "      <th>Mean</th>\n",
       "    </tr>\n",
       "  </thead>\n",
       "  <tbody>\n",
       "    <tr>\n",
       "      <th>0</th>\n",
       "      <td>Pseudoalteromonas</td>\n",
       "      <td>0.829341</td>\n",
       "      <td>0.751440</td>\n",
       "      <td>0.790390</td>\n",
       "    </tr>\n",
       "    <tr>\n",
       "      <th>1</th>\n",
       "      <td>unclassified</td>\n",
       "      <td>0.046847</td>\n",
       "      <td>0.050144</td>\n",
       "      <td>0.048496</td>\n",
       "    </tr>\n",
       "    <tr>\n",
       "      <th>2</th>\n",
       "      <td>Shewanella</td>\n",
       "      <td>0.042268</td>\n",
       "      <td>0.048944</td>\n",
       "      <td>0.045606</td>\n",
       "    </tr>\n",
       "    <tr>\n",
       "      <th>3</th>\n",
       "      <td>Psychrobacter</td>\n",
       "      <td>0.027122</td>\n",
       "      <td>0.008397</td>\n",
       "      <td>0.017760</td>\n",
       "    </tr>\n",
       "    <tr>\n",
       "      <th>4</th>\n",
       "      <td>Marinomonas</td>\n",
       "      <td>0.005107</td>\n",
       "      <td>0.001440</td>\n",
       "      <td>0.003273</td>\n",
       "    </tr>\n",
       "    <tr>\n",
       "      <th>5</th>\n",
       "      <td>Colwellia</td>\n",
       "      <td>0.004051</td>\n",
       "      <td>0.005758</td>\n",
       "      <td>0.004904</td>\n",
       "    </tr>\n",
       "    <tr>\n",
       "      <th>6</th>\n",
       "      <td>Moritella</td>\n",
       "      <td>0.003170</td>\n",
       "      <td>0.002639</td>\n",
       "      <td>0.002905</td>\n",
       "    </tr>\n",
       "  </tbody>\n",
       "</table>\n",
       "</div>"
      ],
      "text/plain": [
       "               Genus  Abundance_x  Abundance_y      Mean\n",
       "0  Pseudoalteromonas     0.829341     0.751440  0.790390\n",
       "1       unclassified     0.046847     0.050144  0.048496\n",
       "2         Shewanella     0.042268     0.048944  0.045606\n",
       "3      Psychrobacter     0.027122     0.008397  0.017760\n",
       "4        Marinomonas     0.005107     0.001440  0.003273\n",
       "5          Colwellia     0.004051     0.005758  0.004904\n",
       "6          Moritella     0.003170     0.002639  0.002905"
      ]
     },
     "execution_count": 107,
     "metadata": {},
     "output_type": "execute_result"
    }
   ],
   "source": [
    "a15 = df[(df['Sample']=='14a') &(df['Class']=='Gammaproteobacteria')].groupby('Genus')['Abundance'].sum().sort_values(ascending=False).head(10).reset_index()\n",
    "b15 = df[(df['Sample']=='14b') &(df['Class']=='Gammaproteobacteria')].groupby('Genus')['Abundance'].sum().sort_values(ascending=False).head(10).reset_index()\n",
    "ab15 = pd.merge(a15,b15,on=['Genus'])\n",
    "ab15['Mean'] = (ab15['Abundance_x']+ab15['Abundance_y'])/2\n",
    "ab15"
   ]
  },
  {
   "cell_type": "code",
   "execution_count": 61,
   "metadata": {},
   "outputs": [
    {
     "data": {
      "text/plain": [
       "Genus\n",
       "Pseudoalteromonas    0.402690\n",
       "Shewanella           0.154500\n",
       "Colwellia            0.141723\n",
       "Oleispira            0.060245\n",
       "Moritella            0.052366\n",
       "Oceanisphaera        0.037987\n",
       "Alcanivorax          0.030640\n",
       "unclassified         0.025386\n",
       "Psychrobium          0.018557\n",
       "Nitrincola           0.014913\n",
       "Name: Abundance, dtype: float64"
      ]
     },
     "execution_count": 61,
     "metadata": {},
     "output_type": "execute_result"
    }
   ],
   "source": [
    "df[(df['WD'].isin([1127, 1520, 1008])) & (df['P']==0.1) &(df['Type']=='sample')&(df['Class']=='Gammaproteobacteria')].groupby('Genus')['Abundance'].std().sort_values(ascending=False).head(10)\n"
   ]
  },
  {
   "cell_type": "code",
   "execution_count": 287,
   "metadata": {
    "collapsed": true
   },
   "outputs": [],
   "source": [
    "def comparelevel(df,kind,level1,level1name,level2,n):\n",
    "    df1_mean = df[(df['WD']>252) & (df['P']>0.1) &(df['Type']==kind)&(df[level1]==level1name)].groupby(level2)['Abundance'].mean().sort_values(ascending=False).head(n).reset_index()\n",
    "    df1_std = df[(df['WD']>252) & (df['P']>0.1) &(df['Type']==kind)&(df[level1]==level1name)].groupby(level2)['Abundance'].std().sort_values(ascending=False).head(20).reset_index()\n",
    "\n",
    "    df2_mean = df[(df['WD']<=252)  & (df['Type']==kind)&(df[level1]==level1name)].groupby(level2)['Abundance'].mean().sort_values(ascending=False).head(20).reset_index()\n",
    "    df2_std = df[(df['WD']<=252)  & (df['Type']==kind)&(df[level1]==level1name)].groupby(level2)['Abundance'].std().sort_values(ascending=False).head(20).reset_index()\n",
    "    dfs = [df1_mean,df1_std,df2_mean,df2_std]\n",
    "    merge = reduce(lambda left,right:pd.merge(left,right,how='outer',on=[level2]),dfs)\n",
    "    merge.columns = [level2,'Deep_mean','Deep_std','Shallow_mean','Shallow_std']\n",
    "    return merge\n"
   ]
  },
  {
   "cell_type": "code",
   "execution_count": 96,
   "metadata": {},
   "outputs": [
    {
     "data": {
      "text/html": [
       "<div>\n",
       "<style>\n",
       "    .dataframe thead tr:only-child th {\n",
       "        text-align: right;\n",
       "    }\n",
       "\n",
       "    .dataframe thead th {\n",
       "        text-align: left;\n",
       "    }\n",
       "\n",
       "    .dataframe tbody tr th {\n",
       "        vertical-align: top;\n",
       "    }\n",
       "</style>\n",
       "<table border=\"1\" class=\"dataframe\">\n",
       "  <thead>\n",
       "    <tr style=\"text-align: right;\">\n",
       "      <th></th>\n",
       "      <th>Genus</th>\n",
       "      <th>Deep_mean</th>\n",
       "      <th>Deep_std</th>\n",
       "      <th>Shallow_mean</th>\n",
       "      <th>Shallow_std</th>\n",
       "    </tr>\n",
       "  </thead>\n",
       "  <tbody>\n",
       "    <tr>\n",
       "      <th>0</th>\n",
       "      <td>JTB255_marine_benthic_group_ge</td>\n",
       "      <td>0.049738</td>\n",
       "      <td>0.008038</td>\n",
       "      <td>0.038269</td>\n",
       "      <td>0.008676</td>\n",
       "    </tr>\n",
       "    <tr>\n",
       "      <th>1</th>\n",
       "      <td>Colwellia</td>\n",
       "      <td>0.038422</td>\n",
       "      <td>0.023309</td>\n",
       "      <td>0.039484</td>\n",
       "      <td>0.027919</td>\n",
       "    </tr>\n",
       "    <tr>\n",
       "      <th>2</th>\n",
       "      <td>BD7-8_marine_group_ge</td>\n",
       "      <td>0.006947</td>\n",
       "      <td>0.003713</td>\n",
       "      <td>0.006137</td>\n",
       "      <td>0.002545</td>\n",
       "    </tr>\n",
       "    <tr>\n",
       "      <th>3</th>\n",
       "      <td>KI89A_clade_ge</td>\n",
       "      <td>0.005768</td>\n",
       "      <td>0.003928</td>\n",
       "      <td>0.007270</td>\n",
       "      <td>0.002685</td>\n",
       "    </tr>\n",
       "    <tr>\n",
       "      <th>4</th>\n",
       "      <td>uncultured_ge</td>\n",
       "      <td>0.005293</td>\n",
       "      <td>0.005551</td>\n",
       "      <td>0.003401</td>\n",
       "      <td>0.003362</td>\n",
       "    </tr>\n",
       "    <tr>\n",
       "      <th>5</th>\n",
       "      <td>Psychrobium</td>\n",
       "      <td>0.005140</td>\n",
       "      <td>0.003805</td>\n",
       "      <td>0.006835</td>\n",
       "      <td>0.006492</td>\n",
       "    </tr>\n",
       "    <tr>\n",
       "      <th>6</th>\n",
       "      <td>Moritella</td>\n",
       "      <td>0.004351</td>\n",
       "      <td>0.002407</td>\n",
       "      <td>0.003012</td>\n",
       "      <td>0.004042</td>\n",
       "    </tr>\n",
       "    <tr>\n",
       "      <th>7</th>\n",
       "      <td>OM182_clade_ge</td>\n",
       "      <td>0.003958</td>\n",
       "      <td>0.002648</td>\n",
       "      <td>0.002092</td>\n",
       "      <td>0.001469</td>\n",
       "    </tr>\n",
       "    <tr>\n",
       "      <th>8</th>\n",
       "      <td>Granulosicoccus</td>\n",
       "      <td>0.003902</td>\n",
       "      <td>0.004447</td>\n",
       "      <td>0.001848</td>\n",
       "      <td>NaN</td>\n",
       "    </tr>\n",
       "    <tr>\n",
       "      <th>9</th>\n",
       "      <td>Kangiella</td>\n",
       "      <td>0.003671</td>\n",
       "      <td>0.002548</td>\n",
       "      <td>0.001706</td>\n",
       "      <td>0.001692</td>\n",
       "    </tr>\n",
       "    <tr>\n",
       "      <th>10</th>\n",
       "      <td>unclassified</td>\n",
       "      <td>0.003382</td>\n",
       "      <td>0.010675</td>\n",
       "      <td>0.003549</td>\n",
       "      <td>0.010368</td>\n",
       "    </tr>\n",
       "    <tr>\n",
       "      <th>11</th>\n",
       "      <td>E01-9C-26_marine_group_ge</td>\n",
       "      <td>0.003186</td>\n",
       "      <td>0.001763</td>\n",
       "      <td>0.002873</td>\n",
       "      <td>NaN</td>\n",
       "    </tr>\n",
       "    <tr>\n",
       "      <th>12</th>\n",
       "      <td>Pseudohongiella</td>\n",
       "      <td>0.002949</td>\n",
       "      <td>NaN</td>\n",
       "      <td>NaN</td>\n",
       "      <td>NaN</td>\n",
       "    </tr>\n",
       "    <tr>\n",
       "      <th>13</th>\n",
       "      <td>Sva0071_ge</td>\n",
       "      <td>0.002780</td>\n",
       "      <td>NaN</td>\n",
       "      <td>0.007436</td>\n",
       "      <td>0.004159</td>\n",
       "    </tr>\n",
       "    <tr>\n",
       "      <th>14</th>\n",
       "      <td>Thalassomonas</td>\n",
       "      <td>0.002128</td>\n",
       "      <td>0.002270</td>\n",
       "      <td>NaN</td>\n",
       "      <td>NaN</td>\n",
       "    </tr>\n",
       "    <tr>\n",
       "      <th>15</th>\n",
       "      <td>Pseudoalteromonas</td>\n",
       "      <td>0.001754</td>\n",
       "      <td>0.003509</td>\n",
       "      <td>NaN</td>\n",
       "      <td>NaN</td>\n",
       "    </tr>\n",
       "    <tr>\n",
       "      <th>16</th>\n",
       "      <td>BD2-7_ge</td>\n",
       "      <td>0.001717</td>\n",
       "      <td>NaN</td>\n",
       "      <td>NaN</td>\n",
       "      <td>NaN</td>\n",
       "    </tr>\n",
       "    <tr>\n",
       "      <th>17</th>\n",
       "      <td>uncultured</td>\n",
       "      <td>0.001715</td>\n",
       "      <td>0.003205</td>\n",
       "      <td>0.002820</td>\n",
       "      <td>0.007063</td>\n",
       "    </tr>\n",
       "    <tr>\n",
       "      <th>18</th>\n",
       "      <td>Motiliproteus</td>\n",
       "      <td>0.001635</td>\n",
       "      <td>0.001530</td>\n",
       "      <td>NaN</td>\n",
       "      <td>NaN</td>\n",
       "    </tr>\n",
       "    <tr>\n",
       "      <th>19</th>\n",
       "      <td>Oleispira</td>\n",
       "      <td>0.001603</td>\n",
       "      <td>NaN</td>\n",
       "      <td>NaN</td>\n",
       "      <td>0.001360</td>\n",
       "    </tr>\n",
       "    <tr>\n",
       "      <th>20</th>\n",
       "      <td>Amphritea</td>\n",
       "      <td>NaN</td>\n",
       "      <td>0.002445</td>\n",
       "      <td>0.008644</td>\n",
       "      <td>0.008933</td>\n",
       "    </tr>\n",
       "    <tr>\n",
       "      <th>21</th>\n",
       "      <td>Nitrincola</td>\n",
       "      <td>NaN</td>\n",
       "      <td>0.001692</td>\n",
       "      <td>NaN</td>\n",
       "      <td>NaN</td>\n",
       "    </tr>\n",
       "    <tr>\n",
       "      <th>22</th>\n",
       "      <td>X35_ge</td>\n",
       "      <td>NaN</td>\n",
       "      <td>0.001680</td>\n",
       "      <td>NaN</td>\n",
       "      <td>NaN</td>\n",
       "    </tr>\n",
       "    <tr>\n",
       "      <th>23</th>\n",
       "      <td>Coxiella</td>\n",
       "      <td>NaN</td>\n",
       "      <td>0.001564</td>\n",
       "      <td>NaN</td>\n",
       "      <td>NaN</td>\n",
       "    </tr>\n",
       "    <tr>\n",
       "      <th>24</th>\n",
       "      <td>Marinomonas</td>\n",
       "      <td>NaN</td>\n",
       "      <td>NaN</td>\n",
       "      <td>0.004087</td>\n",
       "      <td>0.003234</td>\n",
       "    </tr>\n",
       "    <tr>\n",
       "      <th>25</th>\n",
       "      <td>Aestuariicella</td>\n",
       "      <td>NaN</td>\n",
       "      <td>NaN</td>\n",
       "      <td>0.004037</td>\n",
       "      <td>0.005399</td>\n",
       "    </tr>\n",
       "    <tr>\n",
       "      <th>26</th>\n",
       "      <td>Shewanella</td>\n",
       "      <td>NaN</td>\n",
       "      <td>NaN</td>\n",
       "      <td>0.003995</td>\n",
       "      <td>0.006136</td>\n",
       "    </tr>\n",
       "    <tr>\n",
       "      <th>27</th>\n",
       "      <td>Psychromonas</td>\n",
       "      <td>NaN</td>\n",
       "      <td>NaN</td>\n",
       "      <td>0.003466</td>\n",
       "      <td>0.004016</td>\n",
       "    </tr>\n",
       "    <tr>\n",
       "      <th>28</th>\n",
       "      <td>Oleiphilus</td>\n",
       "      <td>NaN</td>\n",
       "      <td>NaN</td>\n",
       "      <td>0.001975</td>\n",
       "      <td>0.002186</td>\n",
       "    </tr>\n",
       "    <tr>\n",
       "      <th>29</th>\n",
       "      <td>Thiogranum</td>\n",
       "      <td>NaN</td>\n",
       "      <td>NaN</td>\n",
       "      <td>NaN</td>\n",
       "      <td>0.001572</td>\n",
       "    </tr>\n",
       "  </tbody>\n",
       "</table>\n",
       "</div>"
      ],
      "text/plain": [
       "                             Genus  Deep_mean  Deep_std  Shallow_mean  \\\n",
       "0   JTB255_marine_benthic_group_ge   0.049738  0.008038      0.038269   \n",
       "1                        Colwellia   0.038422  0.023309      0.039484   \n",
       "2            BD7-8_marine_group_ge   0.006947  0.003713      0.006137   \n",
       "3                   KI89A_clade_ge   0.005768  0.003928      0.007270   \n",
       "4                    uncultured_ge   0.005293  0.005551      0.003401   \n",
       "5                      Psychrobium   0.005140  0.003805      0.006835   \n",
       "6                        Moritella   0.004351  0.002407      0.003012   \n",
       "7                   OM182_clade_ge   0.003958  0.002648      0.002092   \n",
       "8                  Granulosicoccus   0.003902  0.004447      0.001848   \n",
       "9                        Kangiella   0.003671  0.002548      0.001706   \n",
       "10                    unclassified   0.003382  0.010675      0.003549   \n",
       "11       E01-9C-26_marine_group_ge   0.003186  0.001763      0.002873   \n",
       "12                 Pseudohongiella   0.002949       NaN           NaN   \n",
       "13                      Sva0071_ge   0.002780       NaN      0.007436   \n",
       "14                   Thalassomonas   0.002128  0.002270           NaN   \n",
       "15               Pseudoalteromonas   0.001754  0.003509           NaN   \n",
       "16                        BD2-7_ge   0.001717       NaN           NaN   \n",
       "17                      uncultured   0.001715  0.003205      0.002820   \n",
       "18                   Motiliproteus   0.001635  0.001530           NaN   \n",
       "19                       Oleispira   0.001603       NaN           NaN   \n",
       "20                       Amphritea        NaN  0.002445      0.008644   \n",
       "21                      Nitrincola        NaN  0.001692           NaN   \n",
       "22                          X35_ge        NaN  0.001680           NaN   \n",
       "23                        Coxiella        NaN  0.001564           NaN   \n",
       "24                     Marinomonas        NaN       NaN      0.004087   \n",
       "25                  Aestuariicella        NaN       NaN      0.004037   \n",
       "26                      Shewanella        NaN       NaN      0.003995   \n",
       "27                    Psychromonas        NaN       NaN      0.003466   \n",
       "28                      Oleiphilus        NaN       NaN      0.001975   \n",
       "29                      Thiogranum        NaN       NaN           NaN   \n",
       "\n",
       "    Shallow_std  \n",
       "0      0.008676  \n",
       "1      0.027919  \n",
       "2      0.002545  \n",
       "3      0.002685  \n",
       "4      0.003362  \n",
       "5      0.006492  \n",
       "6      0.004042  \n",
       "7      0.001469  \n",
       "8           NaN  \n",
       "9      0.001692  \n",
       "10     0.010368  \n",
       "11          NaN  \n",
       "12          NaN  \n",
       "13     0.004159  \n",
       "14          NaN  \n",
       "15          NaN  \n",
       "16          NaN  \n",
       "17     0.007063  \n",
       "18          NaN  \n",
       "19     0.001360  \n",
       "20     0.008933  \n",
       "21          NaN  \n",
       "22          NaN  \n",
       "23          NaN  \n",
       "24     0.003234  \n",
       "25     0.005399  \n",
       "26     0.006136  \n",
       "27     0.004016  \n",
       "28     0.002186  \n",
       "29     0.001572  "
      ]
     },
     "execution_count": 96,
     "metadata": {},
     "output_type": "execute_result"
    }
   ],
   "source": [
    "comparelevel(genus,'orig','Class','Gammaproteobacteria','Genus')"
   ]
  },
  {
   "cell_type": "code",
   "execution_count": 81,
   "metadata": {},
   "outputs": [
    {
     "data": {
      "text/html": [
       "<div>\n",
       "<style>\n",
       "    .dataframe thead tr:only-child th {\n",
       "        text-align: right;\n",
       "    }\n",
       "\n",
       "    .dataframe thead th {\n",
       "        text-align: left;\n",
       "    }\n",
       "\n",
       "    .dataframe tbody tr th {\n",
       "        vertical-align: top;\n",
       "    }\n",
       "</style>\n",
       "<table border=\"1\" class=\"dataframe\">\n",
       "  <thead>\n",
       "    <tr style=\"text-align: right;\">\n",
       "      <th></th>\n",
       "      <th>Genus</th>\n",
       "      <th>Deep_mean</th>\n",
       "      <th>Deep_std</th>\n",
       "      <th>Shallow_mean</th>\n",
       "      <th>Shallow_std</th>\n",
       "    </tr>\n",
       "  </thead>\n",
       "  <tbody>\n",
       "    <tr>\n",
       "      <th>0</th>\n",
       "      <td>unclassified</td>\n",
       "      <td>0.004245</td>\n",
       "      <td>0.008053</td>\n",
       "      <td>0.003504</td>\n",
       "      <td>0.009398</td>\n",
       "    </tr>\n",
       "    <tr>\n",
       "      <th>1</th>\n",
       "      <td>Sneathiella</td>\n",
       "      <td>0.002470</td>\n",
       "      <td>0.002603</td>\n",
       "      <td>NaN</td>\n",
       "      <td>NaN</td>\n",
       "    </tr>\n",
       "    <tr>\n",
       "      <th>2</th>\n",
       "      <td>Pelagibius</td>\n",
       "      <td>0.001932</td>\n",
       "      <td>0.001423</td>\n",
       "      <td>NaN</td>\n",
       "      <td>NaN</td>\n",
       "    </tr>\n",
       "    <tr>\n",
       "      <th>3</th>\n",
       "      <td>OCS116_clade_ge</td>\n",
       "      <td>0.001467</td>\n",
       "      <td>0.001378</td>\n",
       "      <td>0.001217</td>\n",
       "      <td>0.001505</td>\n",
       "    </tr>\n",
       "    <tr>\n",
       "      <th>4</th>\n",
       "      <td>uncultured</td>\n",
       "      <td>0.001362</td>\n",
       "      <td>0.003722</td>\n",
       "      <td>NaN</td>\n",
       "      <td>0.001638</td>\n",
       "    </tr>\n",
       "    <tr>\n",
       "      <th>5</th>\n",
       "      <td>AT-s3-44_ge</td>\n",
       "      <td>0.001190</td>\n",
       "      <td>0.001376</td>\n",
       "      <td>NaN</td>\n",
       "      <td>NaN</td>\n",
       "    </tr>\n",
       "    <tr>\n",
       "      <th>6</th>\n",
       "      <td>Methyloceanibacter</td>\n",
       "      <td>0.001173</td>\n",
       "      <td>0.002193</td>\n",
       "      <td>0.002521</td>\n",
       "      <td>0.001283</td>\n",
       "    </tr>\n",
       "    <tr>\n",
       "      <th>7</th>\n",
       "      <td>Erythrobacter</td>\n",
       "      <td>0.001088</td>\n",
       "      <td>0.001408</td>\n",
       "      <td>0.001228</td>\n",
       "      <td>0.001035</td>\n",
       "    </tr>\n",
       "    <tr>\n",
       "      <th>8</th>\n",
       "      <td>Filomicrobium</td>\n",
       "      <td>0.000912</td>\n",
       "      <td>0.001082</td>\n",
       "      <td>0.001591</td>\n",
       "      <td>0.001540</td>\n",
       "    </tr>\n",
       "    <tr>\n",
       "      <th>9</th>\n",
       "      <td>Emcibacter</td>\n",
       "      <td>0.000806</td>\n",
       "      <td>NaN</td>\n",
       "      <td>0.001094</td>\n",
       "      <td>NaN</td>\n",
       "    </tr>\n",
       "    <tr>\n",
       "      <th>10</th>\n",
       "      <td>Terasakiella</td>\n",
       "      <td>NaN</td>\n",
       "      <td>0.000797</td>\n",
       "      <td>NaN</td>\n",
       "      <td>NaN</td>\n",
       "    </tr>\n",
       "    <tr>\n",
       "      <th>11</th>\n",
       "      <td>Seohaeicola</td>\n",
       "      <td>NaN</td>\n",
       "      <td>NaN</td>\n",
       "      <td>0.002756</td>\n",
       "      <td>0.002308</td>\n",
       "    </tr>\n",
       "    <tr>\n",
       "      <th>12</th>\n",
       "      <td>TK34_ge</td>\n",
       "      <td>NaN</td>\n",
       "      <td>NaN</td>\n",
       "      <td>0.001492</td>\n",
       "      <td>0.001828</td>\n",
       "    </tr>\n",
       "    <tr>\n",
       "      <th>13</th>\n",
       "      <td>Roseobacter</td>\n",
       "      <td>NaN</td>\n",
       "      <td>NaN</td>\n",
       "      <td>0.001097</td>\n",
       "      <td>0.000940</td>\n",
       "    </tr>\n",
       "    <tr>\n",
       "      <th>14</th>\n",
       "      <td>Kiloniella</td>\n",
       "      <td>NaN</td>\n",
       "      <td>NaN</td>\n",
       "      <td>0.000980</td>\n",
       "      <td>0.001485</td>\n",
       "    </tr>\n",
       "  </tbody>\n",
       "</table>\n",
       "</div>"
      ],
      "text/plain": [
       "                 Genus  Deep_mean  Deep_std  Shallow_mean  Shallow_std\n",
       "0         unclassified   0.004245  0.008053      0.003504     0.009398\n",
       "1          Sneathiella   0.002470  0.002603           NaN          NaN\n",
       "2           Pelagibius   0.001932  0.001423           NaN          NaN\n",
       "3      OCS116_clade_ge   0.001467  0.001378      0.001217     0.001505\n",
       "4           uncultured   0.001362  0.003722           NaN     0.001638\n",
       "5          AT-s3-44_ge   0.001190  0.001376           NaN          NaN\n",
       "6   Methyloceanibacter   0.001173  0.002193      0.002521     0.001283\n",
       "7        Erythrobacter   0.001088  0.001408      0.001228     0.001035\n",
       "8        Filomicrobium   0.000912  0.001082      0.001591     0.001540\n",
       "9           Emcibacter   0.000806       NaN      0.001094          NaN\n",
       "10        Terasakiella        NaN  0.000797           NaN          NaN\n",
       "11         Seohaeicola        NaN       NaN      0.002756     0.002308\n",
       "12             TK34_ge        NaN       NaN      0.001492     0.001828\n",
       "13         Roseobacter        NaN       NaN      0.001097     0.000940\n",
       "14          Kiloniella        NaN       NaN      0.000980     0.001485"
      ]
     },
     "execution_count": 81,
     "metadata": {},
     "output_type": "execute_result"
    }
   ],
   "source": [
    "comparelevel(df,'orig','Class','Alphaproteobacteria','Genus')"
   ]
  },
  {
   "cell_type": "code",
   "execution_count": 78,
   "metadata": {},
   "outputs": [
    {
     "data": {
      "text/html": [
       "<div>\n",
       "<style>\n",
       "    .dataframe thead tr:only-child th {\n",
       "        text-align: right;\n",
       "    }\n",
       "\n",
       "    .dataframe thead th {\n",
       "        text-align: left;\n",
       "    }\n",
       "\n",
       "    .dataframe tbody tr th {\n",
       "        vertical-align: top;\n",
       "    }\n",
       "</style>\n",
       "<table border=\"1\" class=\"dataframe\">\n",
       "  <thead>\n",
       "    <tr style=\"text-align: right;\">\n",
       "      <th></th>\n",
       "      <th>Genus</th>\n",
       "      <th>Deep_mean</th>\n",
       "      <th>Deep_std</th>\n",
       "      <th>Shallow_mean</th>\n",
       "      <th>Shallow_std</th>\n",
       "    </tr>\n",
       "  </thead>\n",
       "  <tbody>\n",
       "    <tr>\n",
       "      <th>0</th>\n",
       "      <td>NB1-j_ge</td>\n",
       "      <td>0.001701</td>\n",
       "      <td>0.001996</td>\n",
       "      <td>0.000122</td>\n",
       "      <td>0.000181</td>\n",
       "    </tr>\n",
       "    <tr>\n",
       "      <th>1</th>\n",
       "      <td>Haliangium</td>\n",
       "      <td>0.000169</td>\n",
       "      <td>0.000211</td>\n",
       "      <td>NaN</td>\n",
       "      <td>NaN</td>\n",
       "    </tr>\n",
       "    <tr>\n",
       "      <th>2</th>\n",
       "      <td>H16</td>\n",
       "      <td>0.000128</td>\n",
       "      <td>0.000290</td>\n",
       "      <td>NaN</td>\n",
       "      <td>NaN</td>\n",
       "    </tr>\n",
       "    <tr>\n",
       "      <th>3</th>\n",
       "      <td>P3OB-42_ge</td>\n",
       "      <td>0.000069</td>\n",
       "      <td>0.000194</td>\n",
       "      <td>NaN</td>\n",
       "      <td>NaN</td>\n",
       "    </tr>\n",
       "    <tr>\n",
       "      <th>4</th>\n",
       "      <td>Oligoflexaceae_ge</td>\n",
       "      <td>0.000067</td>\n",
       "      <td>0.000125</td>\n",
       "      <td>NaN</td>\n",
       "      <td>NaN</td>\n",
       "    </tr>\n",
       "    <tr>\n",
       "      <th>5</th>\n",
       "      <td>Peredibacter</td>\n",
       "      <td>0.000060</td>\n",
       "      <td>0.000113</td>\n",
       "      <td>NaN</td>\n",
       "      <td>NaN</td>\n",
       "    </tr>\n",
       "    <tr>\n",
       "      <th>6</th>\n",
       "      <td>Desulfatiglans</td>\n",
       "      <td>0.000034</td>\n",
       "      <td>0.000097</td>\n",
       "      <td>0.000073</td>\n",
       "      <td>0.000119</td>\n",
       "    </tr>\n",
       "    <tr>\n",
       "      <th>7</th>\n",
       "      <td>GBL17114_ge</td>\n",
       "      <td>0.000029</td>\n",
       "      <td>0.000082</td>\n",
       "      <td>NaN</td>\n",
       "      <td>NaN</td>\n",
       "    </tr>\n",
       "    <tr>\n",
       "      <th>8</th>\n",
       "      <td>uncultured</td>\n",
       "      <td>0.000028</td>\n",
       "      <td>0.000121</td>\n",
       "      <td>0.000069</td>\n",
       "      <td>0.000217</td>\n",
       "    </tr>\n",
       "    <tr>\n",
       "      <th>9</th>\n",
       "      <td>Sva0081_sediment_group</td>\n",
       "      <td>0.000026</td>\n",
       "      <td>NaN</td>\n",
       "      <td>0.000203</td>\n",
       "      <td>0.000310</td>\n",
       "    </tr>\n",
       "    <tr>\n",
       "      <th>10</th>\n",
       "      <td>unclassified</td>\n",
       "      <td>NaN</td>\n",
       "      <td>0.000083</td>\n",
       "      <td>0.000127</td>\n",
       "      <td>0.001056</td>\n",
       "    </tr>\n",
       "    <tr>\n",
       "      <th>11</th>\n",
       "      <td>Desulfovibrio</td>\n",
       "      <td>NaN</td>\n",
       "      <td>NaN</td>\n",
       "      <td>0.016462</td>\n",
       "      <td>0.035363</td>\n",
       "    </tr>\n",
       "    <tr>\n",
       "      <th>12</th>\n",
       "      <td>Desulfofrigus</td>\n",
       "      <td>NaN</td>\n",
       "      <td>NaN</td>\n",
       "      <td>0.000222</td>\n",
       "      <td>0.000476</td>\n",
       "    </tr>\n",
       "    <tr>\n",
       "      <th>13</th>\n",
       "      <td>Desulfobulbus</td>\n",
       "      <td>NaN</td>\n",
       "      <td>NaN</td>\n",
       "      <td>0.000092</td>\n",
       "      <td>0.000292</td>\n",
       "    </tr>\n",
       "    <tr>\n",
       "      <th>14</th>\n",
       "      <td>Sva0485_ge</td>\n",
       "      <td>NaN</td>\n",
       "      <td>NaN</td>\n",
       "      <td>0.000072</td>\n",
       "      <td>0.000117</td>\n",
       "    </tr>\n",
       "    <tr>\n",
       "      <th>15</th>\n",
       "      <td>43F-1404R_ge</td>\n",
       "      <td>NaN</td>\n",
       "      <td>NaN</td>\n",
       "      <td>0.000031</td>\n",
       "      <td>0.000097</td>\n",
       "    </tr>\n",
       "  </tbody>\n",
       "</table>\n",
       "</div>"
      ],
      "text/plain": [
       "                     Genus  Deep_mean  Deep_std  Shallow_mean  Shallow_std\n",
       "0                 NB1-j_ge   0.001701  0.001996      0.000122     0.000181\n",
       "1               Haliangium   0.000169  0.000211           NaN          NaN\n",
       "2                      H16   0.000128  0.000290           NaN          NaN\n",
       "3               P3OB-42_ge   0.000069  0.000194           NaN          NaN\n",
       "4        Oligoflexaceae_ge   0.000067  0.000125           NaN          NaN\n",
       "5             Peredibacter   0.000060  0.000113           NaN          NaN\n",
       "6           Desulfatiglans   0.000034  0.000097      0.000073     0.000119\n",
       "7              GBL17114_ge   0.000029  0.000082           NaN          NaN\n",
       "8               uncultured   0.000028  0.000121      0.000069     0.000217\n",
       "9   Sva0081_sediment_group   0.000026       NaN      0.000203     0.000310\n",
       "10            unclassified        NaN  0.000083      0.000127     0.001056\n",
       "11           Desulfovibrio        NaN       NaN      0.016462     0.035363\n",
       "12           Desulfofrigus        NaN       NaN      0.000222     0.000476\n",
       "13           Desulfobulbus        NaN       NaN      0.000092     0.000292\n",
       "14              Sva0485_ge        NaN       NaN      0.000072     0.000117\n",
       "15            43F-1404R_ge        NaN       NaN      0.000031     0.000097"
      ]
     },
     "execution_count": 78,
     "metadata": {},
     "output_type": "execute_result"
    }
   ],
   "source": [
    "comparelevel(df,'sample','Class','Deltaproteobacteria','Genus')"
   ]
  },
  {
   "cell_type": "markdown",
   "metadata": {},
   "source": [
    "## Statistic Analyses <a class=\"anchor\" id=\"III\"></a>"
   ]
  },
  {
   "cell_type": "code",
   "execution_count": 1023,
   "metadata": {
    "collapsed": true
   },
   "outputs": [],
   "source": [
    "import skbio\n",
    "from skbio import DistanceMatrix\n",
    "import numpy as np\n",
    "from skbio.stats.distance import anosim\n",
    "from sklearn.metrics import pairwise_distances as pw\n",
    "from skbio.stats.distance import permanova\n",
    "from scipy.cluster.hierarchy import dendrogram, linkage\n"
   ]
  },
  {
   "cell_type": "code",
   "execution_count": null,
   "metadata": {
    "collapsed": true
   },
   "outputs": [],
   "source": [
    "# Pivot table so that columns are OTUs, rows are samples, filled with Abundances of OTUs\n",
    "#OTUs = pd.pivot_table(df[['Sample','OTU','Abundance']],values='Abundance',index='Sample',columns='OTU')\n",
    "#OTUs = OTUs.reset_index()"
   ]
  },
  {
   "cell_type": "code",
   "execution_count": 1020,
   "metadata": {
    "collapsed": true
   },
   "outputs": [],
   "source": [
    "OTUcounts = pd.read_csv(\"Oil_DNA_0.03_OTUtable_count.csv\",index_col=0)"
   ]
  },
  {
   "cell_type": "code",
   "execution_count": 1027,
   "metadata": {},
   "outputs": [
    {
     "data": {
      "text/html": [
       "<div>\n",
       "<style scoped>\n",
       "    .dataframe tbody tr th:only-of-type {\n",
       "        vertical-align: middle;\n",
       "    }\n",
       "\n",
       "    .dataframe tbody tr th {\n",
       "        vertical-align: top;\n",
       "    }\n",
       "\n",
       "    .dataframe thead th {\n",
       "        text-align: right;\n",
       "    }\n",
       "</style>\n",
       "<table border=\"1\" class=\"dataframe\">\n",
       "  <thead>\n",
       "    <tr style=\"text-align: right;\">\n",
       "      <th></th>\n",
       "      <th>Sample</th>\n",
       "      <th>Otu00001</th>\n",
       "      <th>Otu00002</th>\n",
       "      <th>Otu00003</th>\n",
       "      <th>Otu00004</th>\n",
       "      <th>Otu00005</th>\n",
       "      <th>Otu00006</th>\n",
       "      <th>Otu00007</th>\n",
       "      <th>Otu00008</th>\n",
       "      <th>Otu00009</th>\n",
       "      <th>...</th>\n",
       "      <th>Otu14147</th>\n",
       "      <th>Otu14148</th>\n",
       "      <th>Otu14149</th>\n",
       "      <th>Otu14150</th>\n",
       "      <th>Otu14151</th>\n",
       "      <th>Otu14152</th>\n",
       "      <th>Otu14153</th>\n",
       "      <th>Otu14154</th>\n",
       "      <th>Otu14155</th>\n",
       "      <th>Shannon</th>\n",
       "    </tr>\n",
       "  </thead>\n",
       "  <tbody>\n",
       "    <tr>\n",
       "      <th>0</th>\n",
       "      <td>10a</td>\n",
       "      <td>973</td>\n",
       "      <td>257</td>\n",
       "      <td>652</td>\n",
       "      <td>124</td>\n",
       "      <td>1</td>\n",
       "      <td>0</td>\n",
       "      <td>0</td>\n",
       "      <td>3</td>\n",
       "      <td>156</td>\n",
       "      <td>...</td>\n",
       "      <td>0</td>\n",
       "      <td>0</td>\n",
       "      <td>0</td>\n",
       "      <td>0</td>\n",
       "      <td>0</td>\n",
       "      <td>0</td>\n",
       "      <td>0</td>\n",
       "      <td>0</td>\n",
       "      <td>0</td>\n",
       "      <td>4.080332</td>\n",
       "    </tr>\n",
       "    <tr>\n",
       "      <th>1</th>\n",
       "      <td>10b</td>\n",
       "      <td>922</td>\n",
       "      <td>148</td>\n",
       "      <td>867</td>\n",
       "      <td>56</td>\n",
       "      <td>0</td>\n",
       "      <td>0</td>\n",
       "      <td>1</td>\n",
       "      <td>47</td>\n",
       "      <td>111</td>\n",
       "      <td>...</td>\n",
       "      <td>0</td>\n",
       "      <td>0</td>\n",
       "      <td>0</td>\n",
       "      <td>0</td>\n",
       "      <td>0</td>\n",
       "      <td>0</td>\n",
       "      <td>0</td>\n",
       "      <td>0</td>\n",
       "      <td>0</td>\n",
       "      <td>3.488982</td>\n",
       "    </tr>\n",
       "    <tr>\n",
       "      <th>2</th>\n",
       "      <td>10c</td>\n",
       "      <td>2195</td>\n",
       "      <td>1</td>\n",
       "      <td>1</td>\n",
       "      <td>0</td>\n",
       "      <td>1</td>\n",
       "      <td>0</td>\n",
       "      <td>21</td>\n",
       "      <td>438</td>\n",
       "      <td>1</td>\n",
       "      <td>...</td>\n",
       "      <td>0</td>\n",
       "      <td>0</td>\n",
       "      <td>0</td>\n",
       "      <td>0</td>\n",
       "      <td>0</td>\n",
       "      <td>0</td>\n",
       "      <td>0</td>\n",
       "      <td>0</td>\n",
       "      <td>0</td>\n",
       "      <td>3.171230</td>\n",
       "    </tr>\n",
       "    <tr>\n",
       "      <th>3</th>\n",
       "      <td>10orig</td>\n",
       "      <td>0</td>\n",
       "      <td>158</td>\n",
       "      <td>0</td>\n",
       "      <td>0</td>\n",
       "      <td>0</td>\n",
       "      <td>0</td>\n",
       "      <td>0</td>\n",
       "      <td>0</td>\n",
       "      <td>1</td>\n",
       "      <td>...</td>\n",
       "      <td>0</td>\n",
       "      <td>0</td>\n",
       "      <td>0</td>\n",
       "      <td>0</td>\n",
       "      <td>0</td>\n",
       "      <td>0</td>\n",
       "      <td>0</td>\n",
       "      <td>0</td>\n",
       "      <td>0</td>\n",
       "      <td>9.514276</td>\n",
       "    </tr>\n",
       "    <tr>\n",
       "      <th>4</th>\n",
       "      <td>13a</td>\n",
       "      <td>5</td>\n",
       "      <td>743</td>\n",
       "      <td>140</td>\n",
       "      <td>3</td>\n",
       "      <td>99</td>\n",
       "      <td>0</td>\n",
       "      <td>0</td>\n",
       "      <td>10</td>\n",
       "      <td>100</td>\n",
       "      <td>...</td>\n",
       "      <td>0</td>\n",
       "      <td>0</td>\n",
       "      <td>0</td>\n",
       "      <td>0</td>\n",
       "      <td>0</td>\n",
       "      <td>0</td>\n",
       "      <td>0</td>\n",
       "      <td>0</td>\n",
       "      <td>0</td>\n",
       "      <td>4.034750</td>\n",
       "    </tr>\n",
       "  </tbody>\n",
       "</table>\n",
       "<p>5 rows × 14157 columns</p>\n",
       "</div>"
      ],
      "text/plain": [
       "   Sample  Otu00001  Otu00002  Otu00003  Otu00004  Otu00005  Otu00006  \\\n",
       "0     10a       973       257       652       124         1         0   \n",
       "1     10b       922       148       867        56         0         0   \n",
       "2     10c      2195         1         1         0         1         0   \n",
       "3  10orig         0       158         0         0         0         0   \n",
       "4     13a         5       743       140         3        99         0   \n",
       "\n",
       "   Otu00007  Otu00008  Otu00009    ...     Otu14147  Otu14148  Otu14149  \\\n",
       "0         0         3       156    ...            0         0         0   \n",
       "1         1        47       111    ...            0         0         0   \n",
       "2        21       438         1    ...            0         0         0   \n",
       "3         0         0         1    ...            0         0         0   \n",
       "4         0        10       100    ...            0         0         0   \n",
       "\n",
       "   Otu14150  Otu14151  Otu14152  Otu14153  Otu14154  Otu14155   Shannon  \n",
       "0         0         0         0         0         0         0  4.080332  \n",
       "1         0         0         0         0         0         0  3.488982  \n",
       "2         0         0         0         0         0         0  3.171230  \n",
       "3         0         0         0         0         0         0  9.514276  \n",
       "4         0         0         0         0         0         0  4.034750  \n",
       "\n",
       "[5 rows x 14157 columns]"
      ]
     },
     "execution_count": 1027,
     "metadata": {},
     "output_type": "execute_result"
    }
   ],
   "source": [
    "OTUcounts.head()"
   ]
  },
  {
   "cell_type": "code",
   "execution_count": 1026,
   "metadata": {
    "collapsed": true
   },
   "outputs": [],
   "source": [
    "OTUcounts['Shannon'] = OTUcounts.apply(lambda x:skbio.diversity.alpha.shannon(x[1:].astype('int')),axis=1)"
   ]
  },
  {
   "cell_type": "code",
   "execution_count": 1047,
   "metadata": {
    "collapsed": true
   },
   "outputs": [],
   "source": [
    "OTU_diversity = pd.merge(OTUcounts[['Sample','Shannon']],genus[['Sample','Site', 'P', 'T', 'WD', 'TOC',\n",
    "       'Carb', 'Type', 'ALK', 'PAH', 'Pressure_regime', 'Temperature_regime']],how='left',on=['Sample'])\n",
    "OTU_diversity.drop_duplicates(inplace=True)\n",
    "OTU_diversity.shape"
   ]
  },
  {
   "cell_type": "code",
   "execution_count": 1096,
   "metadata": {
    "collapsed": true
   },
   "outputs": [],
   "source": [
    "samples=OTU_diversity[OTU_diversity['Type'].isin(['sample','dummy'])].sort_values(by='WD')\n",
    "day0=OTU_diversity[OTU_diversity['Type']=='day0'].sort_values(by='WD')\n",
    "orig=OTU_diversity[OTU_diversity['Type']=='orig'].sort_values(by='WD')\n",
    "control = OTU_diversity[OTU_diversity['Type']=='control'].sort_values(by='WD')\n"
   ]
  },
  {
   "cell_type": "code",
   "execution_count": 342,
   "metadata": {
    "collapsed": true
   },
   "outputs": [],
   "source": [
    "def diversity_boxplot(dfs,index_type,labels,figsize=(8,5)):\n",
    "    \"\"\"\n",
    "    This function plot boxplot of certain feature in each class of target variable\n",
    "    - df: dataframe\n",
    "    - col: feature column\n",
    "    \"\"\"\n",
    "    # Create a figure instance\n",
    "    fig = plt.figure(figsize=figsize)\n",
    "    # Create an axes instance\n",
    "    ax = fig.add_subplot(111)\n",
    "    # Create the boxplot\n",
    "    data_to_plot = [df[index_type].dropna() for df in dfs]    \n",
    "    ax.boxplot(data_to_plot)\n",
    "    ax.set_xticklabels(labels,fontsize=12)#,rotation=45)\n",
    "    plt.ylabel(\"Shannon index\",fontsize=14)\n",
    "\n"
   ]
  },
  {
   "cell_type": "code",
   "execution_count": 1065,
   "metadata": {},
   "outputs": [
    {
     "name": "stderr",
     "output_type": "stream",
     "text": [
      "/Users/uyennguyen/anaconda3/envs/TEST/lib/python3.6/site-packages/numpy/core/fromnumeric.py:57: FutureWarning: reshape is deprecated and will raise in a subsequent release. Please use .values.reshape(...) instead\n",
      "  return getattr(obj, method)(*args, **kwds)\n"
     ]
    },
    {
     "data": {
      "image/png": "[encoded data removed]",
      "text/plain": [
       "<Figure size 576x360 with 1 Axes>"
      ]
     },
     "metadata": {
      "needs_background": "light"
     },
     "output_type": "display_data"
    }
   ],
   "source": [
    "diversity_boxplot([orig,day0,samples,control],'Shannon',['Original sediment','t_o','t_f with oil','t_f w/o oil'])\n",
    "plt.savefig(\"Shannon_boxplot.png\",dpi=300)"
   ]
  },
  {
   "cell_type": "code",
   "execution_count": 1129,
   "metadata": {
    "collapsed": true
   },
   "outputs": [],
   "source": []
  },
  {
   "cell_type": "code",
   "execution_count": 1119,
   "metadata": {
    "collapsed": true
   },
   "outputs": [],
   "source": [
    "samples['Order'] = np.repeat(np.arange(9)+1,[2,2,2,2,2,2,4,4,4])\n",
    "orig['Order'] = np.repeat(np.arange(9)+1,1)\n",
    "day0['Order'] = np.repeat(np.arange(9)+1,np.array([1,1,1,1,1,1,1,2,1]))\n",
    "control['Order'] = [3,4,8,9]"
   ]
  },
  {
   "cell_type": "code",
   "execution_count": 1124,
   "metadata": {
    "collapsed": true
   },
   "outputs": [],
   "source": []
  },
  {
   "cell_type": "code",
   "execution_count": 1177,
   "metadata": {},
   "outputs": [
    {
     "data": {
      "image/png": "[encoded data removed]",
      "text/plain": [
       "<Figure size 504x360 with 1 Axes>"
      ]
     },
     "metadata": {
      "needs_background": "light"
     },
     "output_type": "display_data"
    }
   ],
   "source": [
    "fig, ax = plt.subplots(figsize=(7,5))\n",
    "ax.scatter(orig['Order'],orig['Shannon'],marker='*',c=-orig['WD'],cmap='jet',edgecolor='black',s=150)\n",
    "ax.scatter(day0['Order'],day0['Shannon'],marker='o',c=-day0['WD'],cmap='jet',edgecolor='black',s=50)\n",
    "ax.scatter(samples['Order'],samples['Shannon'],marker='+',c=-samples['WD'],cmap='jet',edgecolor='grey',s=100)\n",
    "ax.scatter(control['Order'],control['Shannon'],marker='s',c=-control['WD'],cmap='jet',edgecolor='grey',s=50)\n",
    "ax.set_ylabel(\"Shannon index\",fontsize=12)\n",
    "ax.legend(labels=['original','t_o','t_f with oil','t_f w/o oil'],bbox_to_anchor=(1, 1))\n",
    "ax.set_xticks(np.arange(10)+1)\n",
    "ax.set_xticklabels(orig['WD'].astype(int))\n",
    "ax.set_xlabel(\"Water Depth (m)\",fontsize=12)\n",
    "plt.savefig(\"Shannon_scatter.png\",dpi=300,bbox_inches='tight')"
   ]
  },
  {
   "cell_type": "code",
   "execution_count": null,
   "metadata": {
    "collapsed": true
   },
   "outputs": [],
   "source": []
  },
  {
   "cell_type": "code",
   "execution_count": 1178,
   "metadata": {
    "collapsed": true
   },
   "outputs": [],
   "source": [
    "OTUs = pd.read_csv(\"Oil_DNA_0.03_OTUtable_abundance.csv\",index_col=0)"
   ]
  },
  {
   "cell_type": "code",
   "execution_count": 1179,
   "metadata": {},
   "outputs": [
    {
     "data": {
      "text/html": [
       "<div>\n",
       "<style scoped>\n",
       "    .dataframe tbody tr th:only-of-type {\n",
       "        vertical-align: middle;\n",
       "    }\n",
       "\n",
       "    .dataframe tbody tr th {\n",
       "        vertical-align: top;\n",
       "    }\n",
       "\n",
       "    .dataframe thead th {\n",
       "        text-align: right;\n",
       "    }\n",
       "</style>\n",
       "<table border=\"1\" class=\"dataframe\">\n",
       "  <thead>\n",
       "    <tr style=\"text-align: right;\">\n",
       "      <th></th>\n",
       "      <th>Sample</th>\n",
       "      <th>Otu00001</th>\n",
       "      <th>Otu00002</th>\n",
       "      <th>Otu00003</th>\n",
       "      <th>Otu00004</th>\n",
       "      <th>Otu00005</th>\n",
       "      <th>Otu00006</th>\n",
       "      <th>Otu00007</th>\n",
       "      <th>Otu00008</th>\n",
       "      <th>Otu00009</th>\n",
       "      <th>...</th>\n",
       "      <th>Otu14146</th>\n",
       "      <th>Otu14147</th>\n",
       "      <th>Otu14148</th>\n",
       "      <th>Otu14149</th>\n",
       "      <th>Otu14150</th>\n",
       "      <th>Otu14151</th>\n",
       "      <th>Otu14152</th>\n",
       "      <th>Otu14153</th>\n",
       "      <th>Otu14154</th>\n",
       "      <th>Otu14155</th>\n",
       "    </tr>\n",
       "  </thead>\n",
       "  <tbody>\n",
       "    <tr>\n",
       "      <th>0</th>\n",
       "      <td>10a</td>\n",
       "      <td>0.224659</td>\n",
       "      <td>0.059340</td>\n",
       "      <td>0.150543</td>\n",
       "      <td>0.028631</td>\n",
       "      <td>0.000231</td>\n",
       "      <td>0.0</td>\n",
       "      <td>0.000000</td>\n",
       "      <td>0.000693</td>\n",
       "      <td>0.036019</td>\n",
       "      <td>...</td>\n",
       "      <td>0.0</td>\n",
       "      <td>0.0</td>\n",
       "      <td>0.0</td>\n",
       "      <td>0.0</td>\n",
       "      <td>0.0</td>\n",
       "      <td>0.0</td>\n",
       "      <td>0.0</td>\n",
       "      <td>0.0</td>\n",
       "      <td>0.0</td>\n",
       "      <td>0.0</td>\n",
       "    </tr>\n",
       "    <tr>\n",
       "      <th>1</th>\n",
       "      <td>10b</td>\n",
       "      <td>0.278046</td>\n",
       "      <td>0.044632</td>\n",
       "      <td>0.261460</td>\n",
       "      <td>0.016888</td>\n",
       "      <td>0.000000</td>\n",
       "      <td>0.0</td>\n",
       "      <td>0.000302</td>\n",
       "      <td>0.014174</td>\n",
       "      <td>0.033474</td>\n",
       "      <td>...</td>\n",
       "      <td>0.0</td>\n",
       "      <td>0.0</td>\n",
       "      <td>0.0</td>\n",
       "      <td>0.0</td>\n",
       "      <td>0.0</td>\n",
       "      <td>0.0</td>\n",
       "      <td>0.0</td>\n",
       "      <td>0.0</td>\n",
       "      <td>0.0</td>\n",
       "      <td>0.0</td>\n",
       "    </tr>\n",
       "    <tr>\n",
       "      <th>2</th>\n",
       "      <td>10c</td>\n",
       "      <td>0.566890</td>\n",
       "      <td>0.000258</td>\n",
       "      <td>0.000258</td>\n",
       "      <td>0.000000</td>\n",
       "      <td>0.000258</td>\n",
       "      <td>0.0</td>\n",
       "      <td>0.005424</td>\n",
       "      <td>0.113120</td>\n",
       "      <td>0.000258</td>\n",
       "      <td>...</td>\n",
       "      <td>0.0</td>\n",
       "      <td>0.0</td>\n",
       "      <td>0.0</td>\n",
       "      <td>0.0</td>\n",
       "      <td>0.0</td>\n",
       "      <td>0.0</td>\n",
       "      <td>0.0</td>\n",
       "      <td>0.0</td>\n",
       "      <td>0.0</td>\n",
       "      <td>0.0</td>\n",
       "    </tr>\n",
       "    <tr>\n",
       "      <th>3</th>\n",
       "      <td>10orig</td>\n",
       "      <td>0.000000</td>\n",
       "      <td>0.046294</td>\n",
       "      <td>0.000000</td>\n",
       "      <td>0.000000</td>\n",
       "      <td>0.000000</td>\n",
       "      <td>0.0</td>\n",
       "      <td>0.000000</td>\n",
       "      <td>0.000000</td>\n",
       "      <td>0.000293</td>\n",
       "      <td>...</td>\n",
       "      <td>0.0</td>\n",
       "      <td>0.0</td>\n",
       "      <td>0.0</td>\n",
       "      <td>0.0</td>\n",
       "      <td>0.0</td>\n",
       "      <td>0.0</td>\n",
       "      <td>0.0</td>\n",
       "      <td>0.0</td>\n",
       "      <td>0.0</td>\n",
       "      <td>0.0</td>\n",
       "    </tr>\n",
       "    <tr>\n",
       "      <th>4</th>\n",
       "      <td>13a</td>\n",
       "      <td>0.002897</td>\n",
       "      <td>0.430475</td>\n",
       "      <td>0.081112</td>\n",
       "      <td>0.001738</td>\n",
       "      <td>0.057358</td>\n",
       "      <td>0.0</td>\n",
       "      <td>0.000000</td>\n",
       "      <td>0.005794</td>\n",
       "      <td>0.057937</td>\n",
       "      <td>...</td>\n",
       "      <td>0.0</td>\n",
       "      <td>0.0</td>\n",
       "      <td>0.0</td>\n",
       "      <td>0.0</td>\n",
       "      <td>0.0</td>\n",
       "      <td>0.0</td>\n",
       "      <td>0.0</td>\n",
       "      <td>0.0</td>\n",
       "      <td>0.0</td>\n",
       "      <td>0.0</td>\n",
       "    </tr>\n",
       "  </tbody>\n",
       "</table>\n",
       "<p>5 rows × 14156 columns</p>\n",
       "</div>"
      ],
      "text/plain": [
       "   Sample  Otu00001  Otu00002  Otu00003  Otu00004  Otu00005  Otu00006  \\\n",
       "0     10a  0.224659  0.059340  0.150543  0.028631  0.000231       0.0   \n",
       "1     10b  0.278046  0.044632  0.261460  0.016888  0.000000       0.0   \n",
       "2     10c  0.566890  0.000258  0.000258  0.000000  0.000258       0.0   \n",
       "3  10orig  0.000000  0.046294  0.000000  0.000000  0.000000       0.0   \n",
       "4     13a  0.002897  0.430475  0.081112  0.001738  0.057358       0.0   \n",
       "\n",
       "   Otu00007  Otu00008  Otu00009    ...     Otu14146  Otu14147  Otu14148  \\\n",
       "0  0.000000  0.000693  0.036019    ...          0.0       0.0       0.0   \n",
       "1  0.000302  0.014174  0.033474    ...          0.0       0.0       0.0   \n",
       "2  0.005424  0.113120  0.000258    ...          0.0       0.0       0.0   \n",
       "3  0.000000  0.000000  0.000293    ...          0.0       0.0       0.0   \n",
       "4  0.000000  0.005794  0.057937    ...          0.0       0.0       0.0   \n",
       "\n",
       "   Otu14149  Otu14150  Otu14151  Otu14152  Otu14153  Otu14154  Otu14155  \n",
       "0       0.0       0.0       0.0       0.0       0.0       0.0       0.0  \n",
       "1       0.0       0.0       0.0       0.0       0.0       0.0       0.0  \n",
       "2       0.0       0.0       0.0       0.0       0.0       0.0       0.0  \n",
       "3       0.0       0.0       0.0       0.0       0.0       0.0       0.0  \n",
       "4       0.0       0.0       0.0       0.0       0.0       0.0       0.0  \n",
       "\n",
       "[5 rows x 14156 columns]"
      ]
     },
     "execution_count": 1179,
     "metadata": {},
     "output_type": "execute_result"
    }
   ],
   "source": [
    "OTUs.head()"
   ]
  },
  {
   "cell_type": "code",
   "execution_count": 1184,
   "metadata": {
    "collapsed": true
   },
   "outputs": [],
   "source": [
    "orig_deep = df[(df['Type']=='sample') & (df['WD']>500)]['Sample'].unique()\n",
    "orig_shallow = df[(df['Type']=='sample') & (df['WD']<500)]['Sample'].unique()\n",
    "deep = OTUs[OTUs['Sample'].isin(orig_deep)]\n",
    "shallow = OTUs[OTUs['Sample'].isin(orig_shallow)]"
   ]
  },
  {
   "cell_type": "code",
   "execution_count": 100,
   "metadata": {
    "collapsed": true
   },
   "outputs": [],
   "source": [
    "#deep = OTUs[OTUs['Sample'].isin(['1a','1b'])]\n",
    "#shallow = OTUs[OTUs['Sample'].isin(['13a','13b'])]"
   ]
  },
  {
   "cell_type": "code",
   "execution_count": 1185,
   "metadata": {
    "collapsed": true
   },
   "outputs": [],
   "source": [
    "OTU_df = pd.concat([deep,shallow])\n",
    "OTU_df = OTU_df.set_index(keys='Sample')\n",
    "OTU_mat = OTU_df.as_matrix()"
   ]
  },
  {
   "cell_type": "code",
   "execution_count": 1186,
   "metadata": {
    "collapsed": true
   },
   "outputs": [],
   "source": [
    "n = deep.shape[0]\n",
    "m = shallow.shape[0]"
   ]
  },
  {
   "cell_type": "code",
   "execution_count": 1187,
   "metadata": {},
   "outputs": [
    {
     "data": {
      "text/plain": [
       "method name                    ANOSIM\n",
       "test statistic name                 R\n",
       "sample size                        18\n",
       "number of groups                    2\n",
       "test statistic               0.748973\n",
       "p-value                   0.000999001\n",
       "number of permutations           1000\n",
       "Name: ANOSIM results, dtype: object"
      ]
     },
     "execution_count": 1187,
     "metadata": {},
     "output_type": "execute_result"
    }
   ],
   "source": [
    "bc_dm = pw(OTU_mat,metric=\"braycurtis\")\n",
    "dm = DistanceMatrix(bc_dm,list(orig_deep) + list(orig_shallow))\n",
    "grouping = ['Deep']*n + ['Shallow']*m\n",
    "# make output deterministic; not necessary for normal use\n",
    "np.random.seed(0)\n",
    "anosim(dm, grouping, permutations=1000)"
   ]
  },
  {
   "cell_type": "code",
   "execution_count": 293,
   "metadata": {},
   "outputs": [
    {
     "data": {
      "image/png": "[encoded data removed]",
      "text/plain": [
       "<Figure size 432x288 with 2 Axes>"
      ]
     },
     "metadata": {
      "needs_background": "light"
     },
     "output_type": "display_data"
    }
   ],
   "source": [
    "fig=dm.plot()\n",
    "plt.savefig('Orig_deepvsshallow_distance.png',dpi=300)"
   ]
  },
  {
   "cell_type": "code",
   "execution_count": 255,
   "metadata": {},
   "outputs": [
    {
     "data": {
      "text/plain": [
       "method name               PERMANOVA\n",
       "test statistic name        pseudo-F\n",
       "sample size                       9\n",
       "number of groups                  2\n",
       "test statistic              2.47884\n",
       "p-value                       0.007\n",
       "number of permutations          999\n",
       "Name: PERMANOVA results, dtype: object"
      ]
     },
     "execution_count": 255,
     "metadata": {},
     "output_type": "execute_result"
    }
   ],
   "source": [
    "permanova(dm, grouping, permutations=999)"
   ]
  },
  {
   "cell_type": "code",
   "execution_count": 283,
   "metadata": {},
   "outputs": [
    {
     "data": {
      "image/png": "[encoded data removed]",
      "text/plain": [
       "<Figure size 432x288 with 1 Axes>"
      ]
     },
     "metadata": {
      "needs_background": "light"
     },
     "output_type": "display_data"
    }
   ],
   "source": [
    "mask =  np.tri(bc_dm.shape[0], k=-1)\n",
    "bc_dm = np.ma.array(bc_dm, mask=mask) \n",
    "fig = plt.figure()\n",
    "ax1 = fig.add_subplot(111)\n",
    "cmap = plt.cm.get_cmap('viridis', 10) # jet doesn't have white color\n",
    "cmap.set_bad('w') # default value is 'k'\n",
    "ax1.imshow(bc_dm, cmap=cmap)\n",
    "ax1.grid(False)\n"
   ]
  },
  {
   "cell_type": "markdown",
   "metadata": {
    "collapsed": true
   },
   "source": [
    "## KEGG genes analysis (PICRUST) <a class=\"anchor\" id=\"IV\"></a>"
   ]
  },
  {
   "cell_type": "code",
   "execution_count": null,
   "metadata": {
    "collapsed": true
   },
   "outputs": [],
   "source": [
    "# Process the original kegg csv file to the desired format, with other info like P, T added\n",
    "# This code was already run and produced new file that will be used for following analyses\n",
    "#kegg = pd.read_csv(\"KEGG_output.csv\")\n",
    "#kegg.drop('Unnamed: 54',1,inplace=True)\n",
    "#kegg_T = kegg.T\n",
    "#kegg_T.columns = kegg_T.iloc[0]\n",
    "#kegg_T.drop(kegg_T.index[0],inplace = True)\n",
    "#kegg_T['Sample'] = kegg_T.index\n",
    "#kegg_new = pd.merge(kegg_T,df[['Sample','P','T','WD','TOC','Carb','Type','ALK','PAH']],how='inner',on=['Sample'])\n",
    "#kegg_new.drop_duplicates(['Sample'],inplace=True)\n",
    "#kegg_new.col\n",
    "#kegg_new.to_csv('Kegg_updated.csv')"
   ]
  },
  {
   "cell_type": "code",
   "execution_count": 188,
   "metadata": {},
   "outputs": [
    {
     "data": {
      "text/html": [
       "<div>\n",
       "<style scoped>\n",
       "    .dataframe tbody tr th:only-of-type {\n",
       "        vertical-align: middle;\n",
       "    }\n",
       "\n",
       "    .dataframe tbody tr th {\n",
       "        vertical-align: top;\n",
       "    }\n",
       "\n",
       "    .dataframe thead th {\n",
       "        text-align: right;\n",
       "    }\n",
       "</style>\n",
       "<table border=\"1\" class=\"dataframe\">\n",
       "  <thead>\n",
       "    <tr style=\"text-align: right;\">\n",
       "      <th></th>\n",
       "      <th>1,1,1-Trichloro-2,2-bis(4-chlorophenyl)ethane_(DDT)_degradation</th>\n",
       "      <th>ABC_transporters</th>\n",
       "      <th>Adherens_junction</th>\n",
       "      <th>Adipocytokine_signaling_pathway</th>\n",
       "      <th>African_trypanosomiasis</th>\n",
       "      <th>Alanine,_aspartate_and_glutamate_metabolism</th>\n",
       "      <th>Aldosterone-regulated_sodium_reabsorption</th>\n",
       "      <th>Alzheimer's_disease</th>\n",
       "      <th>Amino_acid_metabolism</th>\n",
       "      <th>Amino_acid_related_enzymes</th>\n",
       "      <th>...</th>\n",
       "      <th>p53_signaling_pathway</th>\n",
       "      <th>Sample</th>\n",
       "      <th>P</th>\n",
       "      <th>T</th>\n",
       "      <th>WD</th>\n",
       "      <th>TOC</th>\n",
       "      <th>Carb</th>\n",
       "      <th>Type</th>\n",
       "      <th>ALK</th>\n",
       "      <th>PAH</th>\n",
       "    </tr>\n",
       "  </thead>\n",
       "  <tbody>\n",
       "    <tr>\n",
       "      <th>0</th>\n",
       "      <td>172</td>\n",
       "      <td>123604</td>\n",
       "      <td>0</td>\n",
       "      <td>1722</td>\n",
       "      <td>589</td>\n",
       "      <td>32412</td>\n",
       "      <td>0</td>\n",
       "      <td>5491</td>\n",
       "      <td>6502</td>\n",
       "      <td>43187</td>\n",
       "      <td>...</td>\n",
       "      <td>802</td>\n",
       "      <td>10a</td>\n",
       "      <td>9.40</td>\n",
       "      <td>4</td>\n",
       "      <td>1008</td>\n",
       "      <td>1.706308</td>\n",
       "      <td>31.0</td>\n",
       "      <td>sample</td>\n",
       "      <td>56.650126</td>\n",
       "      <td>7.500000</td>\n",
       "    </tr>\n",
       "    <tr>\n",
       "      <th>806</th>\n",
       "      <td>211</td>\n",
       "      <td>98553</td>\n",
       "      <td>0</td>\n",
       "      <td>1285</td>\n",
       "      <td>381</td>\n",
       "      <td>23804</td>\n",
       "      <td>0</td>\n",
       "      <td>4096</td>\n",
       "      <td>4515</td>\n",
       "      <td>30489</td>\n",
       "      <td>...</td>\n",
       "      <td>502</td>\n",
       "      <td>10b</td>\n",
       "      <td>9.40</td>\n",
       "      <td>4</td>\n",
       "      <td>1008</td>\n",
       "      <td>1.706308</td>\n",
       "      <td>31.0</td>\n",
       "      <td>sample</td>\n",
       "      <td>53.768832</td>\n",
       "      <td>21.900000</td>\n",
       "    </tr>\n",
       "    <tr>\n",
       "      <th>1612</th>\n",
       "      <td>34</td>\n",
       "      <td>121956</td>\n",
       "      <td>0</td>\n",
       "      <td>1626</td>\n",
       "      <td>749</td>\n",
       "      <td>32140</td>\n",
       "      <td>0</td>\n",
       "      <td>5249</td>\n",
       "      <td>5979</td>\n",
       "      <td>41556</td>\n",
       "      <td>...</td>\n",
       "      <td>614</td>\n",
       "      <td>10c</td>\n",
       "      <td>0.10</td>\n",
       "      <td>4</td>\n",
       "      <td>1008</td>\n",
       "      <td>1.706308</td>\n",
       "      <td>31.0</td>\n",
       "      <td>day0</td>\n",
       "      <td>0.000000</td>\n",
       "      <td>0.000000</td>\n",
       "    </tr>\n",
       "    <tr>\n",
       "      <th>2418</th>\n",
       "      <td>34</td>\n",
       "      <td>132502</td>\n",
       "      <td>3</td>\n",
       "      <td>3765</td>\n",
       "      <td>525</td>\n",
       "      <td>47295</td>\n",
       "      <td>1</td>\n",
       "      <td>5084</td>\n",
       "      <td>13606</td>\n",
       "      <td>68630</td>\n",
       "      <td>...</td>\n",
       "      <td>512</td>\n",
       "      <td>10orig</td>\n",
       "      <td>9.40</td>\n",
       "      <td>4</td>\n",
       "      <td>1008</td>\n",
       "      <td>1.706308</td>\n",
       "      <td>31.0</td>\n",
       "      <td>orig</td>\n",
       "      <td>NaN</td>\n",
       "      <td>NaN</td>\n",
       "    </tr>\n",
       "    <tr>\n",
       "      <th>3224</th>\n",
       "      <td>89</td>\n",
       "      <td>33341</td>\n",
       "      <td>0</td>\n",
       "      <td>963</td>\n",
       "      <td>266</td>\n",
       "      <td>13392</td>\n",
       "      <td>0</td>\n",
       "      <td>2208</td>\n",
       "      <td>3828</td>\n",
       "      <td>17224</td>\n",
       "      <td>...</td>\n",
       "      <td>241</td>\n",
       "      <td>13a</td>\n",
       "      <td>15.28</td>\n",
       "      <td>4</td>\n",
       "      <td>1520</td>\n",
       "      <td>1.551581</td>\n",
       "      <td>20.3</td>\n",
       "      <td>sample</td>\n",
       "      <td>43.373744</td>\n",
       "      <td>35.716582</td>\n",
       "    </tr>\n",
       "  </tbody>\n",
       "</table>\n",
       "<p>5 rows × 337 columns</p>\n",
       "</div>"
      ],
      "text/plain": [
       "      1,1,1-Trichloro-2,2-bis(4-chlorophenyl)ethane_(DDT)_degradation  \\\n",
       "0                                                   172                 \n",
       "806                                                 211                 \n",
       "1612                                                 34                 \n",
       "2418                                                 34                 \n",
       "3224                                                 89                 \n",
       "\n",
       "      ABC_transporters  Adherens_junction  Adipocytokine_signaling_pathway  \\\n",
       "0               123604                  0                             1722   \n",
       "806              98553                  0                             1285   \n",
       "1612            121956                  0                             1626   \n",
       "2418            132502                  3                             3765   \n",
       "3224             33341                  0                              963   \n",
       "\n",
       "      African_trypanosomiasis  Alanine,_aspartate_and_glutamate_metabolism  \\\n",
       "0                         589                                        32412   \n",
       "806                       381                                        23804   \n",
       "1612                      749                                        32140   \n",
       "2418                      525                                        47295   \n",
       "3224                      266                                        13392   \n",
       "\n",
       "      Aldosterone-regulated_sodium_reabsorption  Alzheimer's_disease  \\\n",
       "0                                             0                 5491   \n",
       "806                                           0                 4096   \n",
       "1612                                          0                 5249   \n",
       "2418                                          1                 5084   \n",
       "3224                                          0                 2208   \n",
       "\n",
       "      Amino_acid_metabolism  Amino_acid_related_enzymes    ...      \\\n",
       "0                      6502                       43187    ...       \n",
       "806                    4515                       30489    ...       \n",
       "1612                   5979                       41556    ...       \n",
       "2418                  13606                       68630    ...       \n",
       "3224                   3828                       17224    ...       \n",
       "\n",
       "      p53_signaling_pathway  Sample      P  T    WD       TOC  Carb    Type  \\\n",
       "0                       802     10a   9.40  4  1008  1.706308  31.0  sample   \n",
       "806                     502     10b   9.40  4  1008  1.706308  31.0  sample   \n",
       "1612                    614     10c   0.10  4  1008  1.706308  31.0    day0   \n",
       "2418                    512  10orig   9.40  4  1008  1.706308  31.0    orig   \n",
       "3224                    241     13a  15.28  4  1520  1.551581  20.3  sample   \n",
       "\n",
       "            ALK        PAH  \n",
       "0     56.650126   7.500000  \n",
       "806   53.768832  21.900000  \n",
       "1612   0.000000   0.000000  \n",
       "2418        NaN        NaN  \n",
       "3224  43.373744  35.716582  \n",
       "\n",
       "[5 rows x 337 columns]"
      ]
     },
     "execution_count": 188,
     "metadata": {},
     "output_type": "execute_result"
    }
   ],
   "source": [
    "# Import the updated Kegg file\n",
    "kegg = pd.read_csv('Kegg_updated.csv',index_col=0)\n",
    "kegg.head()"
   ]
  },
  {
   "cell_type": "code",
   "execution_count": 96,
   "metadata": {
    "collapsed": true
   },
   "outputs": [],
   "source": [
    "Naph = kegg[['WD','T','P','Type','PAH','Polycyclic_aromatic_hydrocarbon_degradation']]"
   ]
  },
  {
   "cell_type": "code",
   "execution_count": 97,
   "metadata": {},
   "outputs": [
    {
     "data": {
      "text/plain": [
       "4690.888888888889"
      ]
     },
     "execution_count": 97,
     "metadata": {},
     "output_type": "execute_result"
    }
   ],
   "source": [
    "Naph[Naph['Type']=='orig']['Polycyclic_aromatic_hydrocarbon_degradation'].mean()"
   ]
  },
  {
   "cell_type": "code",
   "execution_count": 98,
   "metadata": {},
   "outputs": [
    {
     "data": {
      "text/plain": [
       "3202.1666666666665"
      ]
     },
     "execution_count": 98,
     "metadata": {},
     "output_type": "execute_result"
    }
   ],
   "source": [
    "Naph[Naph['Type']=='sample']['Polycyclic_aromatic_hydrocarbon_degradation'].mean()"
   ]
  },
  {
   "cell_type": "code",
   "execution_count": 99,
   "metadata": {},
   "outputs": [
    {
     "data": {
      "text/plain": [
       "4364.7"
      ]
     },
     "execution_count": 99,
     "metadata": {},
     "output_type": "execute_result"
    }
   ],
   "source": [
    "kegg['Benzoate_degradation'].mean()"
   ]
  },
  {
   "cell_type": "code",
   "execution_count": 191,
   "metadata": {
    "collapsed": true
   },
   "outputs": [],
   "source": [
    "degradation=[]\n",
    "for i in kegg.columns:\n",
    "    if 'degradation' in i:\n",
    "        degradation.append(i)\n",
    "alk = []\n",
    "for i in kegg.columns:\n",
    "    if 'alkane' in i:\n",
    "        alk.append(i)"
   ]
  },
  {
   "cell_type": "code",
   "execution_count": 207,
   "metadata": {},
   "outputs": [
    {
     "data": {
      "text/plain": [
       "['Chloroalkane_and_chloroalkene_degradation']"
      ]
     },
     "execution_count": 207,
     "metadata": {},
     "output_type": "execute_result"
    }
   ],
   "source": [
    "alk"
   ]
  },
  {
   "cell_type": "code",
   "execution_count": 204,
   "metadata": {
    "collapsed": true
   },
   "outputs": [],
   "source": [
    "from scipy import stats\n",
    "def r2(x, y):\n",
    "    return stats.pearsonr(x, y)[0] ** 2\n",
    "\n"
   ]
  },
  {
   "cell_type": "code",
   "execution_count": 286,
   "metadata": {},
   "outputs": [
    {
     "name": "stderr",
     "output_type": "stream",
     "text": [
      "/Users/uyennguyen/anaconda3/envs/TEST/lib/python3.6/site-packages/seaborn/axisgrid.py:1847: UserWarning: JointGrid annotation is deprecated and will be removed in a future release.\n",
      "  warnings.warn(UserWarning(msg))\n"
     ]
    },
    {
     "data": {
      "text/plain": [
       "<seaborn.axisgrid.JointGrid at 0x142729470>"
      ]
     },
     "execution_count": 286,
     "metadata": {},
     "output_type": "execute_result"
    },
    {
     "data": {
      "image/png": "[encoded data removed]",
      "text/plain": [
       "<Figure size 432x432 with 3 Axes>"
      ]
     },
     "metadata": {
      "needs_background": "light"
     },
     "output_type": "display_data"
    }
   ],
   "source": [
    "samples = kegg[kegg['Type']=='sample']\n",
    "sns.jointplot('Naphthalene_degradation','ALK',data=samples,kind=\"reg\", stat_func=r2)"
   ]
  },
  {
   "cell_type": "code",
   "execution_count": 193,
   "metadata": {
    "collapsed": true
   },
   "outputs": [],
   "source": [
    "def degradation_scatterplot(Type,gene,compound,color):\n",
    "    samples = kegg[kegg['Type']==Type]\n",
    "    plt.figure(figsize=(10,6))\n",
    "    plt.scatter(samples[gene],samples[compound],c=-samples[color],cmap='jet',s=80)\n",
    "    plt.xlabel('Normalized copies of genes',fontsize=12)\n",
    "    plt.ylabel('%s depletion'%compound + \" (%)\",fontsize=12)\n",
    "    plt.xticks(fontsize=10)\n",
    "    plt.yticks(fontsize=10)\n",
    "    plt.colorbar(label=color)"
   ]
  },
  {
   "cell_type": "code",
   "execution_count": 283,
   "metadata": {},
   "outputs": [
    {
     "data": {
      "image/png": "[encoded data removed]",
      "text/plain": [
       "<Figure size 504x360 with 2 Axes>"
      ]
     },
     "metadata": {
      "needs_background": "light"
     },
     "output_type": "display_data"
    }
   ],
   "source": [
    "samples = kegg[kegg['Type']=='sample']\n",
    "fig, ax = plt.subplots(figsize=(7,5))\n",
    "col = 'ALK'\n",
    "gene1 = 'Polycyclic_aromatic_hydrocarbon_degradation'\n",
    "gene2 = 'Naphthalene_degradation'\n",
    "im=ax.scatter(samples[gene1],samples[col],marker='+',c=-samples['WD'],cmap='jet',edgecolor='black',s=150)\n",
    "ax.scatter(samples[gene2],samples[col],marker='o',c=-samples['WD'],cmap='jet',edgecolor='black',s=50)\n",
    "#ax.scatter(samples['Order'],samples[gene],marker='+',c=-samples['WD'],cmap='jet',edgecolor='grey',s=100)\n",
    "#ax.scatter(control['Order'],control[gene],marker='s',c=-control['WD'],cmap='jet',edgecolor='grey',s=50)\n",
    "ax.set_xlabel(\"Log normalized number of gene copies\",fontsize=12)\n",
    "ax.legend(labels=[gene1,gene2],bbox_to_anchor=(2.1, 1))\n",
    "#ax.set_xticks(np.arange(10)+1)\n",
    "#ax.set_xticklabels(orig['WD'].astype(int))\n",
    "ax.set_ylabel(\"n-alkanes depletion (%)\",fontsize=12)\n",
    "#plt.title(gene + \" gene\")\n",
    "fig.colorbar(im, ax=ax,label='WD')\n",
    "ax.set_xscale('log')\n",
    "plt.savefig(\"ALK_gene.png\",dpi=300,bbox_inches='tight')\n"
   ]
  },
  {
   "cell_type": "code",
   "execution_count": 198,
   "metadata": {},
   "outputs": [
    {
     "data": {
      "image/png": "[encoded data removed]",
      "text/plain": [
       "<Figure size 720x432 with 2 Axes>"
      ]
     },
     "metadata": {
      "needs_background": "light"
     },
     "output_type": "display_data"
    },
    {
     "data": {
      "image/png": "[encoded data removed]",
      "text/plain": [
       "<Figure size 720x432 with 2 Axes>"
      ]
     },
     "metadata": {
      "needs_background": "light"
     },
     "output_type": "display_data"
    }
   ],
   "source": [
    "degradation_scatterplot('sample','Naphthalene_degradation','PAH','WD')\n",
    "degradation_scatterplot('sample','Polycyclic_aromatic_hydrocarbon_degradation','ALK','WD')"
   ]
  },
  {
   "cell_type": "code",
   "execution_count": 1209,
   "metadata": {
    "collapsed": true
   },
   "outputs": [],
   "source": [
    "def all_scatterplot(gene):\n",
    "    plt.figure(figsize=(10,6))\n",
    "    plt.scatter(kegg[kegg['Type']=='orig']['WD'],kegg[kegg['Type']=='orig'][gene],label='orig',c='black',s=60)\n",
    "    plt.scatter(kegg[kegg['Type']=='sample']['WD'],kegg[kegg['Type']=='sample'][gene],label='sample',c='blue',s=60)\n",
    "    plt.scatter(kegg[kegg['Type']=='day0']['WD'],kegg[kegg['Type']=='day0'][gene],label='day0',c='red',s=60)\n",
    "    plt.xlabel('Water depth (m)')\n",
    "    plt.ylabel('Normalized copies of gene')\n",
    "    plt.title(gene)\n",
    "    plt.legend()\n",
    "    "
   ]
  },
  {
   "cell_type": "code",
   "execution_count": 1214,
   "metadata": {},
   "outputs": [
    {
     "data": {
      "image/png": "[encoded data removed]",
      "text/plain": [
       "<Figure size 720x432 with 1 Axes>"
      ]
     },
     "metadata": {
      "needs_background": "light"
     },
     "output_type": "display_data"
    }
   ],
   "source": [
    "all_scatterplot('Naphthalene_degradation')"
   ]
  },
  {
   "cell_type": "code",
   "execution_count": 234,
   "metadata": {},
   "outputs": [
    {
     "data": {
      "text/plain": [
       "['1,1,1-Trichloro-2,2-bis(4-chlorophenyl)ethane_(DDT)_degradation',\n",
       " 'Aminobenzoate_degradation',\n",
       " 'Atrazine_degradation',\n",
       " 'Benzoate_degradation',\n",
       " 'Biosynthesis_and_biodegradation_of_secondary_metabolites',\n",
       " 'Bisphenol_degradation',\n",
       " 'Caprolactam_degradation',\n",
       " 'Chloroalkane_and_chloroalkene_degradation',\n",
       " 'Chlorocyclohexane_and_chlorobenzene_degradation',\n",
       " 'Dioxin_degradation',\n",
       " 'Ethylbenzene_degradation',\n",
       " 'Fluorobenzoate_degradation',\n",
       " 'Geraniol_degradation',\n",
       " 'Glycosaminoglycan_degradation',\n",
       " 'Limonene_and_pinene_degradation',\n",
       " 'Lysine_degradation',\n",
       " 'Naphthalene_degradation',\n",
       " 'Nitrotoluene_degradation',\n",
       " 'Other_glycan_degradation',\n",
       " 'Polycyclic_aromatic_hydrocarbon_degradation',\n",
       " 'RNA_degradation',\n",
       " 'Styrene_degradation',\n",
       " 'Synthesis_and_degradation_of_ketone_bodies',\n",
       " 'Toluene_degradation',\n",
       " 'Valine,_leucine_and_isoleucine_degradation',\n",
       " 'Xylene_degradation']"
      ]
     },
     "execution_count": 234,
     "metadata": {},
     "output_type": "execute_result"
    }
   ],
   "source": [
    "degradation"
   ]
  },
  {
   "cell_type": "code",
   "execution_count": 363,
   "metadata": {
    "collapsed": true
   },
   "outputs": [],
   "source": [
    "samples = kegg[(kegg['Type']=='sample')].sort_values(by='WD')\n",
    "orig = kegg[kegg['Type']=='orig'].sort_values(by='WD')\n",
    "day0 = kegg[kegg['Type']=='day0'].sort_values(by='WD')\n",
    "control = kegg[kegg['Type']=='control'].sort_values(by='WD')\n",
    "samples['Order'] = np.repeat(np.arange(9)+1,[2,2,2,2,2,2,4,4,4])\n",
    "orig['Order'] = np.repeat(np.arange(9)+1,1)\n",
    "day0['Order'] = np.repeat(np.arange(9)+1,np.array([1,1,1,1,1,1,1,2,1]))\n",
    "control['Order'] = [3,4,8,9]\n",
    "#&(~kegg['Sample'].isin(['16a','16b','15a','15b','14a','14b']))"
   ]
  },
  {
   "cell_type": "code",
   "execution_count": 369,
   "metadata": {
    "collapsed": true
   },
   "outputs": [],
   "source": [
    "gene = 'Polycyclic_aromatic_hydrocarbon_degradation'"
   ]
  },
  {
   "cell_type": "code",
   "execution_count": 366,
   "metadata": {},
   "outputs": [
    {
     "data": {
      "text/plain": [
       "Text(0.5,1,'Naphthalene_degradation gene')"
      ]
     },
     "execution_count": 366,
     "metadata": {},
     "output_type": "execute_result"
    },
    {
     "data": {
      "image/png": "[encoded data removed]",
      "text/plain": [
       "<Figure size 504x360 with 1 Axes>"
      ]
     },
     "metadata": {
      "needs_background": "light"
     },
     "output_type": "display_data"
    }
   ],
   "source": [
    "fig, ax = plt.subplots(figsize=(7,5))\n",
    "\n",
    "ax.scatter(orig['Order'],orig[gene],marker='*',c=-orig['WD'],cmap='jet',edgecolor='black',s=150)\n",
    "ax.scatter(day0['Order'],day0[gene],marker='o',c=-day0['WD'],cmap='jet',edgecolor='black',s=50)\n",
    "ax.scatter(samples['Order'],samples[gene],marker='+',c=-samples['WD'],cmap='jet',edgecolor='grey',s=100)\n",
    "ax.scatter(control['Order'],control[gene],marker='s',c=-control['WD'],cmap='jet',edgecolor='grey',s=50)\n",
    "ax.set_ylabel(\"Normalized number of gene copies\",fontsize=12)\n",
    "ax.legend(labels=['original','t_o','t_f with oil','t_f w/o oil'],bbox_to_anchor=(1, 1))\n",
    "ax.set_xticks(np.arange(10)+1)\n",
    "ax.set_xticklabels(orig['WD'].astype(int))\n",
    "ax.set_xlabel(\"Water Depth (m)\",fontsize=12)\n",
    "plt.title(gene + \" gene\")\n",
    "#plt.savefig(\"benzoate_degrading_scatter.png\",dpi=300,bbox_inches='tight')"
   ]
  },
  {
   "cell_type": "code",
   "execution_count": 367,
   "metadata": {},
   "outputs": [
    {
     "name": "stderr",
     "output_type": "stream",
     "text": [
      "/Users/uyennguyen/anaconda3/envs/TEST/lib/python3.6/site-packages/numpy/core/fromnumeric.py:57: FutureWarning: reshape is deprecated and will raise in a subsequent release. Please use .values.reshape(...) instead\n",
      "  return getattr(obj, method)(*args, **kwds)\n"
     ]
    },
    {
     "data": {
      "image/png": "[encoded data removed]",
      "text/plain": [
       "<Figure size 432x288 with 1 Axes>"
      ]
     },
     "metadata": {
      "needs_background": "light"
     },
     "output_type": "display_data"
    }
   ],
   "source": [
    "f = plt.boxplot([samples[samples['WD']>500][gene],day0[day0['WD']>500][gene],samples[samples['WD']<500][gene],day0[day0['WD']<500][gene]])"
   ]
  },
  {
   "cell_type": "code",
   "execution_count": 370,
   "metadata": {},
   "outputs": [
    {
     "name": "stdout",
     "output_type": "stream",
     "text": [
      "Ttest_indResult(statistic=-3.9476958189600797, pvalue=0.00068511495832152111)\n",
      "Ttest_indResult(statistic=-0.36111702719367667, pvalue=0.72736251457160783)\n"
     ]
    }
   ],
   "source": [
    "#import scipy\n",
    "print(scipy.stats.ttest_ind(samples[samples['WD']>500][gene],samples[samples['WD']<500][gene]))\n",
    "print(scipy.stats.ttest_ind(day0[day0['WD']>500][gene],day0[day0['WD']<500][gene]))"
   ]
  },
  {
   "cell_type": "markdown",
   "metadata": {
    "collapsed": true
   },
   "source": [
    "## Regression model <a class=\"anchor\" id=\"V\"></a>"
   ]
  },
  {
   "cell_type": "code",
   "execution_count": 2,
   "metadata": {
    "collapsed": true
   },
   "outputs": [],
   "source": [
    "from sklearn.preprocessing import StandardScaler\n",
    "from sklearn.decomposition import PCA\n",
    "from sklearn.ensemble import RandomForestRegressor\n",
    "from sklearn.linear_model import LinearRegression\n",
    "from sklearn.model_selection import train_test_split\n",
    "from sklearn.metrics import mean_squared_error, mean_absolute_error\n",
    "from sklearn.tree import DecisionTreeRegressor\n",
    "from sklearn.linear_model import LinearRegression\n",
    "from sklearn.neighbors import KNeighborsRegressor"
   ]
  },
  {
   "cell_type": "markdown",
   "metadata": {
    "collapsed": true
   },
   "source": [
    "### Building model with all OTUs <a class=\"anchor\" id=\"V1\"></a>"
   ]
  },
  {
   "cell_type": "code",
   "execution_count": 3,
   "metadata": {},
   "outputs": [
    {
     "name": "stderr",
     "output_type": "stream",
     "text": [
      "/Users/uyennguyen/anaconda3/envs/TEST/lib/python3.6/site-packages/IPython/core/interactiveshell.py:2785: DtypeWarning: Columns (10,19,20) have mixed types. Specify dtype option on import or set low_memory=False.\n",
      "  interactivity=interactivity, compiler=compiler, result=result)\n"
     ]
    },
    {
     "data": {
      "text/html": [
       "<div>\n",
       "<style scoped>\n",
       "    .dataframe tbody tr th:only-of-type {\n",
       "        vertical-align: middle;\n",
       "    }\n",
       "\n",
       "    .dataframe tbody tr th {\n",
       "        vertical-align: top;\n",
       "    }\n",
       "\n",
       "    .dataframe thead th {\n",
       "        text-align: right;\n",
       "    }\n",
       "</style>\n",
       "<table border=\"1\" class=\"dataframe\">\n",
       "  <thead>\n",
       "    <tr style=\"text-align: right;\">\n",
       "      <th></th>\n",
       "      <th>Abundance</th>\n",
       "      <th>OTU</th>\n",
       "      <th>Sample</th>\n",
       "      <th>Class</th>\n",
       "      <th>Domain</th>\n",
       "      <th>Family</th>\n",
       "      <th>Genus</th>\n",
       "      <th>Order</th>\n",
       "      <th>Phylum</th>\n",
       "      <th>Site</th>\n",
       "      <th>P</th>\n",
       "      <th>T</th>\n",
       "      <th>WD</th>\n",
       "      <th>TOC</th>\n",
       "      <th>Carb</th>\n",
       "      <th>Type</th>\n",
       "      <th>ALK</th>\n",
       "      <th>PAH</th>\n",
       "      <th>Pressure_regime</th>\n",
       "      <th>Temperature_regime</th>\n",
       "    </tr>\n",
       "  </thead>\n",
       "  <tbody>\n",
       "    <tr>\n",
       "      <th>0</th>\n",
       "      <td>0.224659</td>\n",
       "      <td>Otu00001</td>\n",
       "      <td>10a</td>\n",
       "      <td>Gammaproteobacteria</td>\n",
       "      <td>Bacteria</td>\n",
       "      <td>Halomonadaceae</td>\n",
       "      <td>Halomonas</td>\n",
       "      <td>Oceanospirillales</td>\n",
       "      <td>Proteobacteria</td>\n",
       "      <td>PCB06</td>\n",
       "      <td>9.4</td>\n",
       "      <td>4.0</td>\n",
       "      <td>1008.0</td>\n",
       "      <td>1.706308</td>\n",
       "      <td>31.0</td>\n",
       "      <td>sample</td>\n",
       "      <td>56.650126</td>\n",
       "      <td>7.5</td>\n",
       "      <td>High P</td>\n",
       "      <td>Low T</td>\n",
       "    </tr>\n",
       "    <tr>\n",
       "      <th>1</th>\n",
       "      <td>0.059340</td>\n",
       "      <td>Otu00002</td>\n",
       "      <td>10a</td>\n",
       "      <td>Gammaproteobacteria</td>\n",
       "      <td>Bacteria</td>\n",
       "      <td>Colwelliaceae</td>\n",
       "      <td>Colwellia</td>\n",
       "      <td>Alteromonadales</td>\n",
       "      <td>Proteobacteria</td>\n",
       "      <td>PCB06</td>\n",
       "      <td>9.4</td>\n",
       "      <td>4.0</td>\n",
       "      <td>1008.0</td>\n",
       "      <td>1.706308</td>\n",
       "      <td>31.0</td>\n",
       "      <td>sample</td>\n",
       "      <td>56.650126</td>\n",
       "      <td>7.5</td>\n",
       "      <td>High P</td>\n",
       "      <td>Low T</td>\n",
       "    </tr>\n",
       "    <tr>\n",
       "      <th>2</th>\n",
       "      <td>0.150543</td>\n",
       "      <td>Otu00003</td>\n",
       "      <td>10a</td>\n",
       "      <td>Gammaproteobacteria</td>\n",
       "      <td>Bacteria</td>\n",
       "      <td>Shewanellaceae</td>\n",
       "      <td>Shewanella</td>\n",
       "      <td>Alteromonadales</td>\n",
       "      <td>Proteobacteria</td>\n",
       "      <td>PCB06</td>\n",
       "      <td>9.4</td>\n",
       "      <td>4.0</td>\n",
       "      <td>1008.0</td>\n",
       "      <td>1.706308</td>\n",
       "      <td>31.0</td>\n",
       "      <td>sample</td>\n",
       "      <td>56.650126</td>\n",
       "      <td>7.5</td>\n",
       "      <td>High P</td>\n",
       "      <td>Low T</td>\n",
       "    </tr>\n",
       "    <tr>\n",
       "      <th>3</th>\n",
       "      <td>0.028631</td>\n",
       "      <td>Otu00004</td>\n",
       "      <td>10a</td>\n",
       "      <td>Gammaproteobacteria</td>\n",
       "      <td>Bacteria</td>\n",
       "      <td>Pseudoalteromonadaceae</td>\n",
       "      <td>Pseudoalteromonas</td>\n",
       "      <td>Alteromonadales</td>\n",
       "      <td>Proteobacteria</td>\n",
       "      <td>PCB06</td>\n",
       "      <td>9.4</td>\n",
       "      <td>4.0</td>\n",
       "      <td>1008.0</td>\n",
       "      <td>1.706308</td>\n",
       "      <td>31.0</td>\n",
       "      <td>sample</td>\n",
       "      <td>56.650126</td>\n",
       "      <td>7.5</td>\n",
       "      <td>High P</td>\n",
       "      <td>Low T</td>\n",
       "    </tr>\n",
       "    <tr>\n",
       "      <th>4</th>\n",
       "      <td>0.000231</td>\n",
       "      <td>Otu00005</td>\n",
       "      <td>10a</td>\n",
       "      <td>Gammaproteobacteria</td>\n",
       "      <td>Bacteria</td>\n",
       "      <td>Alcanivoracaceae</td>\n",
       "      <td>Alcanivorax</td>\n",
       "      <td>Oceanospirillales</td>\n",
       "      <td>Proteobacteria</td>\n",
       "      <td>PCB06</td>\n",
       "      <td>9.4</td>\n",
       "      <td>4.0</td>\n",
       "      <td>1008.0</td>\n",
       "      <td>1.706308</td>\n",
       "      <td>31.0</td>\n",
       "      <td>sample</td>\n",
       "      <td>56.650126</td>\n",
       "      <td>7.5</td>\n",
       "      <td>High P</td>\n",
       "      <td>Low T</td>\n",
       "    </tr>\n",
       "  </tbody>\n",
       "</table>\n",
       "</div>"
      ],
      "text/plain": [
       "   Abundance       OTU Sample                Class    Domain  \\\n",
       "0   0.224659  Otu00001    10a  Gammaproteobacteria  Bacteria   \n",
       "1   0.059340  Otu00002    10a  Gammaproteobacteria  Bacteria   \n",
       "2   0.150543  Otu00003    10a  Gammaproteobacteria  Bacteria   \n",
       "3   0.028631  Otu00004    10a  Gammaproteobacteria  Bacteria   \n",
       "4   0.000231  Otu00005    10a  Gammaproteobacteria  Bacteria   \n",
       "\n",
       "                   Family              Genus              Order  \\\n",
       "0          Halomonadaceae          Halomonas  Oceanospirillales   \n",
       "1           Colwelliaceae          Colwellia    Alteromonadales   \n",
       "2          Shewanellaceae         Shewanella    Alteromonadales   \n",
       "3  Pseudoalteromonadaceae  Pseudoalteromonas    Alteromonadales   \n",
       "4        Alcanivoracaceae        Alcanivorax  Oceanospirillales   \n",
       "\n",
       "           Phylum   Site    P    T      WD       TOC  Carb    Type        ALK  \\\n",
       "0  Proteobacteria  PCB06  9.4  4.0  1008.0  1.706308  31.0  sample  56.650126   \n",
       "1  Proteobacteria  PCB06  9.4  4.0  1008.0  1.706308  31.0  sample  56.650126   \n",
       "2  Proteobacteria  PCB06  9.4  4.0  1008.0  1.706308  31.0  sample  56.650126   \n",
       "3  Proteobacteria  PCB06  9.4  4.0  1008.0  1.706308  31.0  sample  56.650126   \n",
       "4  Proteobacteria  PCB06  9.4  4.0  1008.0  1.706308  31.0  sample  56.650126   \n",
       "\n",
       "   PAH Pressure_regime Temperature_regime  \n",
       "0  7.5          High P              Low T  \n",
       "1  7.5          High P              Low T  \n",
       "2  7.5          High P              Low T  \n",
       "3  7.5          High P              Low T  \n",
       "4  7.5          High P              Low T  "
      ]
     },
     "execution_count": 3,
     "metadata": {},
     "output_type": "execute_result"
    }
   ],
   "source": [
    "otus = pd.read_csv(\"Oil_DNA_0.03_combined_abundance.csv\",index_col=0)\n",
    "otus.loc[otus[otus['OTU']=='Otu00007'].index,['Order','Family','Genus']]=['Pseudomonadales','Pseudomonadaceae','Pseudomonas']\n",
    "otus.loc[otus[otus['OTU']=='Otu00014'].index,['Genus']]='Sulfitobacter'\n",
    "otus.loc[otus[otus['OTU']=='Otu00011'].index,['Genus']]='Pseudomonas'\n",
    "otus.loc[otus[otus['OTU']=='Otu00022'].index,['Genus']]='Olleya'\n",
    "otus.loc[otus[otus['OTU']=='Otu00001'].index,['Genus']]='Halomonas'\n",
    "otus.loc[otus[otus['OTU']=='Otu00023'].index,['Genus']]='Erythrobacter'\n",
    "otus.loc[otus[otus['OTU']=='Otu02030'].index,'Phylum'] = 'Crenarchaeota'\n",
    "otus.loc[otus[otus['OTU']=='Otu00392'].index,'Phylum'] ='Chloroflexi'\n",
    "otus.loc[otus[otus['OTU']=='Otu00123'].index,['Family','Genus']]=['Pseudoalteromonadaceae','Pseudoalteromonas']\n",
    "otus.loc[otus[otus['OTU']=='Otu00119'].index,['Genus']]='Colwellia'\n",
    "otus.head()\n"
   ]
  },
  {
   "cell_type": "code",
   "execution_count": 4,
   "metadata": {
    "collapsed": true
   },
   "outputs": [],
   "source": [
    "samples = otus[(otus['Type'].isin(['sample','dummy']))]\n",
    "samples_pivot = pd.pivot_table(samples,values='Abundance',columns='Sample',index='OTU',aggfunc='sum')"
   ]
  },
  {
   "cell_type": "code",
   "execution_count": 18,
   "metadata": {},
   "outputs": [
    {
     "data": {
      "text/plain": [
       "Index(['Abundance', 'OTU', 'Sample', 'Class', 'Domain', 'Family', 'Genus',\n",
       "       'Order', 'Phylum', 'Site', 'P', 'T', 'WD', 'TOC', 'Carb', 'Type', 'ALK',\n",
       "       'PAH', 'Pressure_regime', 'Temperature_regime'],\n",
       "      dtype='object')"
      ]
     },
     "execution_count": 18,
     "metadata": {},
     "output_type": "execute_result"
    }
   ],
   "source": [
    "samples.columns"
   ]
  },
  {
   "cell_type": "code",
   "execution_count": 5,
   "metadata": {},
   "outputs": [
    {
     "data": {
      "text/plain": [
       "3833"
      ]
     },
     "execution_count": 5,
     "metadata": {},
     "output_type": "execute_result"
    }
   ],
   "source": [
    "genera = []\n",
    "for i in samples_pivot.T.index:\n",
    "    genera += list(samples_pivot.T.loc[i][samples_pivot.T.loc[i]>0].index)\n",
    "genera = list(set(genera))\n",
    "genera.sort()\n",
    "len(genera)"
   ]
  },
  {
   "cell_type": "code",
   "execution_count": 6,
   "metadata": {},
   "outputs": [
    {
     "data": {
      "text/plain": [
       "(24, 3840)"
      ]
     },
     "execution_count": 6,
     "metadata": {},
     "output_type": "execute_result"
    }
   ],
   "source": [
    "samples_select = samples_pivot.loc[genera]\n",
    "samples_select_T = samples_select.T.reset_index()\n",
    "samples_merge = pd.merge(samples_select_T,samples[['Sample','T','P','ALK','PAH','TOC','WD']],how='left',on=['Sample'])\n",
    "samples_merge.drop_duplicates(inplace=True)\n",
    "samples_merge.shape"
   ]
  },
  {
   "cell_type": "code",
   "execution_count": 7,
   "metadata": {},
   "outputs": [
    {
     "data": {
      "text/plain": [
       "(24, 3833)"
      ]
     },
     "execution_count": 7,
     "metadata": {},
     "output_type": "execute_result"
    }
   ],
   "source": [
    "data=np.array(samples_merge.drop(['Sample','T','P','ALK','PAH','TOC','WD'],1))\n",
    "data.shape"
   ]
  },
  {
   "cell_type": "code",
   "execution_count": 457,
   "metadata": {
    "collapsed": true
   },
   "outputs": [],
   "source": [
    "#scaler = StandardScaler()\n",
    "#scaler.fit(samples_merge.drop(['Sample','T','P','ALK','PAH','WD'],1))\n",
    "#scaled_data = scaler.transform(samples_merge.drop(['Sample','T','P','ALK','PAH','WD'],1))\n",
    "#pca = PCA(n_components=2)\n",
    "#pca.fit(scaled_data)\n",
    "#x_pca = pca.transform(scaled_data)"
   ]
  },
  {
   "cell_type": "code",
   "execution_count": 37,
   "metadata": {
    "collapsed": true
   },
   "outputs": [],
   "source": [
    "n = [2,3,4,5,6,7,8,9,10,11,12,13,14,15]\n",
    "variance=[]\n",
    "for i in n:\n",
    "    pca = PCA(n_components=i)\n",
    "    pca.fit(data)\n",
    "    variance.append(1-np.sum(pca.explained_variance_ratio_))\n",
    "    "
   ]
  },
  {
   "cell_type": "code",
   "execution_count": 38,
   "metadata": {},
   "outputs": [
    {
     "data": {
      "text/plain": [
       "Text(0,0.5,'Fraction of variance not explained')"
      ]
     },
     "execution_count": 38,
     "metadata": {},
     "output_type": "execute_result"
    },
    {
     "data": {
      "image/png": "[encoded data removed]",
      "text/plain": [
       "<Figure size 432x288 with 1 Axes>"
      ]
     },
     "metadata": {
      "needs_background": "light"
     },
     "output_type": "display_data"
    }
   ],
   "source": [
    "plt.plot(n,variance)\n",
    "plt.xlabel(\"Number of dimensions\",fontsize=12)\n",
    "plt.ylabel(\"Fraction of variance not explained\",fontsize=12)\n",
    "#plt.savefig(\"PCA_screeplot.png\",dpi=300)"
   ]
  },
  {
   "cell_type": "code",
   "execution_count": 8,
   "metadata": {},
   "outputs": [
    {
     "data": {
      "text/plain": [
       "array([ 0.36507739,  0.21414389,  0.14808162,  0.09161929,  0.05519554,\n",
       "        0.04561594])"
      ]
     },
     "execution_count": 8,
     "metadata": {},
     "output_type": "execute_result"
    }
   ],
   "source": [
    "pca = PCA(n_components=6)\n",
    "pca.fit(data)\n",
    "x_pca = pca.transform(data)\n",
    "pca.explained_variance_ratio_"
   ]
  },
  {
   "cell_type": "code",
   "execution_count": 72,
   "metadata": {},
   "outputs": [
    {
     "data": {
      "text/plain": [
       "<matplotlib.colorbar.Colorbar at 0x110e91ef0>"
      ]
     },
     "execution_count": 72,
     "metadata": {},
     "output_type": "execute_result"
    },
    {
     "data": {
      "image/png": "[encoded data removed]",
      "text/plain": [
       "<Figure size 720x576 with 2 Axes>"
      ]
     },
     "metadata": {
      "needs_background": "light"
     },
     "output_type": "display_data"
    }
   ],
   "source": [
    "from mpl_toolkits.mplot3d import Axes3D\n",
    "fig = plt.figure(figsize=(10,8))\n",
    "ax = fig.add_subplot(111, projection='3d')\n",
    "\n",
    "im=ax.scatter(x_pca[:,0],x_pca[:,1],x_pca[:,2],c=np.array(-samples_merge['WD']),cmap='jet',s=100,edgecolors='black')\n",
    "ax.set_xlabel('PCA 1',fontsize=14)\n",
    "ax.set_ylabel('PCA 2',fontsize=14)\n",
    "ax.set_zlabel('PCA 3',fontsize=14)\n",
    "fig.colorbar(im, ax=ax,label='WD')\n",
    "#plt.savefig(\"PCA_allsamples.png\",dpi=300)"
   ]
  },
  {
   "cell_type": "code",
   "execution_count": 251,
   "metadata": {},
   "outputs": [
    {
     "data": {
      "text/plain": [
       "Index(['Sample', 'Otu00001', 'Otu00002', 'Otu00003', 'Otu00004', 'Otu00005',\n",
       "       'Otu00006', 'Otu00007', 'Otu00008', 'Otu00009',\n",
       "       ...\n",
       "       'ALK', 'PAH', 'TOC', 'WD', 'PCA1', 'PCA2', 'PCA3', 'PCA4', 'PCA5',\n",
       "       'PCA6'],\n",
       "      dtype='object', length=3217)"
      ]
     },
     "execution_count": 251,
     "metadata": {},
     "output_type": "execute_result"
    }
   ],
   "source": [
    "samples_merge.columns"
   ]
  },
  {
   "cell_type": "code",
   "execution_count": 255,
   "metadata": {
    "collapsed": true
   },
   "outputs": [],
   "source": [
    "df_comp = pd.DataFrame(pca.components_,columns=samples_merge.drop(['Sample','T','P','ALK','PAH','TOC','WD'],1).columns)\n",
    "#plt.figure(figsize=(20,6))\n",
    "#sns.heatmap(df_comp,cmap='jet')"
   ]
  },
  {
   "cell_type": "code",
   "execution_count": 9,
   "metadata": {
    "collapsed": true
   },
   "outputs": [],
   "source": [
    "samples_merge['PCA1']=x_pca[:,0]\n",
    "samples_merge['PCA2']=x_pca[:,1]\n",
    "samples_merge['PCA3']=x_pca[:,2]\n",
    "samples_merge['PCA4']=x_pca[:,3]\n",
    "samples_merge['PCA5']=x_pca[:,4]\n",
    "samples_merge['PCA6']=x_pca[:,5]\n"
   ]
  },
  {
   "cell_type": "code",
   "execution_count": 109,
   "metadata": {
    "collapsed": true
   },
   "outputs": [],
   "source": [
    "#samples = otus[(otus['Type'].isin(['sample','dummy']))][['Sample','T','P','ALK','PAH','TOC','WD']]\n",
    "#samples.drop_duplicates(inplace=True)\n",
    "#datatomodel = pd.merge(samples,samples_merge[['PCA1','PCA2','PCA3','WD']],on=['WD'])\n",
    "#datatomodel.drop([9,11,12,14],0,inplace=True)"
   ]
  },
  {
   "cell_type": "code",
   "execution_count": 10,
   "metadata": {
    "collapsed": true
   },
   "outputs": [],
   "source": [
    "datatomodel = samples_merge"
   ]
  },
  {
   "cell_type": "code",
   "execution_count": 24,
   "metadata": {
    "collapsed": true
   },
   "outputs": [],
   "source": [
    "test_all = pd.merge(datatomodel,samples_merge[['WD','PCA4','PCA5','PCA6']],on=['WD'])\n",
    "test_all.drop([9,11,12,14],0,inplace=True)"
   ]
  },
  {
   "cell_type": "code",
   "execution_count": 11,
   "metadata": {},
   "outputs": [
    {
     "name": "stdout",
     "output_type": "stream",
     "text": [
      "[ 0.03721161  0.09774117  0.25243585  0.02404008  0.31050945  0.27806184]\n",
      "0.583568083816\n",
      "16.2467509341\n"
     ]
    }
   ],
   "source": [
    "X_train, X_test, y_train, y_test = train_test_split(datatomodel[['PCA1','PCA2','PCA3','T','P','TOC']],\n",
    "                                                    datatomodel['PAH'],test_size=0, random_state=1)\n",
    "rf = RandomForestRegressor(n_estimators=10000,oob_score=True,min_samples_leaf=2,min_samples_split=5,max_features=3)\n",
    "rf.fit(X_train,y_train)\n",
    "#lr = LinearRegression()\n",
    "#lr.fit(X_train,y_train)\n",
    "#knn = KNeighborsRegressor(n_neighbors=2)\n",
    "#knn.fit(X_train,y_train)\n",
    "#dt = DecisionTreeRegressor()\n",
    "#dt.fit(X_train,y_train)\n",
    "#scores = cross_val_score(rf,X_train,y_train, cv=5)\n",
    "print(rf.feature_importances_)\n",
    "\n",
    "#y_pred = rf.predict(X_test)\n",
    "#print(mean_squared_error(y_test,y_pred))\n",
    "print(rf.oob_score_)\n",
    "print(np.mean(rf.oob_prediction_))"
   ]
  },
  {
   "cell_type": "code",
   "execution_count": 19,
   "metadata": {},
   "outputs": [
    {
     "data": {
      "text/plain": [
       "<matplotlib.collections.PathCollection at 0x1067f6668>"
      ]
     },
     "execution_count": 19,
     "metadata": {},
     "output_type": "execute_result"
    },
    {
     "data": {
      "image/png": "[encoded data removed]",
      "text/plain": [
       "<Figure size 432x288 with 1 Axes>"
      ]
     },
     "metadata": {
      "needs_background": "light"
     },
     "output_type": "display_data"
    }
   ],
   "source": [
    "plt.scatter(datatomodel['PCA2'],datatomodel['P'])"
   ]
  },
  {
   "cell_type": "code",
   "execution_count": 115,
   "metadata": {},
   "outputs": [
    {
     "data": {
      "text/plain": [
       "array([ 0.25612469,  0.02095158,  0.01556384,  0.66671271,  0.04064717])"
      ]
     },
     "execution_count": 115,
     "metadata": {},
     "output_type": "execute_result"
    }
   ],
   "source": [
    "dt.feature_importances_"
   ]
  },
  {
   "cell_type": "code",
   "execution_count": 90,
   "metadata": {},
   "outputs": [
    {
     "name": "stdout",
     "output_type": "stream",
     "text": [
      "37.8711657175\n",
      "83.2993569614\n",
      "6.8103057941\n"
     ]
    }
   ],
   "source": [
    "rf_pred = rf.predict(X_train)\n",
    "lr_pred = lr.predict(X_train)\n",
    "knn_pred = knn.predict(X_train)\n",
    "print(mean_squared_error(y_train,rf_pred))\n",
    "print(mean_squared_error(y_train,lr_pred))\n",
    "print(mean_squared_error(y_train,knn_pred))\n"
   ]
  },
  {
   "cell_type": "code",
   "execution_count": 259,
   "metadata": {
    "collapsed": true
   },
   "outputs": [],
   "source": [
    "def get_loadings(df_comp,otus,i,kind):\n",
    "    if kind == 'pos':\n",
    "        PCA_otus=df_comp.loc[i][df_comp.loc[i]>0.01].reset_index().sort_values(by=i,ascending=True)\n",
    "    else:\n",
    "        PCA_otus=df_comp.loc[i][df_comp.loc[i]<-0.01].reset_index().sort_values(by=i,ascending=True)\n",
    "    \n",
    "    PCA_otus.columns=['OTU','loading']\n",
    "    PCA_otus.columns=['OTU','loading']\n",
    "    families = []\n",
    "    genus = []\n",
    "    for i in list(PCA_otus['OTU']):\n",
    "        families += list(otus[otus['OTU']==i]['Family'].head(1))\n",
    "        genus += list(otus[otus['OTU']==i]['Genus'].head(1))\n",
    "    PCA_otus['Family']= families\n",
    "    PCA_otus['Genus']=genus\n",
    "    \n",
    "    return PCA_otus\n",
    "\n",
    "PCA1_otu_pos = get_loadings(df_comp,otus,0,'pos')\n",
    "PCA1_otu_neg = get_loadings(df_comp,otus,0,'neg')\n",
    "PCA2_otu_pos = get_loadings(df_comp,otus,1,'pos')\n",
    "PCA2_otu_neg = get_loadings(df_comp,otus,1,'neg')\n",
    "PCA3_otu_pos = get_loadings(df_comp,otus,2,'pos')\n",
    "PCA3_otu_neg = get_loadings(df_comp,otus,2,'neg')"
   ]
  },
  {
   "cell_type": "code",
   "execution_count": 218,
   "metadata": {
    "collapsed": true
   },
   "outputs": [],
   "source": [
    "PCA3_otu_pos.loc[12] = ['Otu00123',0.0152521,'Pseudoalteromonadaceae','Pseudoalteromonas']"
   ]
  },
  {
   "cell_type": "code",
   "execution_count": 233,
   "metadata": {
    "collapsed": true
   },
   "outputs": [],
   "source": [
    "def plot_heatmapPCA(PCA_otu_pos,PCA_otu_neg,col):\n",
    "    PCA_otu= PCA_otu_pos.append(PCA_otu_neg)\n",
    "    PCA_otu_T = PCA_otu[[col,'loading']].T\n",
    "    PCA_otu_T.columns = PCA_otu_T.loc[col]\n",
    "    PCA_otu_T.drop(col,0,inplace=True)\n",
    "    return PCA_otu_T\n",
    "   "
   ]
  },
  {
   "cell_type": "code",
   "execution_count": 228,
   "metadata": {
    "collapsed": true
   },
   "outputs": [],
   "source": [
    "PCA2_otu_pos.loc[9] = ['Otu00029',0.0627701,'Flavobacteriaceae','Xanthomarina']"
   ]
  },
  {
   "cell_type": "code",
   "execution_count": 229,
   "metadata": {
    "scrolled": false
   },
   "outputs": [
    {
     "data": {
      "text/plain": [
       "Text(0.5,14.0938,'OTUs that have most significant loading factors')"
      ]
     },
     "execution_count": 229,
     "metadata": {},
     "output_type": "execute_result"
    },
    {
     "data": {
      "image/png": "[encoded data removed]",
      "text/plain": [
       "<Figure size 864x288 with 2 Axes>"
      ]
     },
     "metadata": {
      "needs_background": "light"
     },
     "output_type": "display_data"
    }
   ],
   "source": [
    "plot_heatmapPCA(PCA2_otu_pos,PCA2_otu_neg,'Genus')\n",
    "plt.xlabel(\"OTUs that have most significant loading factors\",labelpad=3)"
   ]
  },
  {
   "cell_type": "code",
   "execution_count": 192,
   "metadata": {
    "collapsed": true
   },
   "outputs": [],
   "source": [
    "datatomodel=datatomodel.sort_values(by='WD',ascending=False)"
   ]
  },
  {
   "cell_type": "code",
   "execution_count": 263,
   "metadata": {},
   "outputs": [
    {
     "data": {
      "image/png": "[encoded data removed]",
      "text/plain": [
       "<Figure size 864x864 with 3 Axes>"
      ]
     },
     "metadata": {
      "needs_background": "light"
     },
     "output_type": "display_data"
    }
   ],
   "source": [
    "plt.figure(figsize=(12,12))\n",
    "#f, (a0, a1) = plt.subplots(1,2, gridspec_kw = {'width_ratios':[3, 1]})\n",
    "\n",
    "plt.subplot(2,1,1)\n",
    "plt.barh(test_all['Sample'],test_all['PCA6'],color=np.repeat(['blue','red'],[14,10]))\n",
    "plt.xlabel(\"PCA6 eigen values\",fontsize=14)\n",
    "#f=plt.yticks(np.arange(0,24),datatomodel['Sample'].astype(int))\n",
    "plt.ylabel('Water depth (m)',fontsize=14)\n",
    "plt.subplot(2,1,2)\n",
    "#plt.figure(figsize=(12,4))\n",
    "sns.heatmap(plot_heatmapPCA(PCA3_otu_neg,PCA3_otu_pos,'Genus').astype(float),cmap='jet',linecolor='grey',linewidths=0.1)\n",
    "plt.xlabel(\"OTUs that have most significant loading factors\",labelpad=3)\n",
    "plt.savefig(\"PCA6_eigenvalues\",dpi=300)"
   ]
  },
  {
   "cell_type": "code",
   "execution_count": 52,
   "metadata": {
    "collapsed": true
   },
   "outputs": [],
   "source": [
    "alk_features = np.sort(rf.feature_importances_)"
   ]
  },
  {
   "cell_type": "code",
   "execution_count": 59,
   "metadata": {
    "collapsed": true
   },
   "outputs": [],
   "source": [
    "pah_features = np.sort(rf.feature_importances_)"
   ]
  },
  {
   "cell_type": "code",
   "execution_count": 65,
   "metadata": {},
   "outputs": [
    {
     "data": {
      "text/plain": [
       "<matplotlib.collections.PathCollection at 0x110c71c88>"
      ]
     },
     "execution_count": 65,
     "metadata": {},
     "output_type": "execute_result"
    },
    {
     "data": {
      "image/png": "[encoded data removed]",
      "text/plain": [
       "<Figure size 432x288 with 1 Axes>"
      ]
     },
     "metadata": {
      "needs_background": "light"
     },
     "output_type": "display_data"
    }
   ],
   "source": [
    "plt.scatter(datatomodel['TOC'],datatomodel['PAH'])"
   ]
  },
  {
   "cell_type": "code",
   "execution_count": 60,
   "metadata": {},
   "outputs": [
    {
     "data": {
      "image/png": "[encoded data removed]",
      "text/plain": [
       "<Figure size 864x360 with 2 Axes>"
      ]
     },
     "metadata": {
      "needs_background": "light"
     },
     "output_type": "display_data"
    }
   ],
   "source": [
    "plt.figure(figsize=(12,5))\n",
    "plt.subplot(1,2,1)\n",
    "plt.barh(['TOC','P','PCA_3','PCA_1','PCA_2','T'],alk_features,height=[0.5])\n",
    "plt.xlabel('Feature importance',fontsize=12)\n",
    "plt.xticks(np.arange(5)/10,np.arange(5)/10)\n",
    "plt.ylabel(\"Features\",fontsize=12)\n",
    "plt.title(\"Model results for n-alkanes\",fontsize=14)\n",
    "plt.subplot(1,2,2)\n",
    "plt.barh(['PCA_1','T','PCA_2','PCA_3','TOC','P'],pah_features,height=[0.5])\n",
    "plt.xlabel('Feature importance',fontsize=12)\n",
    "plt.title(\"Model results for PAHs\",fontsize=14)\n",
    "plt.savefig(\"Model_features.png\",bbox_inches='tight',dpi=300)"
   ]
  },
  {
   "cell_type": "code",
   "execution_count": 726,
   "metadata": {
    "collapsed": true
   },
   "outputs": [],
   "source": [
    "alk_features = np.sort(rf.feature_importances_)"
   ]
  },
  {
   "cell_type": "code",
   "execution_count": 498,
   "metadata": {
    "collapsed": true
   },
   "outputs": [],
   "source": [
    "OTU_mat = samples_merge.drop(['ALK','PAH','T','P'],1).set_index('Sample').as_matrix()"
   ]
  },
  {
   "cell_type": "code",
   "execution_count": 502,
   "metadata": {
    "collapsed": true
   },
   "outputs": [],
   "source": [
    "from sklearn.metrics.pairwise import pairwise_distances\n",
    "import skbio \n",
    "from sklearn import manifold\n",
    "from skbio import DistanceMatrix\n",
    "bc_dm = pairwise_distances(OTU_mat,metric=\"braycurtis\")\n",
    "dm = DistanceMatrix(bc_dm)"
   ]
  },
  {
   "cell_type": "code",
   "execution_count": 503,
   "metadata": {
    "collapsed": true
   },
   "outputs": [],
   "source": [
    "mds = manifold.MDS(n_components=2, max_iter=3000, eps=1e-9, random_state=101,\n",
    "                       dissimilarity=\"precomputed\", n_jobs=1)"
   ]
  },
  {
   "cell_type": "code",
   "execution_count": 510,
   "metadata": {
    "collapsed": true
   },
   "outputs": [],
   "source": [
    "nmds = manifold.MDS(n_components=2, metric=False, max_iter=3000, eps=1e-12,\n",
    "                        dissimilarity=\"precomputed\", random_state=101, n_jobs=1,\n",
    "                        n_init=1)\n",
    "npos = nmds.fit_transform(bc_dm, init=pos)"
   ]
  },
  {
   "cell_type": "code",
   "execution_count": 504,
   "metadata": {
    "collapsed": true
   },
   "outputs": [],
   "source": [
    "pos = mds.fit(bc_dm).embedding_"
   ]
  },
  {
   "cell_type": "code",
   "execution_count": 520,
   "metadata": {},
   "outputs": [
    {
     "data": {
      "text/plain": [
       "0"
      ]
     },
     "execution_count": 520,
     "metadata": {},
     "output_type": "execute_result"
    }
   ],
   "source": [
    "nmds."
   ]
  },
  {
   "cell_type": "code",
   "execution_count": null,
   "metadata": {
    "collapsed": true
   },
   "outputs": [],
   "source": []
  },
  {
   "cell_type": "markdown",
   "metadata": {},
   "source": [
    "### Model with genus abudant data <a class=\"anchor\" id=\"V2\"></a>"
   ]
  },
  {
   "cell_type": "code",
   "execution_count": 3,
   "metadata": {},
   "outputs": [
    {
     "data": {
      "text/html": [
       "<div>\n",
       "<style scoped>\n",
       "    .dataframe tbody tr th:only-of-type {\n",
       "        vertical-align: middle;\n",
       "    }\n",
       "\n",
       "    .dataframe tbody tr th {\n",
       "        vertical-align: top;\n",
       "    }\n",
       "\n",
       "    .dataframe thead th {\n",
       "        text-align: right;\n",
       "    }\n",
       "</style>\n",
       "<table border=\"1\" class=\"dataframe\">\n",
       "  <thead>\n",
       "    <tr style=\"text-align: right;\">\n",
       "      <th></th>\n",
       "      <th>OTU</th>\n",
       "      <th>Sample</th>\n",
       "      <th>Abundance</th>\n",
       "      <th>Group</th>\n",
       "      <th>Site</th>\n",
       "      <th>P</th>\n",
       "      <th>T</th>\n",
       "      <th>WD</th>\n",
       "      <th>TOC</th>\n",
       "      <th>Carb</th>\n",
       "      <th>...</th>\n",
       "      <th>ALK</th>\n",
       "      <th>PAH</th>\n",
       "      <th>Pressure_regime</th>\n",
       "      <th>Temperature_regime</th>\n",
       "      <th>Kingdom</th>\n",
       "      <th>Phylum</th>\n",
       "      <th>Class</th>\n",
       "      <th>Order</th>\n",
       "      <th>Family</th>\n",
       "      <th>Genus</th>\n",
       "    </tr>\n",
       "  </thead>\n",
       "  <tbody>\n",
       "    <tr>\n",
       "      <th>0</th>\n",
       "      <td>Otu02939</td>\n",
       "      <td>8orig</td>\n",
       "      <td>0.000564</td>\n",
       "      <td>8orig</td>\n",
       "      <td>SL9150</td>\n",
       "      <td>2.5</td>\n",
       "      <td>10.0</td>\n",
       "      <td>251.0</td>\n",
       "      <td>2.214079</td>\n",
       "      <td>32.1</td>\n",
       "      <td>...</td>\n",
       "      <td>NaN</td>\n",
       "      <td>NaN</td>\n",
       "      <td>Low P</td>\n",
       "      <td>High T</td>\n",
       "      <td>Bacteria</td>\n",
       "      <td>Planctomycetes</td>\n",
       "      <td>028H05-P-BN-P5</td>\n",
       "      <td>028H05-P-BN-P5_or</td>\n",
       "      <td>028H05-P-BN-P5_fa</td>\n",
       "      <td>028H05-P-BN-P5_ge</td>\n",
       "    </tr>\n",
       "    <tr>\n",
       "      <th>1</th>\n",
       "      <td>Otu02939</td>\n",
       "      <td>13c</td>\n",
       "      <td>0.000473</td>\n",
       "      <td>13c</td>\n",
       "      <td>DSH10</td>\n",
       "      <td>0.1</td>\n",
       "      <td>4.0</td>\n",
       "      <td>1520.0</td>\n",
       "      <td>1.551581</td>\n",
       "      <td>20.3</td>\n",
       "      <td>...</td>\n",
       "      <td>0.0</td>\n",
       "      <td>0.000000</td>\n",
       "      <td>High P</td>\n",
       "      <td>Low T</td>\n",
       "      <td>Bacteria</td>\n",
       "      <td>Planctomycetes</td>\n",
       "      <td>028H05-P-BN-P5</td>\n",
       "      <td>028H05-P-BN-P5_or</td>\n",
       "      <td>028H05-P-BN-P5_fa</td>\n",
       "      <td>028H05-P-BN-P5_ge</td>\n",
       "    </tr>\n",
       "    <tr>\n",
       "      <th>2</th>\n",
       "      <td>Otu02939</td>\n",
       "      <td>8c</td>\n",
       "      <td>0.000325</td>\n",
       "      <td>8c</td>\n",
       "      <td>SL9150</td>\n",
       "      <td>0.1</td>\n",
       "      <td>4.0</td>\n",
       "      <td>251.0</td>\n",
       "      <td>2.214079</td>\n",
       "      <td>32.1</td>\n",
       "      <td>...</td>\n",
       "      <td>0.0</td>\n",
       "      <td>0.000000</td>\n",
       "      <td>Low P</td>\n",
       "      <td>High T</td>\n",
       "      <td>Bacteria</td>\n",
       "      <td>Planctomycetes</td>\n",
       "      <td>028H05-P-BN-P5</td>\n",
       "      <td>028H05-P-BN-P5_or</td>\n",
       "      <td>028H05-P-BN-P5_fa</td>\n",
       "      <td>028H05-P-BN-P5_ge</td>\n",
       "    </tr>\n",
       "    <tr>\n",
       "      <th>3</th>\n",
       "      <td>Otu02939</td>\n",
       "      <td>4orig</td>\n",
       "      <td>0.000261</td>\n",
       "      <td>4orig</td>\n",
       "      <td>SL1460</td>\n",
       "      <td>2.5</td>\n",
       "      <td>20.0</td>\n",
       "      <td>212.0</td>\n",
       "      <td>1.433782</td>\n",
       "      <td>43.8</td>\n",
       "      <td>...</td>\n",
       "      <td>NaN</td>\n",
       "      <td>NaN</td>\n",
       "      <td>Low P</td>\n",
       "      <td>High T</td>\n",
       "      <td>Bacteria</td>\n",
       "      <td>Planctomycetes</td>\n",
       "      <td>028H05-P-BN-P5</td>\n",
       "      <td>028H05-P-BN-P5_or</td>\n",
       "      <td>028H05-P-BN-P5_fa</td>\n",
       "      <td>028H05-P-BN-P5_ge</td>\n",
       "    </tr>\n",
       "    <tr>\n",
       "      <th>4</th>\n",
       "      <td>Otu02939</td>\n",
       "      <td>1b</td>\n",
       "      <td>0.000187</td>\n",
       "      <td>1b</td>\n",
       "      <td>DSH08</td>\n",
       "      <td>11.1</td>\n",
       "      <td>4.0</td>\n",
       "      <td>1127.0</td>\n",
       "      <td>1.959001</td>\n",
       "      <td>26.1</td>\n",
       "      <td>...</td>\n",
       "      <td>60.0</td>\n",
       "      <td>19.525762</td>\n",
       "      <td>High P</td>\n",
       "      <td>Low T</td>\n",
       "      <td>Bacteria</td>\n",
       "      <td>Planctomycetes</td>\n",
       "      <td>028H05-P-BN-P5</td>\n",
       "      <td>028H05-P-BN-P5_or</td>\n",
       "      <td>028H05-P-BN-P5_fa</td>\n",
       "      <td>028H05-P-BN-P5_ge</td>\n",
       "    </tr>\n",
       "  </tbody>\n",
       "</table>\n",
       "<p>5 rows × 21 columns</p>\n",
       "</div>"
      ],
      "text/plain": [
       "        OTU Sample  Abundance  Group    Site     P     T      WD       TOC  \\\n",
       "0  Otu02939  8orig   0.000564  8orig  SL9150   2.5  10.0   251.0  2.214079   \n",
       "1  Otu02939    13c   0.000473    13c   DSH10   0.1   4.0  1520.0  1.551581   \n",
       "2  Otu02939     8c   0.000325     8c  SL9150   0.1   4.0   251.0  2.214079   \n",
       "3  Otu02939  4orig   0.000261  4orig  SL1460   2.5  20.0   212.0  1.433782   \n",
       "4  Otu02939     1b   0.000187     1b   DSH08  11.1   4.0  1127.0  1.959001   \n",
       "\n",
       "   Carb        ...           ALK        PAH  Pressure_regime  \\\n",
       "0  32.1        ...           NaN        NaN            Low P   \n",
       "1  20.3        ...           0.0   0.000000           High P   \n",
       "2  32.1        ...           0.0   0.000000            Low P   \n",
       "3  43.8        ...           NaN        NaN            Low P   \n",
       "4  26.1        ...          60.0  19.525762           High P   \n",
       "\n",
       "  Temperature_regime   Kingdom          Phylum           Class  \\\n",
       "0             High T  Bacteria  Planctomycetes  028H05-P-BN-P5   \n",
       "1              Low T  Bacteria  Planctomycetes  028H05-P-BN-P5   \n",
       "2             High T  Bacteria  Planctomycetes  028H05-P-BN-P5   \n",
       "3             High T  Bacteria  Planctomycetes  028H05-P-BN-P5   \n",
       "4              Low T  Bacteria  Planctomycetes  028H05-P-BN-P5   \n",
       "\n",
       "               Order             Family              Genus  \n",
       "0  028H05-P-BN-P5_or  028H05-P-BN-P5_fa  028H05-P-BN-P5_ge  \n",
       "1  028H05-P-BN-P5_or  028H05-P-BN-P5_fa  028H05-P-BN-P5_ge  \n",
       "2  028H05-P-BN-P5_or  028H05-P-BN-P5_fa  028H05-P-BN-P5_ge  \n",
       "3  028H05-P-BN-P5_or  028H05-P-BN-P5_fa  028H05-P-BN-P5_ge  \n",
       "4  028H05-P-BN-P5_or  028H05-P-BN-P5_fa  028H05-P-BN-P5_ge  \n",
       "\n",
       "[5 rows x 21 columns]"
      ]
     },
     "execution_count": 3,
     "metadata": {},
     "output_type": "execute_result"
    }
   ],
   "source": [
    "# Import abundance data (calculated from R)\n",
    "genus = pd.read_csv('oil_genus_all.csv',index_col=0)\n",
    "genus_nona = genus.fillna(0)\n",
    "genus.head()"
   ]
  },
  {
   "cell_type": "code",
   "execution_count": 286,
   "metadata": {
    "collapsed": true
   },
   "outputs": [],
   "source": [
    "samples = genus[(genus['Type'].isin(['sample','dummy']))&(genus['WD']>900)&(genus['Genus']!='unknown')]\n",
    "samples_pivot = pd.pivot_table(samples,values='Abundance',columns='Sample',index='Genus',aggfunc='sum')"
   ]
  },
  {
   "cell_type": "code",
   "execution_count": 288,
   "metadata": {
    "collapsed": true
   },
   "outputs": [],
   "source": [
    "genera = []\n",
    "for i in samples_pivot.T.index:\n",
    "    genera += list(samples_pivot.T.loc[i][samples_pivot.T.loc[i]>0.01].index)\n",
    "genera = list(set(genera))\n",
    "genera.sort()"
   ]
  },
  {
   "cell_type": "code",
   "execution_count": 289,
   "metadata": {},
   "outputs": [
    {
     "data": {
      "text/plain": [
       "20"
      ]
     },
     "execution_count": 289,
     "metadata": {},
     "output_type": "execute_result"
    }
   ],
   "source": [
    "len(genera)"
   ]
  },
  {
   "cell_type": "code",
   "execution_count": 290,
   "metadata": {
    "collapsed": true
   },
   "outputs": [],
   "source": [
    "samples_select = samples_pivot.loc[genera]\n",
    "samples_select_T = samples_select.T.reset_index()\n",
    "samples_merge = pd.merge(samples_select_T,samples[['Sample','T','P','ALK','PAH','WD']],how='left',on=['Sample'])\n",
    "samples_merge.drop_duplicates(inplace=True)\n",
    "samples_merge.shape"
   ]
  },
  {
   "cell_type": "code",
   "execution_count": 293,
   "metadata": {},
   "outputs": [
    {
     "data": {
      "text/plain": [
       "Text(0,0.5,'Second Principal Component')"
      ]
     },
     "execution_count": 293,
     "metadata": {},
     "output_type": "execute_result"
    },
    {
     "data": {
      "image/png": "[encoded data removed]",
      "text/plain": [
       "<Figure size 720x432 with 1 Axes>"
      ]
     },
     "metadata": {
      "needs_background": "light"
     },
     "output_type": "display_data"
    }
   ],
   "source": [
    "scaler = StandardScaler()\n",
    "scaler.fit(samples_merge.drop(['Sample','T','P','ALK','PAH','WD'],1))\n",
    "scaled_data = scaler.transform(samples_merge.drop(['Sample','T','P','ALK','PAH','WD'],1))\n",
    "pca = PCA(n_components=2)\n",
    "pca.fit(scaled_data)\n",
    "x_pca = pca.transform(scaled_data)\n",
    "plt.figure(figsize=(10,6))\n",
    "plt.scatter(x_pca[:,0],x_pca[:,1],c=np.array(-samples_merge['WD']),cmap='jet')\n",
    "plt.xlabel('First principal component')\n",
    "plt.ylabel('Second Principal Component')"
   ]
  },
  {
   "cell_type": "code",
   "execution_count": 294,
   "metadata": {
    "collapsed": true
   },
   "outputs": [],
   "source": [
    "df_comp = pd.DataFrame(pca.components_,columns=samples_merge.drop(['Sample','T','P','ALK','PAH','WD'],1).columns)"
   ]
  },
  {
   "cell_type": "code",
   "execution_count": 296,
   "metadata": {},
   "outputs": [
    {
     "data": {
      "text/plain": [
       "Halomonadaceae_ge    0.394057\n",
       "Idiomarina           0.417979\n",
       "Moritella            0.312068\n",
       "Nitrincola           0.337766\n",
       "Shewanella           0.319609\n",
       "Name: 1, dtype: float64"
      ]
     },
     "execution_count": 296,
     "metadata": {},
     "output_type": "execute_result"
    }
   ],
   "source": [
    "df_comp.loc[1][df_comp.loc[1]>0.3]\n"
   ]
  },
  {
   "cell_type": "code",
   "execution_count": 297,
   "metadata": {},
   "outputs": [
    {
     "data": {
      "text/plain": [
       "Alcanivorax         -0.240045\n",
       "Amphritea           -0.257084\n",
       "Pseudoalteromonas   -0.233098\n",
       "Name: 1, dtype: float64"
      ]
     },
     "execution_count": 297,
     "metadata": {},
     "output_type": "execute_result"
    }
   ],
   "source": [
    "df_comp.loc[1][df_comp.loc[1]<-0.2]\n"
   ]
  },
  {
   "cell_type": "code",
   "execution_count": 298,
   "metadata": {},
   "outputs": [
    {
     "data": {
      "text/plain": [
       "<matplotlib.axes._subplots.AxesSubplot at 0x11cd3deb8>"
      ]
     },
     "execution_count": 298,
     "metadata": {},
     "output_type": "execute_result"
    },
    {
     "data": {
      "image/png": "[encoded data removed]",
      "text/plain": [
       "<Figure size 1440x432 with 2 Axes>"
      ]
     },
     "metadata": {
      "needs_background": "light"
     },
     "output_type": "display_data"
    }
   ],
   "source": [
    "plt.figure(figsize=(20,6))\n",
    "sns.heatmap(df_comp,cmap='jet')"
   ]
  },
  {
   "cell_type": "code",
   "execution_count": 299,
   "metadata": {
    "collapsed": true
   },
   "outputs": [],
   "source": [
    "samples_merge['PCA1']=x_pca[:,0]\n",
    "samples_merge['PCA2']=x_pca[:,1]"
   ]
  },
  {
   "cell_type": "code",
   "execution_count": 304,
   "metadata": {
    "collapsed": true
   },
   "outputs": [],
   "source": [
    "X_train, X_test, y_train, y_test = train_test_split(samples_merge[['PCA1','PCA2','P']], samples_merge['PAH'],\n",
    "                                                                  test_size=0, random_state=42)"
   ]
  },
  {
   "cell_type": "code",
   "execution_count": 305,
   "metadata": {},
   "outputs": [
    {
     "data": {
      "text/plain": [
       "RandomForestRegressor(bootstrap=True, criterion='mse', max_depth=None,\n",
       "           max_features='auto', max_leaf_nodes=None,\n",
       "           min_impurity_decrease=0.0, min_impurity_split=None,\n",
       "           min_samples_leaf=1, min_samples_split=2,\n",
       "           min_weight_fraction_leaf=0.0, n_estimators=5000, n_jobs=1,\n",
       "           oob_score=True, random_state=None, verbose=0, warm_start=False)"
      ]
     },
     "execution_count": 305,
     "metadata": {},
     "output_type": "execute_result"
    }
   ],
   "source": [
    "rf = RandomForestRegressor(n_estimators=5000,oob_score=True)\n",
    "rf.fit(X_train,y_train)\n"
   ]
  },
  {
   "cell_type": "code",
   "execution_count": 306,
   "metadata": {},
   "outputs": [
    {
     "data": {
      "text/plain": [
       "array([ 0.21543356,  0.12062637,  0.66394006])"
      ]
     },
     "execution_count": 306,
     "metadata": {},
     "output_type": "execute_result"
    }
   ],
   "source": [
    "rf.feature_importances_"
   ]
  },
  {
   "cell_type": "code",
   "execution_count": 307,
   "metadata": {},
   "outputs": [
    {
     "name": "stdout",
     "output_type": "stream",
     "text": [
      "0.588243202189\n"
     ]
    }
   ],
   "source": [
    "#y_pred = rf.predict(X_test)\n",
    "#print(mean_squared_error(y_test,y_pred))\n",
    "print(rf.oob_score_)"
   ]
  }
 ],
 "metadata": {
  "kernelspec": {
   "display_name": "Python [default]",
   "language": "python",
   "name": "python3"
  },
  "language_info": {
   "codemirror_mode": {
    "name": "ipython",
    "version": 3
   },
   "file_extension": ".py",
   "mimetype": "text/x-python",
   "name": "python",
   "nbconvert_exporter": "python",
   "pygments_lexer": "ipython3",
   "version": "3.6.3"
  }
 },
 "nbformat": 4,
 "nbformat_minor": 2
}
